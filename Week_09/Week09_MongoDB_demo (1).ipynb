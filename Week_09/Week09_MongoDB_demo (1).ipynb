{
  "cells": [
    {
      "cell_type": "markdown",
      "metadata": {
        "id": "qLjL3V8jnrI9"
      },
      "source": [
        "# Week09: MongoDB"
      ]
    },
    {
      "cell_type": "markdown",
      "metadata": {
        "id": "4JySa7vEnu5U"
      },
      "source": [
        "## Overview\n",
        "\n",
        "In this demo, we create a new database on a cloud MongoDB, and populate it with some data.\n",
        "\n",
        "https://cloud.mongodb.com/\n",
        "\n",
        "\n"
      ]
    },
    {
      "cell_type": "markdown",
      "metadata": {
        "id": "a53U1GBTIm-B"
      },
      "source": [
        "## Create new organization\n",
        "\n",
        "1. Login MongoDB\n",
        "2. Go to View all organization (from the list of organization at the top left)\n",
        "3. Click \"Create new organization\"\n",
        "4. Fill the form (e.g. new organization name), and create new organization\n",
        "5. Select the organization\n",
        "\n",
        "\n",
        "\n"
      ]
    },
    {
      "cell_type": "markdown",
      "metadata": {
        "id": "d-oVhsWAJTgG"
      },
      "source": [
        "## Create a new project\n",
        "\n",
        "In organization top menu:\n",
        "\n",
        "1. Select projects\n",
        "2. Select New project, fill the name, create\n",
        "\n"
      ]
    },
    {
      "cell_type": "markdown",
      "metadata": {
        "id": "eN61obuvJ5BT"
      },
      "source": [
        "## Create new database\n",
        "\n",
        "In the project page:\n",
        "1. \"Build a Database\"\n",
        "2. Select \"M0\" (which is free)\n",
        "3. Click \"Create Cluster\"\n",
        "4. Fill username and password, click \"Create user\"\n",
        "5. Select IP address\n",
        "6. Create (then wait for provision)\n",
        "\n"
      ]
    },
    {
      "cell_type": "markdown",
      "metadata": {
        "id": "t34lhSRXKnVe"
      },
      "source": [
        "## Create collection\n",
        "\n",
        "1. In the database page, click \"Browse Collections\"\n",
        "2. Select \"Create new collection\" (or \"Add My Own Data\")\n",
        "2. Fill database name and collection name (e.g. \"gv918-2023\" and \"test\")"
      ]
    },
    {
      "cell_type": "markdown",
      "metadata": {
        "id": "2Hgj6q-9L2bZ"
      },
      "source": [
        "## Connect to the database\n",
        "\n",
        "1. Now, going back to the cluster top page\n",
        "2. Click \"Connect\"\n",
        "3. Slect \"Connect your application\"\n",
        "4. Select Python and 3.6 or later, tick \"View Full Code Sample\"\n",
        "5. Copy and paste the line of `uri = ...`, replace `<password>` with actual password"
      ]
    },
    {
      "cell_type": "markdown",
      "metadata": {
        "id": "C9ioLiQwNZBh"
      },
      "source": [
        "## Whitelist the IP of Colab\n",
        "\n",
        "1. Connect colab, run the following"
      ]
    },
    {
      "cell_type": "code",
      "execution_count": 8,
      "metadata": {
        "id": "JNJ1O4_DNYei"
      },
      "outputs": [
        {
          "name": "stdout",
          "output_type": "stream",
          "text": [
            "155.245.155.209"
          ]
        }
      ],
      "source": [
        "!curl ipecho.net/plain"
      ]
    },
    {
      "cell_type": "markdown",
      "metadata": {
        "id": "L85tNd1oNhzk"
      },
      "source": [
        "2. Go back to MongoDB page\n",
        "3. Select Network Access on the right\n",
        "4. Add IP address from the 1."
      ]
    },
    {
      "cell_type": "markdown",
      "metadata": {
        "id": "ocwGz3PHoA5b"
      },
      "source": [
        "## Import packages"
      ]
    },
    {
      "cell_type": "code",
      "execution_count": null,
      "metadata": {
        "id": "TkcTjGLagX31"
      },
      "outputs": [],
      "source": [
        "!pip install pymongo"
      ]
    },
    {
      "cell_type": "code",
      "execution_count": 5,
      "metadata": {
        "id": "YjHmYAZbVuip"
      },
      "outputs": [],
      "source": [
        "import pymongo\n",
        "from pymongo.mongo_client import MongoClient\n",
        "import pandas as pd"
      ]
    },
    {
      "cell_type": "markdown",
      "metadata": {
        "id": "bfKYvd2QDBW5"
      },
      "source": [
        "## Connect to the database"
      ]
    },
    {
      "cell_type": "code",
      "execution_count": 6,
      "metadata": {
        "id": "XiyZ4vekfyQl"
      },
      "outputs": [],
      "source": [
        "uri = \"mongodb+srv://reddylee:<A2DLI83b3R3qAuNu>@reddy.d9kixzd.mongodb.net/?retryWrites=true&w=majority\"\n"
      ]
    },
    {
      "cell_type": "code",
      "execution_count": 7,
      "metadata": {
        "id": "LP3uIAMLM4mt"
      },
      "outputs": [],
      "source": [
        "cluster = MongoClient(uri)\n"
      ]
    },
    {
      "cell_type": "code",
      "execution_count": 33,
      "metadata": {
        "id": "6FhE_Wb2WJAG"
      },
      "outputs": [],
      "source": [
        "db = cluster['sample_training']\n",
        "collection = db['posts']"
      ]
    },
    {
      "cell_type": "code",
      "execution_count": 34,
      "metadata": {
        "id": "fIYOHLQNc3-P"
      },
      "outputs": [
        {
          "ename": "OperationFailure",
          "evalue": "bad auth : authentication failed, full error: {'ok': 0, 'errmsg': 'bad auth : authentication failed', 'code': 8000, 'codeName': 'AtlasError'}",
          "output_type": "error",
          "traceback": [
            "\u001b[0;31m---------------------------------------------------------------------------\u001b[0m",
            "\u001b[0;31mOperationFailure\u001b[0m                          Traceback (most recent call last)",
            "\u001b[1;32m/Users/qingengdu/MyEssex/GV918-2023/Week_09/Week09_MongoDB_demo (1).ipynb Cell 18\u001b[0m line \u001b[0;36m1\n\u001b[0;32m----> <a href='vscode-notebook-cell:/Users/qingengdu/MyEssex/GV918-2023/Week_09/Week09_MongoDB_demo%20%281%29.ipynb#X23sZmlsZQ%3D%3D?line=0'>1</a>\u001b[0m cluster\u001b[39m.\u001b[39;49mserver_info()\n",
            "File \u001b[0;32m~/MyEssex/GV918-2023/venv/lib/python3.12/site-packages/pymongo/mongo_client.py:1890\u001b[0m, in \u001b[0;36mMongoClient.server_info\u001b[0;34m(self, session)\u001b[0m\n\u001b[1;32m   1878\u001b[0m \u001b[39mdef\u001b[39;00m \u001b[39mserver_info\u001b[39m(\u001b[39mself\u001b[39m, session: Optional[client_session\u001b[39m.\u001b[39mClientSession] \u001b[39m=\u001b[39m \u001b[39mNone\u001b[39;00m) \u001b[39m-\u001b[39m\u001b[39m>\u001b[39m \u001b[39mdict\u001b[39m[\u001b[39mstr\u001b[39m, Any]:\n\u001b[1;32m   1879\u001b[0m \u001b[39m    \u001b[39m\u001b[39m\"\"\"Get information about the MongoDB server we're connected to.\u001b[39;00m\n\u001b[1;32m   1880\u001b[0m \n\u001b[1;32m   1881\u001b[0m \u001b[39m    :Parameters:\u001b[39;00m\n\u001b[0;32m   (...)\u001b[0m\n\u001b[1;32m   1886\u001b[0m \u001b[39m       Added ``session`` parameter.\u001b[39;00m\n\u001b[1;32m   1887\u001b[0m \u001b[39m    \"\"\"\u001b[39;00m\n\u001b[1;32m   1888\u001b[0m     \u001b[39mreturn\u001b[39;00m cast(\n\u001b[1;32m   1889\u001b[0m         \u001b[39mdict\u001b[39m,\n\u001b[0;32m-> 1890\u001b[0m         \u001b[39mself\u001b[39;49m\u001b[39m.\u001b[39;49madmin\u001b[39m.\u001b[39;49mcommand(\n\u001b[1;32m   1891\u001b[0m             \u001b[39m\"\u001b[39;49m\u001b[39mbuildinfo\u001b[39;49m\u001b[39m\"\u001b[39;49m, read_preference\u001b[39m=\u001b[39;49mReadPreference\u001b[39m.\u001b[39;49mPRIMARY, session\u001b[39m=\u001b[39;49msession\n\u001b[1;32m   1892\u001b[0m         ),\n\u001b[1;32m   1893\u001b[0m     )\n",
            "File \u001b[0;32m~/MyEssex/GV918-2023/venv/lib/python3.12/site-packages/pymongo/_csot.py:107\u001b[0m, in \u001b[0;36mapply.<locals>.csot_wrapper\u001b[0;34m(self, *args, **kwargs)\u001b[0m\n\u001b[1;32m    105\u001b[0m         \u001b[39mwith\u001b[39;00m _TimeoutContext(timeout):\n\u001b[1;32m    106\u001b[0m             \u001b[39mreturn\u001b[39;00m func(\u001b[39mself\u001b[39m, \u001b[39m*\u001b[39margs, \u001b[39m*\u001b[39m\u001b[39m*\u001b[39mkwargs)\n\u001b[0;32m--> 107\u001b[0m \u001b[39mreturn\u001b[39;00m func(\u001b[39mself\u001b[39;49m, \u001b[39m*\u001b[39;49margs, \u001b[39m*\u001b[39;49m\u001b[39m*\u001b[39;49mkwargs)\n",
            "File \u001b[0;32m~/MyEssex/GV918-2023/venv/lib/python3.12/site-packages/pymongo/database.py:890\u001b[0m, in \u001b[0;36mDatabase.command\u001b[0;34m(self, command, value, check, allowable_errors, read_preference, codec_options, session, comment, **kwargs)\u001b[0m\n\u001b[1;32m    888\u001b[0m \u001b[39mif\u001b[39;00m read_preference \u001b[39mis\u001b[39;00m \u001b[39mNone\u001b[39;00m:\n\u001b[1;32m    889\u001b[0m     read_preference \u001b[39m=\u001b[39m (session \u001b[39mand\u001b[39;00m session\u001b[39m.\u001b[39m_txn_read_preference()) \u001b[39mor\u001b[39;00m ReadPreference\u001b[39m.\u001b[39mPRIMARY\n\u001b[0;32m--> 890\u001b[0m \u001b[39mwith\u001b[39;49;00m \u001b[39mself\u001b[39;49m\u001b[39m.\u001b[39;49m__client\u001b[39m.\u001b[39;49m_conn_for_reads(read_preference, session) \u001b[39mas\u001b[39;49;00m (\n\u001b[1;32m    891\u001b[0m     connection,\n\u001b[1;32m    892\u001b[0m     read_preference,\n\u001b[1;32m    893\u001b[0m ):\n\u001b[1;32m    894\u001b[0m     \u001b[39mreturn\u001b[39;49;00m \u001b[39mself\u001b[39;49m\u001b[39m.\u001b[39;49m_command(\n\u001b[1;32m    895\u001b[0m         connection,\n\u001b[1;32m    896\u001b[0m         command,\n\u001b[0;32m   (...)\u001b[0m\n\u001b[1;32m    903\u001b[0m         \u001b[39m*\u001b[39;49m\u001b[39m*\u001b[39;49mkwargs,\n\u001b[1;32m    904\u001b[0m     )\n",
            "File \u001b[0;32m/Library/Frameworks/Python.framework/Versions/3.12/lib/python3.12/contextlib.py:137\u001b[0m, in \u001b[0;36m_GeneratorContextManager.__enter__\u001b[0;34m(self)\u001b[0m\n\u001b[1;32m    135\u001b[0m \u001b[39mdel\u001b[39;00m \u001b[39mself\u001b[39m\u001b[39m.\u001b[39margs, \u001b[39mself\u001b[39m\u001b[39m.\u001b[39mkwds, \u001b[39mself\u001b[39m\u001b[39m.\u001b[39mfunc\n\u001b[1;32m    136\u001b[0m \u001b[39mtry\u001b[39;00m:\n\u001b[0;32m--> 137\u001b[0m     \u001b[39mreturn\u001b[39;00m \u001b[39mnext\u001b[39;49m(\u001b[39mself\u001b[39;49m\u001b[39m.\u001b[39;49mgen)\n\u001b[1;32m    138\u001b[0m \u001b[39mexcept\u001b[39;00m \u001b[39mStopIteration\u001b[39;00m:\n\u001b[1;32m    139\u001b[0m     \u001b[39mraise\u001b[39;00m \u001b[39mRuntimeError\u001b[39;00m(\u001b[39m\"\u001b[39m\u001b[39mgenerator didn\u001b[39m\u001b[39m'\u001b[39m\u001b[39mt yield\u001b[39m\u001b[39m\"\u001b[39m) \u001b[39mfrom\u001b[39;00m \u001b[39mNone\u001b[39;00m\n",
            "File \u001b[0;32m~/MyEssex/GV918-2023/venv/lib/python3.12/site-packages/pymongo/mongo_client.py:1330\u001b[0m, in \u001b[0;36mMongoClient._conn_from_server\u001b[0;34m(self, read_preference, server, session)\u001b[0m\n\u001b[1;32m   1327\u001b[0m topology \u001b[39m=\u001b[39m \u001b[39mself\u001b[39m\u001b[39m.\u001b[39m_get_topology()\n\u001b[1;32m   1328\u001b[0m single \u001b[39m=\u001b[39m topology\u001b[39m.\u001b[39mdescription\u001b[39m.\u001b[39mtopology_type \u001b[39m==\u001b[39m TOPOLOGY_TYPE\u001b[39m.\u001b[39mSingle\n\u001b[0;32m-> 1330\u001b[0m \u001b[39mwith\u001b[39;49;00m \u001b[39mself\u001b[39;49m\u001b[39m.\u001b[39;49m_checkout(server, session) \u001b[39mas\u001b[39;49;00m conn:\n\u001b[1;32m   1331\u001b[0m     \u001b[39mif\u001b[39;49;00m single:\n\u001b[1;32m   1332\u001b[0m         \u001b[39mif\u001b[39;49;00m conn\u001b[39m.\u001b[39;49mis_repl \u001b[39mand\u001b[39;49;00m \u001b[39mnot\u001b[39;49;00m (session \u001b[39mand\u001b[39;49;00m session\u001b[39m.\u001b[39;49min_transaction):\n\u001b[1;32m   1333\u001b[0m             \u001b[39m# Use primary preferred to ensure any repl set member\u001b[39;49;00m\n\u001b[1;32m   1334\u001b[0m             \u001b[39m# can handle the request.\u001b[39;49;00m\n",
            "File \u001b[0;32m/Library/Frameworks/Python.framework/Versions/3.12/lib/python3.12/contextlib.py:137\u001b[0m, in \u001b[0;36m_GeneratorContextManager.__enter__\u001b[0;34m(self)\u001b[0m\n\u001b[1;32m    135\u001b[0m \u001b[39mdel\u001b[39;00m \u001b[39mself\u001b[39m\u001b[39m.\u001b[39margs, \u001b[39mself\u001b[39m\u001b[39m.\u001b[39mkwds, \u001b[39mself\u001b[39m\u001b[39m.\u001b[39mfunc\n\u001b[1;32m    136\u001b[0m \u001b[39mtry\u001b[39;00m:\n\u001b[0;32m--> 137\u001b[0m     \u001b[39mreturn\u001b[39;00m \u001b[39mnext\u001b[39;49m(\u001b[39mself\u001b[39;49m\u001b[39m.\u001b[39;49mgen)\n\u001b[1;32m    138\u001b[0m \u001b[39mexcept\u001b[39;00m \u001b[39mStopIteration\u001b[39;00m:\n\u001b[1;32m    139\u001b[0m     \u001b[39mraise\u001b[39;00m \u001b[39mRuntimeError\u001b[39;00m(\u001b[39m\"\u001b[39m\u001b[39mgenerator didn\u001b[39m\u001b[39m'\u001b[39m\u001b[39mt yield\u001b[39m\u001b[39m\"\u001b[39m) \u001b[39mfrom\u001b[39;00m \u001b[39mNone\u001b[39;00m\n",
            "File \u001b[0;32m~/MyEssex/GV918-2023/venv/lib/python3.12/site-packages/pymongo/mongo_client.py:1252\u001b[0m, in \u001b[0;36mMongoClient._checkout\u001b[0;34m(self, server, session)\u001b[0m\n\u001b[1;32m   1250\u001b[0m     \u001b[39myield\u001b[39;00m session\u001b[39m.\u001b[39m_pinned_connection\n\u001b[1;32m   1251\u001b[0m     \u001b[39mreturn\u001b[39;00m\n\u001b[0;32m-> 1252\u001b[0m \u001b[39mwith\u001b[39;49;00m server\u001b[39m.\u001b[39;49mcheckout(handler\u001b[39m=\u001b[39;49merr_handler) \u001b[39mas\u001b[39;49;00m conn:\n\u001b[1;32m   1253\u001b[0m     \u001b[39m# Pin this session to the selected server or connection.\u001b[39;49;00m\n\u001b[1;32m   1254\u001b[0m     \u001b[39mif\u001b[39;49;00m (\n\u001b[1;32m   1255\u001b[0m         in_txn\n\u001b[1;32m   1256\u001b[0m         \u001b[39mand\u001b[39;49;00m session\n\u001b[0;32m   (...)\u001b[0m\n\u001b[1;32m   1261\u001b[0m         )\n\u001b[1;32m   1262\u001b[0m     ):\n\u001b[1;32m   1263\u001b[0m         session\u001b[39m.\u001b[39;49m_pin(server, conn)\n",
            "File \u001b[0;32m/Library/Frameworks/Python.framework/Versions/3.12/lib/python3.12/contextlib.py:137\u001b[0m, in \u001b[0;36m_GeneratorContextManager.__enter__\u001b[0;34m(self)\u001b[0m\n\u001b[1;32m    135\u001b[0m \u001b[39mdel\u001b[39;00m \u001b[39mself\u001b[39m\u001b[39m.\u001b[39margs, \u001b[39mself\u001b[39m\u001b[39m.\u001b[39mkwds, \u001b[39mself\u001b[39m\u001b[39m.\u001b[39mfunc\n\u001b[1;32m    136\u001b[0m \u001b[39mtry\u001b[39;00m:\n\u001b[0;32m--> 137\u001b[0m     \u001b[39mreturn\u001b[39;00m \u001b[39mnext\u001b[39;49m(\u001b[39mself\u001b[39;49m\u001b[39m.\u001b[39;49mgen)\n\u001b[1;32m    138\u001b[0m \u001b[39mexcept\u001b[39;00m \u001b[39mStopIteration\u001b[39;00m:\n\u001b[1;32m    139\u001b[0m     \u001b[39mraise\u001b[39;00m \u001b[39mRuntimeError\u001b[39;00m(\u001b[39m\"\u001b[39m\u001b[39mgenerator didn\u001b[39m\u001b[39m'\u001b[39m\u001b[39mt yield\u001b[39m\u001b[39m\"\u001b[39m) \u001b[39mfrom\u001b[39;00m \u001b[39mNone\u001b[39;00m\n",
            "File \u001b[0;32m~/MyEssex/GV918-2023/venv/lib/python3.12/site-packages/pymongo/pool.py:1637\u001b[0m, in \u001b[0;36mPool.checkout\u001b[0;34m(self, handler)\u001b[0m\n\u001b[1;32m   1634\u001b[0m     \u001b[39massert\u001b[39;00m listeners \u001b[39mis\u001b[39;00m \u001b[39mnot\u001b[39;00m \u001b[39mNone\u001b[39;00m\n\u001b[1;32m   1635\u001b[0m     listeners\u001b[39m.\u001b[39mpublish_connection_check_out_started(\u001b[39mself\u001b[39m\u001b[39m.\u001b[39maddress)\n\u001b[0;32m-> 1637\u001b[0m conn \u001b[39m=\u001b[39m \u001b[39mself\u001b[39;49m\u001b[39m.\u001b[39;49m_get_conn(handler\u001b[39m=\u001b[39;49mhandler)\n\u001b[1;32m   1639\u001b[0m \u001b[39mif\u001b[39;00m \u001b[39mself\u001b[39m\u001b[39m.\u001b[39menabled_for_cmap:\n\u001b[1;32m   1640\u001b[0m     \u001b[39massert\u001b[39;00m listeners \u001b[39mis\u001b[39;00m \u001b[39mnot\u001b[39;00m \u001b[39mNone\u001b[39;00m\n",
            "File \u001b[0;32m~/MyEssex/GV918-2023/venv/lib/python3.12/site-packages/pymongo/pool.py:1756\u001b[0m, in \u001b[0;36mPool._get_conn\u001b[0;34m(self, handler)\u001b[0m\n\u001b[1;32m   1754\u001b[0m \u001b[39melse\u001b[39;00m:  \u001b[39m# We need to create a new connection\u001b[39;00m\n\u001b[1;32m   1755\u001b[0m     \u001b[39mtry\u001b[39;00m:\n\u001b[0;32m-> 1756\u001b[0m         conn \u001b[39m=\u001b[39m \u001b[39mself\u001b[39;49m\u001b[39m.\u001b[39;49mconnect(handler\u001b[39m=\u001b[39;49mhandler)\n\u001b[1;32m   1757\u001b[0m     \u001b[39mfinally\u001b[39;00m:\n\u001b[1;32m   1758\u001b[0m         \u001b[39mwith\u001b[39;00m \u001b[39mself\u001b[39m\u001b[39m.\u001b[39m_max_connecting_cond:\n",
            "File \u001b[0;32m~/MyEssex/GV918-2023/venv/lib/python3.12/site-packages/pymongo/pool.py:1607\u001b[0m, in \u001b[0;36mPool.connect\u001b[0;34m(self, handler)\u001b[0m\n\u001b[1;32m   1604\u001b[0m     \u001b[39mif\u001b[39;00m handler:\n\u001b[1;32m   1605\u001b[0m         handler\u001b[39m.\u001b[39mcontribute_socket(conn, completed_handshake\u001b[39m=\u001b[39m\u001b[39mFalse\u001b[39;00m)\n\u001b[0;32m-> 1607\u001b[0m     conn\u001b[39m.\u001b[39;49mauthenticate()\n\u001b[1;32m   1608\u001b[0m \u001b[39mexcept\u001b[39;00m \u001b[39mBaseException\u001b[39;00m:\n\u001b[1;32m   1609\u001b[0m     conn\u001b[39m.\u001b[39mclose_conn(ConnectionClosedReason\u001b[39m.\u001b[39mERROR)\n",
            "File \u001b[0;32m~/MyEssex/GV918-2023/venv/lib/python3.12/site-packages/pymongo/pool.py:1078\u001b[0m, in \u001b[0;36mConnection.authenticate\u001b[0;34m(self, reauthenticate)\u001b[0m\n\u001b[1;32m   1076\u001b[0m creds \u001b[39m=\u001b[39m \u001b[39mself\u001b[39m\u001b[39m.\u001b[39mopts\u001b[39m.\u001b[39m_credentials\n\u001b[1;32m   1077\u001b[0m \u001b[39mif\u001b[39;00m creds:\n\u001b[0;32m-> 1078\u001b[0m     auth\u001b[39m.\u001b[39;49mauthenticate(creds, \u001b[39mself\u001b[39;49m, reauthenticate\u001b[39m=\u001b[39;49mreauthenticate)\n\u001b[1;32m   1079\u001b[0m \u001b[39mself\u001b[39m\u001b[39m.\u001b[39mready \u001b[39m=\u001b[39m \u001b[39mTrue\u001b[39;00m\n\u001b[1;32m   1080\u001b[0m \u001b[39mif\u001b[39;00m \u001b[39mself\u001b[39m\u001b[39m.\u001b[39menabled_for_cmap:\n",
            "File \u001b[0;32m~/MyEssex/GV918-2023/venv/lib/python3.12/site-packages/pymongo/auth.py:625\u001b[0m, in \u001b[0;36mauthenticate\u001b[0;34m(credentials, conn, reauthenticate)\u001b[0m\n\u001b[1;32m    623\u001b[0m     _authenticate_oidc(credentials, conn, reauthenticate)\n\u001b[1;32m    624\u001b[0m \u001b[39melse\u001b[39;00m:\n\u001b[0;32m--> 625\u001b[0m     auth_func(credentials, conn)\n",
            "File \u001b[0;32m~/MyEssex/GV918-2023/venv/lib/python3.12/site-packages/pymongo/auth.py:530\u001b[0m, in \u001b[0;36m_authenticate_default\u001b[0;34m(credentials, conn)\u001b[0m\n\u001b[1;32m    528\u001b[0m         \u001b[39mreturn\u001b[39;00m _authenticate_scram(credentials, conn, \u001b[39m\"\u001b[39m\u001b[39mSCRAM-SHA-256\u001b[39m\u001b[39m\"\u001b[39m)\n\u001b[1;32m    529\u001b[0m     \u001b[39melse\u001b[39;00m:\n\u001b[0;32m--> 530\u001b[0m         \u001b[39mreturn\u001b[39;00m _authenticate_scram(credentials, conn, \u001b[39m\"\u001b[39;49m\u001b[39mSCRAM-SHA-1\u001b[39;49m\u001b[39m\"\u001b[39;49m)\n\u001b[1;32m    531\u001b[0m \u001b[39melse\u001b[39;00m:\n\u001b[1;32m    532\u001b[0m     \u001b[39mreturn\u001b[39;00m _authenticate_scram(credentials, conn, \u001b[39m\"\u001b[39m\u001b[39mSCRAM-SHA-1\u001b[39m\u001b[39m\"\u001b[39m)\n",
            "File \u001b[0;32m~/MyEssex/GV918-2023/venv/lib/python3.12/site-packages/pymongo/auth.py:298\u001b[0m, in \u001b[0;36m_authenticate_scram\u001b[0;34m(credentials, conn, mechanism)\u001b[0m\n\u001b[1;32m    289\u001b[0m server_sig \u001b[39m=\u001b[39m standard_b64encode(_hmac(server_key, auth_msg, digestmod)\u001b[39m.\u001b[39mdigest())\n\u001b[1;32m    291\u001b[0m cmd \u001b[39m=\u001b[39m SON(\n\u001b[1;32m    292\u001b[0m     [\n\u001b[1;32m    293\u001b[0m         (\u001b[39m\"\u001b[39m\u001b[39msaslContinue\u001b[39m\u001b[39m\"\u001b[39m, \u001b[39m1\u001b[39m),\n\u001b[0;32m   (...)\u001b[0m\n\u001b[1;32m    296\u001b[0m     ]\n\u001b[1;32m    297\u001b[0m )\n\u001b[0;32m--> 298\u001b[0m res \u001b[39m=\u001b[39m conn\u001b[39m.\u001b[39;49mcommand(source, cmd)\n\u001b[1;32m    300\u001b[0m parsed \u001b[39m=\u001b[39m _parse_scram_response(res[\u001b[39m\"\u001b[39m\u001b[39mpayload\u001b[39m\u001b[39m\"\u001b[39m])\n\u001b[1;32m    301\u001b[0m \u001b[39mif\u001b[39;00m \u001b[39mnot\u001b[39;00m hmac\u001b[39m.\u001b[39mcompare_digest(parsed[\u001b[39mb\u001b[39m\u001b[39m\"\u001b[39m\u001b[39mv\u001b[39m\u001b[39m\"\u001b[39m], server_sig):\n",
            "File \u001b[0;32m~/MyEssex/GV918-2023/venv/lib/python3.12/site-packages/pymongo/helpers.py:322\u001b[0m, in \u001b[0;36m_handle_reauth.<locals>.inner\u001b[0;34m(*args, **kwargs)\u001b[0m\n\u001b[1;32m    319\u001b[0m \u001b[39mfrom\u001b[39;00m \u001b[39mpymongo\u001b[39;00m\u001b[39m.\u001b[39;00m\u001b[39mpool\u001b[39;00m \u001b[39mimport\u001b[39;00m Connection\n\u001b[1;32m    321\u001b[0m \u001b[39mtry\u001b[39;00m:\n\u001b[0;32m--> 322\u001b[0m     \u001b[39mreturn\u001b[39;00m func(\u001b[39m*\u001b[39;49margs, \u001b[39m*\u001b[39;49m\u001b[39m*\u001b[39;49mkwargs)\n\u001b[1;32m    323\u001b[0m \u001b[39mexcept\u001b[39;00m OperationFailure \u001b[39mas\u001b[39;00m exc:\n\u001b[1;32m    324\u001b[0m     \u001b[39mif\u001b[39;00m no_reauth:\n",
            "File \u001b[0;32m~/MyEssex/GV918-2023/venv/lib/python3.12/site-packages/pymongo/pool.py:968\u001b[0m, in \u001b[0;36mConnection.command\u001b[0;34m(self, dbname, spec, read_preference, codec_options, check, allowable_errors, read_concern, write_concern, parse_write_concern_error, collation, session, client, retryable_write, publish_events, user_fields, exhaust_allowed)\u001b[0m\n\u001b[1;32m    966\u001b[0m     \u001b[39mself\u001b[39m\u001b[39m.\u001b[39m_raise_if_not_writable(unacknowledged)\n\u001b[1;32m    967\u001b[0m \u001b[39mtry\u001b[39;00m:\n\u001b[0;32m--> 968\u001b[0m     \u001b[39mreturn\u001b[39;00m command(\n\u001b[1;32m    969\u001b[0m         \u001b[39mself\u001b[39;49m,\n\u001b[1;32m    970\u001b[0m         dbname,\n\u001b[1;32m    971\u001b[0m         spec,\n\u001b[1;32m    972\u001b[0m         \u001b[39mself\u001b[39;49m\u001b[39m.\u001b[39;49mis_mongos,\n\u001b[1;32m    973\u001b[0m         read_preference,\n\u001b[1;32m    974\u001b[0m         codec_options,\n\u001b[1;32m    975\u001b[0m         session,\n\u001b[1;32m    976\u001b[0m         client,\n\u001b[1;32m    977\u001b[0m         check,\n\u001b[1;32m    978\u001b[0m         allowable_errors,\n\u001b[1;32m    979\u001b[0m         \u001b[39mself\u001b[39;49m\u001b[39m.\u001b[39;49maddress,\n\u001b[1;32m    980\u001b[0m         listeners,\n\u001b[1;32m    981\u001b[0m         \u001b[39mself\u001b[39;49m\u001b[39m.\u001b[39;49mmax_bson_size,\n\u001b[1;32m    982\u001b[0m         read_concern,\n\u001b[1;32m    983\u001b[0m         parse_write_concern_error\u001b[39m=\u001b[39;49mparse_write_concern_error,\n\u001b[1;32m    984\u001b[0m         collation\u001b[39m=\u001b[39;49mcollation,\n\u001b[1;32m    985\u001b[0m         compression_ctx\u001b[39m=\u001b[39;49m\u001b[39mself\u001b[39;49m\u001b[39m.\u001b[39;49mcompression_context,\n\u001b[1;32m    986\u001b[0m         use_op_msg\u001b[39m=\u001b[39;49m\u001b[39mself\u001b[39;49m\u001b[39m.\u001b[39;49mop_msg_enabled,\n\u001b[1;32m    987\u001b[0m         unacknowledged\u001b[39m=\u001b[39;49munacknowledged,\n\u001b[1;32m    988\u001b[0m         user_fields\u001b[39m=\u001b[39;49muser_fields,\n\u001b[1;32m    989\u001b[0m         exhaust_allowed\u001b[39m=\u001b[39;49mexhaust_allowed,\n\u001b[1;32m    990\u001b[0m         write_concern\u001b[39m=\u001b[39;49mwrite_concern,\n\u001b[1;32m    991\u001b[0m     )\n\u001b[1;32m    992\u001b[0m \u001b[39mexcept\u001b[39;00m (OperationFailure, NotPrimaryError):\n\u001b[1;32m    993\u001b[0m     \u001b[39mraise\u001b[39;00m\n",
            "File \u001b[0;32m~/MyEssex/GV918-2023/venv/lib/python3.12/site-packages/pymongo/network.py:192\u001b[0m, in \u001b[0;36mcommand\u001b[0;34m(conn, dbname, spec, is_mongos, read_preference, codec_options, session, client, check, allowable_errors, address, listeners, max_bson_size, read_concern, parse_write_concern_error, collation, compression_ctx, use_op_msg, unacknowledged, user_fields, exhaust_allowed, write_concern)\u001b[0m\n\u001b[1;32m    190\u001b[0m             client\u001b[39m.\u001b[39m_process_response(response_doc, session)\n\u001b[1;32m    191\u001b[0m         \u001b[39mif\u001b[39;00m check:\n\u001b[0;32m--> 192\u001b[0m             helpers\u001b[39m.\u001b[39;49m_check_command_response(\n\u001b[1;32m    193\u001b[0m                 response_doc,\n\u001b[1;32m    194\u001b[0m                 conn\u001b[39m.\u001b[39;49mmax_wire_version,\n\u001b[1;32m    195\u001b[0m                 allowable_errors,\n\u001b[1;32m    196\u001b[0m                 parse_write_concern_error\u001b[39m=\u001b[39;49mparse_write_concern_error,\n\u001b[1;32m    197\u001b[0m             )\n\u001b[1;32m    198\u001b[0m \u001b[39mexcept\u001b[39;00m \u001b[39mException\u001b[39;00m \u001b[39mas\u001b[39;00m exc:\n\u001b[1;32m    199\u001b[0m     \u001b[39mif\u001b[39;00m publish:\n",
            "File \u001b[0;32m~/MyEssex/GV918-2023/venv/lib/python3.12/site-packages/pymongo/helpers.py:230\u001b[0m, in \u001b[0;36m_check_command_response\u001b[0;34m(response, max_wire_version, allowable_errors, parse_write_concern_error)\u001b[0m\n\u001b[1;32m    227\u001b[0m \u001b[39melif\u001b[39;00m code \u001b[39m==\u001b[39m \u001b[39m43\u001b[39m:\n\u001b[1;32m    228\u001b[0m     \u001b[39mraise\u001b[39;00m CursorNotFound(errmsg, code, response, max_wire_version)\n\u001b[0;32m--> 230\u001b[0m \u001b[39mraise\u001b[39;00m OperationFailure(errmsg, code, response, max_wire_version)\n",
            "\u001b[0;31mOperationFailure\u001b[0m: bad auth : authentication failed, full error: {'ok': 0, 'errmsg': 'bad auth : authentication failed', 'code': 8000, 'codeName': 'AtlasError'}"
          ]
        }
      ],
      "source": [
        "cluster.server_info()"
      ]
    },
    {
      "cell_type": "code",
      "execution_count": null,
      "metadata": {},
      "outputs": [],
      "source": []
    },
    {
      "cell_type": "markdown",
      "metadata": {
        "id": "wNI6Ln4-U9GJ"
      },
      "source": [
        "## Populate the database\n",
        "\n",
        "Now, we can populate the database. We first put a very simple data. Any Python dictionary can be placed in the database:\n"
      ]
    },
    {
      "cell_type": "code",
      "execution_count": 21,
      "metadata": {
        "id": "YMytBw0aVmY4"
      },
      "outputs": [
        {
          "ename": "OperationFailure",
          "evalue": "bad auth : authentication failed, full error: {'ok': 0, 'errmsg': 'bad auth : authentication failed', 'code': 8000, 'codeName': 'AtlasError'}",
          "output_type": "error",
          "traceback": [
            "\u001b[0;31m---------------------------------------------------------------------------\u001b[0m",
            "\u001b[0;31mOperationFailure\u001b[0m                          Traceback (most recent call last)",
            "\u001b[1;32m/Users/qingengdu/MyEssex/GV918-2023/Week_09/Week09_MongoDB_demo (1).ipynb Cell 21\u001b[0m line \u001b[0;36m1\n\u001b[0;32m----> <a href='vscode-notebook-cell:/Users/qingengdu/MyEssex/GV918-2023/Week_09/Week09_MongoDB_demo%20%281%29.ipynb#X25sZmlsZQ%3D%3D?line=0'>1</a>\u001b[0m collection\u001b[39m.\u001b[39;49minsert_one({\u001b[39m\"\u001b[39;49m\u001b[39mFirstName\u001b[39;49m\u001b[39m\"\u001b[39;49m: \u001b[39m\"\u001b[39;49m\u001b[39mHarry\u001b[39;49m\u001b[39m\"\u001b[39;49m, \u001b[39m\"\u001b[39;49m\u001b[39mFamilyName\u001b[39;49m\u001b[39m\"\u001b[39;49m: \u001b[39m\"\u001b[39;49m\u001b[39mKane\u001b[39;49m\u001b[39m\"\u001b[39;49m})\n",
            "File \u001b[0;32m~/MyEssex/GV918-2023/venv/lib/python3.12/site-packages/pymongo/collection.py:669\u001b[0m, in \u001b[0;36mCollection.insert_one\u001b[0;34m(self, document, bypass_document_validation, session, comment)\u001b[0m\n\u001b[1;32m    665\u001b[0m     document[\u001b[39m\"\u001b[39m\u001b[39m_id\u001b[39m\u001b[39m\"\u001b[39m] \u001b[39m=\u001b[39m ObjectId()  \u001b[39m# type: ignore[index]\u001b[39;00m\n\u001b[1;32m    667\u001b[0m write_concern \u001b[39m=\u001b[39m \u001b[39mself\u001b[39m\u001b[39m.\u001b[39m_write_concern_for(session)\n\u001b[1;32m    668\u001b[0m \u001b[39mreturn\u001b[39;00m InsertOneResult(\n\u001b[0;32m--> 669\u001b[0m     \u001b[39mself\u001b[39;49m\u001b[39m.\u001b[39;49m_insert_one(\n\u001b[1;32m    670\u001b[0m         document,\n\u001b[1;32m    671\u001b[0m         ordered\u001b[39m=\u001b[39;49m\u001b[39mTrue\u001b[39;49;00m,\n\u001b[1;32m    672\u001b[0m         write_concern\u001b[39m=\u001b[39;49mwrite_concern,\n\u001b[1;32m    673\u001b[0m         op_id\u001b[39m=\u001b[39;49m\u001b[39mNone\u001b[39;49;00m,\n\u001b[1;32m    674\u001b[0m         bypass_doc_val\u001b[39m=\u001b[39;49mbypass_document_validation,\n\u001b[1;32m    675\u001b[0m         session\u001b[39m=\u001b[39;49msession,\n\u001b[1;32m    676\u001b[0m         comment\u001b[39m=\u001b[39;49mcomment,\n\u001b[1;32m    677\u001b[0m     ),\n\u001b[1;32m    678\u001b[0m     write_concern\u001b[39m.\u001b[39macknowledged,\n\u001b[1;32m    679\u001b[0m )\n",
            "File \u001b[0;32m~/MyEssex/GV918-2023/venv/lib/python3.12/site-packages/pymongo/collection.py:609\u001b[0m, in \u001b[0;36mCollection._insert_one\u001b[0;34m(self, doc, ordered, write_concern, op_id, bypass_doc_val, session, comment)\u001b[0m\n\u001b[1;32m    597\u001b[0m     result \u001b[39m=\u001b[39m conn\u001b[39m.\u001b[39mcommand(\n\u001b[1;32m    598\u001b[0m         \u001b[39mself\u001b[39m\u001b[39m.\u001b[39m__database\u001b[39m.\u001b[39mname,\n\u001b[1;32m    599\u001b[0m         command,\n\u001b[0;32m   (...)\u001b[0m\n\u001b[1;32m    604\u001b[0m         retryable_write\u001b[39m=\u001b[39mretryable_write,\n\u001b[1;32m    605\u001b[0m     )\n\u001b[1;32m    607\u001b[0m     _check_write_command_response(result)\n\u001b[0;32m--> 609\u001b[0m \u001b[39mself\u001b[39;49m\u001b[39m.\u001b[39;49m__database\u001b[39m.\u001b[39;49mclient\u001b[39m.\u001b[39;49m_retryable_write(acknowledged, _insert_command, session)\n\u001b[1;32m    611\u001b[0m \u001b[39mif\u001b[39;00m \u001b[39mnot\u001b[39;00m \u001b[39misinstance\u001b[39m(doc, RawBSONDocument):\n\u001b[1;32m    612\u001b[0m     \u001b[39mreturn\u001b[39;00m doc\u001b[39m.\u001b[39mget(\u001b[39m\"\u001b[39m\u001b[39m_id\u001b[39m\u001b[39m\"\u001b[39m)\n",
            "File \u001b[0;32m~/MyEssex/GV918-2023/venv/lib/python3.12/site-packages/pymongo/mongo_client.py:1523\u001b[0m, in \u001b[0;36mMongoClient._retryable_write\u001b[0;34m(self, retryable, func, session, bulk)\u001b[0m\n\u001b[1;32m   1509\u001b[0m \u001b[39m\u001b[39m\u001b[39m\"\"\"Execute an operation with consecutive retries if possible\u001b[39;00m\n\u001b[1;32m   1510\u001b[0m \n\u001b[1;32m   1511\u001b[0m \u001b[39mReturns func()'s return value on success. On error retries the same\u001b[39;00m\n\u001b[0;32m   (...)\u001b[0m\n\u001b[1;32m   1520\u001b[0m \u001b[39m  - `bulk`: bulk abstraction to execute operations in bulk, defaults to None\u001b[39;00m\n\u001b[1;32m   1521\u001b[0m \u001b[39m\"\"\"\u001b[39;00m\n\u001b[1;32m   1522\u001b[0m \u001b[39mwith\u001b[39;00m \u001b[39mself\u001b[39m\u001b[39m.\u001b[39m_tmp_session(session) \u001b[39mas\u001b[39;00m s:\n\u001b[0;32m-> 1523\u001b[0m     \u001b[39mreturn\u001b[39;00m \u001b[39mself\u001b[39;49m\u001b[39m.\u001b[39;49m_retry_with_session(retryable, func, s, bulk)\n",
            "File \u001b[0;32m~/MyEssex/GV918-2023/venv/lib/python3.12/site-packages/pymongo/mongo_client.py:1421\u001b[0m, in \u001b[0;36mMongoClient._retry_with_session\u001b[0;34m(self, retryable, func, session, bulk)\u001b[0m\n\u001b[1;32m   1416\u001b[0m \u001b[39m# Ensure that the options supports retry_writes and there is a valid session not in\u001b[39;00m\n\u001b[1;32m   1417\u001b[0m \u001b[39m# transaction, otherwise, we will not support retry behavior for this txn.\u001b[39;00m\n\u001b[1;32m   1418\u001b[0m retryable \u001b[39m=\u001b[39m \u001b[39mbool\u001b[39m(\n\u001b[1;32m   1419\u001b[0m     retryable \u001b[39mand\u001b[39;00m \u001b[39mself\u001b[39m\u001b[39m.\u001b[39moptions\u001b[39m.\u001b[39mretry_writes \u001b[39mand\u001b[39;00m session \u001b[39mand\u001b[39;00m \u001b[39mnot\u001b[39;00m session\u001b[39m.\u001b[39min_transaction\n\u001b[1;32m   1420\u001b[0m )\n\u001b[0;32m-> 1421\u001b[0m \u001b[39mreturn\u001b[39;00m \u001b[39mself\u001b[39;49m\u001b[39m.\u001b[39;49m_retry_internal(\n\u001b[1;32m   1422\u001b[0m     func\u001b[39m=\u001b[39;49mfunc,\n\u001b[1;32m   1423\u001b[0m     session\u001b[39m=\u001b[39;49msession,\n\u001b[1;32m   1424\u001b[0m     bulk\u001b[39m=\u001b[39;49mbulk,\n\u001b[1;32m   1425\u001b[0m     retryable\u001b[39m=\u001b[39;49mretryable,\n\u001b[1;32m   1426\u001b[0m )\n",
            "File \u001b[0;32m~/MyEssex/GV918-2023/venv/lib/python3.12/site-packages/pymongo/_csot.py:107\u001b[0m, in \u001b[0;36mapply.<locals>.csot_wrapper\u001b[0;34m(self, *args, **kwargs)\u001b[0m\n\u001b[1;32m    105\u001b[0m         \u001b[39mwith\u001b[39;00m _TimeoutContext(timeout):\n\u001b[1;32m    106\u001b[0m             \u001b[39mreturn\u001b[39;00m func(\u001b[39mself\u001b[39m, \u001b[39m*\u001b[39margs, \u001b[39m*\u001b[39m\u001b[39m*\u001b[39mkwargs)\n\u001b[0;32m--> 107\u001b[0m \u001b[39mreturn\u001b[39;00m func(\u001b[39mself\u001b[39;49m, \u001b[39m*\u001b[39;49margs, \u001b[39m*\u001b[39;49m\u001b[39m*\u001b[39;49mkwargs)\n",
            "File \u001b[0;32m~/MyEssex/GV918-2023/venv/lib/python3.12/site-packages/pymongo/mongo_client.py:1462\u001b[0m, in \u001b[0;36mMongoClient._retry_internal\u001b[0;34m(self, func, session, bulk, is_read, address, read_pref, retryable)\u001b[0m\n\u001b[1;32m   1428\u001b[0m \u001b[39m@_csot\u001b[39m\u001b[39m.\u001b[39mapply\n\u001b[1;32m   1429\u001b[0m \u001b[39mdef\u001b[39;00m \u001b[39m_retry_internal\u001b[39m(\n\u001b[1;32m   1430\u001b[0m     \u001b[39mself\u001b[39m,\n\u001b[0;32m   (...)\u001b[0m\n\u001b[1;32m   1437\u001b[0m     retryable: \u001b[39mbool\u001b[39m \u001b[39m=\u001b[39m \u001b[39mFalse\u001b[39;00m,\n\u001b[1;32m   1438\u001b[0m ) \u001b[39m-\u001b[39m\u001b[39m>\u001b[39m T:\n\u001b[1;32m   1439\u001b[0m \u001b[39m    \u001b[39m\u001b[39m\"\"\"Internal retryable helper for all client transactions.\u001b[39;00m\n\u001b[1;32m   1440\u001b[0m \n\u001b[1;32m   1441\u001b[0m \u001b[39m    :Parameters:\u001b[39;00m\n\u001b[0;32m   (...)\u001b[0m\n\u001b[1;32m   1451\u001b[0m \u001b[39m      Output of the calling func()\u001b[39;00m\n\u001b[1;32m   1452\u001b[0m \u001b[39m    \"\"\"\u001b[39;00m\n\u001b[1;32m   1453\u001b[0m     \u001b[39mreturn\u001b[39;00m _ClientConnectionRetryable(\n\u001b[1;32m   1454\u001b[0m         mongo_client\u001b[39m=\u001b[39;49m\u001b[39mself\u001b[39;49m,\n\u001b[1;32m   1455\u001b[0m         func\u001b[39m=\u001b[39;49mfunc,\n\u001b[1;32m   1456\u001b[0m         bulk\u001b[39m=\u001b[39;49mbulk,\n\u001b[1;32m   1457\u001b[0m         is_read\u001b[39m=\u001b[39;49mis_read,\n\u001b[1;32m   1458\u001b[0m         session\u001b[39m=\u001b[39;49msession,\n\u001b[1;32m   1459\u001b[0m         read_pref\u001b[39m=\u001b[39;49mread_pref,\n\u001b[1;32m   1460\u001b[0m         address\u001b[39m=\u001b[39;49maddress,\n\u001b[1;32m   1461\u001b[0m         retryable\u001b[39m=\u001b[39;49mretryable,\n\u001b[0;32m-> 1462\u001b[0m     )\u001b[39m.\u001b[39;49mrun()\n",
            "File \u001b[0;32m~/MyEssex/GV918-2023/venv/lib/python3.12/site-packages/pymongo/mongo_client.py:2315\u001b[0m, in \u001b[0;36m_ClientConnectionRetryable.run\u001b[0;34m(self)\u001b[0m\n\u001b[1;32m   2313\u001b[0m \u001b[39mself\u001b[39m\u001b[39m.\u001b[39m_check_last_error(check_csot\u001b[39m=\u001b[39m\u001b[39mTrue\u001b[39;00m)\n\u001b[1;32m   2314\u001b[0m \u001b[39mtry\u001b[39;00m:\n\u001b[0;32m-> 2315\u001b[0m     \u001b[39mreturn\u001b[39;00m \u001b[39mself\u001b[39m\u001b[39m.\u001b[39m_read() \u001b[39mif\u001b[39;00m \u001b[39mself\u001b[39m\u001b[39m.\u001b[39m_is_read \u001b[39melse\u001b[39;00m \u001b[39mself\u001b[39;49m\u001b[39m.\u001b[39;49m_write()\n\u001b[1;32m   2316\u001b[0m \u001b[39mexcept\u001b[39;00m ServerSelectionTimeoutError:\n\u001b[1;32m   2317\u001b[0m     \u001b[39m# The application may think the write was never attempted\u001b[39;00m\n\u001b[1;32m   2318\u001b[0m     \u001b[39m# if we raise ServerSelectionTimeoutError on the retry\u001b[39;00m\n\u001b[1;32m   2319\u001b[0m     \u001b[39m# attempt. Raise the original exception instead.\u001b[39;00m\n\u001b[1;32m   2320\u001b[0m     \u001b[39mself\u001b[39m\u001b[39m.\u001b[39m_check_last_error()\n",
            "File \u001b[0;32m~/MyEssex/GV918-2023/venv/lib/python3.12/site-packages/pymongo/mongo_client.py:2416\u001b[0m, in \u001b[0;36m_ClientConnectionRetryable._write\u001b[0;34m(self)\u001b[0m\n\u001b[1;32m   2412\u001b[0m \u001b[39mself\u001b[39m\u001b[39m.\u001b[39m_server \u001b[39m=\u001b[39m \u001b[39mself\u001b[39m\u001b[39m.\u001b[39m_get_server()\n\u001b[1;32m   2413\u001b[0m supports_session \u001b[39m=\u001b[39m (\n\u001b[1;32m   2414\u001b[0m     \u001b[39mself\u001b[39m\u001b[39m.\u001b[39m_session \u001b[39mis\u001b[39;00m \u001b[39mnot\u001b[39;00m \u001b[39mNone\u001b[39;00m \u001b[39mand\u001b[39;00m \u001b[39mself\u001b[39m\u001b[39m.\u001b[39m_server\u001b[39m.\u001b[39mdescription\u001b[39m.\u001b[39mretryable_writes_supported\n\u001b[1;32m   2415\u001b[0m )\n\u001b[0;32m-> 2416\u001b[0m \u001b[39mwith\u001b[39;49;00m \u001b[39mself\u001b[39;49m\u001b[39m.\u001b[39;49m_client\u001b[39m.\u001b[39;49m_checkout(\u001b[39mself\u001b[39;49m\u001b[39m.\u001b[39;49m_server, \u001b[39mself\u001b[39;49m\u001b[39m.\u001b[39;49m_session) \u001b[39mas\u001b[39;49;00m conn:\n\u001b[1;32m   2417\u001b[0m     max_wire_version \u001b[39m=\u001b[39;49m conn\u001b[39m.\u001b[39;49mmax_wire_version\n\u001b[1;32m   2418\u001b[0m     \u001b[39mif\u001b[39;49;00m \u001b[39mself\u001b[39;49m\u001b[39m.\u001b[39;49m_retryable \u001b[39mand\u001b[39;49;00m \u001b[39mnot\u001b[39;49;00m supports_session:\n\u001b[1;32m   2419\u001b[0m         \u001b[39m# A retry is not possible because this server does\u001b[39;49;00m\n\u001b[1;32m   2420\u001b[0m         \u001b[39m# not support sessions raise the last error.\u001b[39;49;00m\n",
            "File \u001b[0;32m/Library/Frameworks/Python.framework/Versions/3.12/lib/python3.12/contextlib.py:137\u001b[0m, in \u001b[0;36m_GeneratorContextManager.__enter__\u001b[0;34m(self)\u001b[0m\n\u001b[1;32m    135\u001b[0m \u001b[39mdel\u001b[39;00m \u001b[39mself\u001b[39m\u001b[39m.\u001b[39margs, \u001b[39mself\u001b[39m\u001b[39m.\u001b[39mkwds, \u001b[39mself\u001b[39m\u001b[39m.\u001b[39mfunc\n\u001b[1;32m    136\u001b[0m \u001b[39mtry\u001b[39;00m:\n\u001b[0;32m--> 137\u001b[0m     \u001b[39mreturn\u001b[39;00m \u001b[39mnext\u001b[39;49m(\u001b[39mself\u001b[39;49m\u001b[39m.\u001b[39;49mgen)\n\u001b[1;32m    138\u001b[0m \u001b[39mexcept\u001b[39;00m \u001b[39mStopIteration\u001b[39;00m:\n\u001b[1;32m    139\u001b[0m     \u001b[39mraise\u001b[39;00m \u001b[39mRuntimeError\u001b[39;00m(\u001b[39m\"\u001b[39m\u001b[39mgenerator didn\u001b[39m\u001b[39m'\u001b[39m\u001b[39mt yield\u001b[39m\u001b[39m\"\u001b[39m) \u001b[39mfrom\u001b[39;00m \u001b[39mNone\u001b[39;00m\n",
            "File \u001b[0;32m~/MyEssex/GV918-2023/venv/lib/python3.12/site-packages/pymongo/mongo_client.py:1252\u001b[0m, in \u001b[0;36mMongoClient._checkout\u001b[0;34m(self, server, session)\u001b[0m\n\u001b[1;32m   1250\u001b[0m     \u001b[39myield\u001b[39;00m session\u001b[39m.\u001b[39m_pinned_connection\n\u001b[1;32m   1251\u001b[0m     \u001b[39mreturn\u001b[39;00m\n\u001b[0;32m-> 1252\u001b[0m \u001b[39mwith\u001b[39;49;00m server\u001b[39m.\u001b[39;49mcheckout(handler\u001b[39m=\u001b[39;49merr_handler) \u001b[39mas\u001b[39;49;00m conn:\n\u001b[1;32m   1253\u001b[0m     \u001b[39m# Pin this session to the selected server or connection.\u001b[39;49;00m\n\u001b[1;32m   1254\u001b[0m     \u001b[39mif\u001b[39;49;00m (\n\u001b[1;32m   1255\u001b[0m         in_txn\n\u001b[1;32m   1256\u001b[0m         \u001b[39mand\u001b[39;49;00m session\n\u001b[0;32m   (...)\u001b[0m\n\u001b[1;32m   1261\u001b[0m         )\n\u001b[1;32m   1262\u001b[0m     ):\n\u001b[1;32m   1263\u001b[0m         session\u001b[39m.\u001b[39;49m_pin(server, conn)\n",
            "File \u001b[0;32m/Library/Frameworks/Python.framework/Versions/3.12/lib/python3.12/contextlib.py:137\u001b[0m, in \u001b[0;36m_GeneratorContextManager.__enter__\u001b[0;34m(self)\u001b[0m\n\u001b[1;32m    135\u001b[0m \u001b[39mdel\u001b[39;00m \u001b[39mself\u001b[39m\u001b[39m.\u001b[39margs, \u001b[39mself\u001b[39m\u001b[39m.\u001b[39mkwds, \u001b[39mself\u001b[39m\u001b[39m.\u001b[39mfunc\n\u001b[1;32m    136\u001b[0m \u001b[39mtry\u001b[39;00m:\n\u001b[0;32m--> 137\u001b[0m     \u001b[39mreturn\u001b[39;00m \u001b[39mnext\u001b[39;49m(\u001b[39mself\u001b[39;49m\u001b[39m.\u001b[39;49mgen)\n\u001b[1;32m    138\u001b[0m \u001b[39mexcept\u001b[39;00m \u001b[39mStopIteration\u001b[39;00m:\n\u001b[1;32m    139\u001b[0m     \u001b[39mraise\u001b[39;00m \u001b[39mRuntimeError\u001b[39;00m(\u001b[39m\"\u001b[39m\u001b[39mgenerator didn\u001b[39m\u001b[39m'\u001b[39m\u001b[39mt yield\u001b[39m\u001b[39m\"\u001b[39m) \u001b[39mfrom\u001b[39;00m \u001b[39mNone\u001b[39;00m\n",
            "File \u001b[0;32m~/MyEssex/GV918-2023/venv/lib/python3.12/site-packages/pymongo/pool.py:1637\u001b[0m, in \u001b[0;36mPool.checkout\u001b[0;34m(self, handler)\u001b[0m\n\u001b[1;32m   1634\u001b[0m     \u001b[39massert\u001b[39;00m listeners \u001b[39mis\u001b[39;00m \u001b[39mnot\u001b[39;00m \u001b[39mNone\u001b[39;00m\n\u001b[1;32m   1635\u001b[0m     listeners\u001b[39m.\u001b[39mpublish_connection_check_out_started(\u001b[39mself\u001b[39m\u001b[39m.\u001b[39maddress)\n\u001b[0;32m-> 1637\u001b[0m conn \u001b[39m=\u001b[39m \u001b[39mself\u001b[39;49m\u001b[39m.\u001b[39;49m_get_conn(handler\u001b[39m=\u001b[39;49mhandler)\n\u001b[1;32m   1639\u001b[0m \u001b[39mif\u001b[39;00m \u001b[39mself\u001b[39m\u001b[39m.\u001b[39menabled_for_cmap:\n\u001b[1;32m   1640\u001b[0m     \u001b[39massert\u001b[39;00m listeners \u001b[39mis\u001b[39;00m \u001b[39mnot\u001b[39;00m \u001b[39mNone\u001b[39;00m\n",
            "File \u001b[0;32m~/MyEssex/GV918-2023/venv/lib/python3.12/site-packages/pymongo/pool.py:1756\u001b[0m, in \u001b[0;36mPool._get_conn\u001b[0;34m(self, handler)\u001b[0m\n\u001b[1;32m   1754\u001b[0m \u001b[39melse\u001b[39;00m:  \u001b[39m# We need to create a new connection\u001b[39;00m\n\u001b[1;32m   1755\u001b[0m     \u001b[39mtry\u001b[39;00m:\n\u001b[0;32m-> 1756\u001b[0m         conn \u001b[39m=\u001b[39m \u001b[39mself\u001b[39;49m\u001b[39m.\u001b[39;49mconnect(handler\u001b[39m=\u001b[39;49mhandler)\n\u001b[1;32m   1757\u001b[0m     \u001b[39mfinally\u001b[39;00m:\n\u001b[1;32m   1758\u001b[0m         \u001b[39mwith\u001b[39;00m \u001b[39mself\u001b[39m\u001b[39m.\u001b[39m_max_connecting_cond:\n",
            "File \u001b[0;32m~/MyEssex/GV918-2023/venv/lib/python3.12/site-packages/pymongo/pool.py:1607\u001b[0m, in \u001b[0;36mPool.connect\u001b[0;34m(self, handler)\u001b[0m\n\u001b[1;32m   1604\u001b[0m     \u001b[39mif\u001b[39;00m handler:\n\u001b[1;32m   1605\u001b[0m         handler\u001b[39m.\u001b[39mcontribute_socket(conn, completed_handshake\u001b[39m=\u001b[39m\u001b[39mFalse\u001b[39;00m)\n\u001b[0;32m-> 1607\u001b[0m     conn\u001b[39m.\u001b[39;49mauthenticate()\n\u001b[1;32m   1608\u001b[0m \u001b[39mexcept\u001b[39;00m \u001b[39mBaseException\u001b[39;00m:\n\u001b[1;32m   1609\u001b[0m     conn\u001b[39m.\u001b[39mclose_conn(ConnectionClosedReason\u001b[39m.\u001b[39mERROR)\n",
            "File \u001b[0;32m~/MyEssex/GV918-2023/venv/lib/python3.12/site-packages/pymongo/pool.py:1078\u001b[0m, in \u001b[0;36mConnection.authenticate\u001b[0;34m(self, reauthenticate)\u001b[0m\n\u001b[1;32m   1076\u001b[0m creds \u001b[39m=\u001b[39m \u001b[39mself\u001b[39m\u001b[39m.\u001b[39mopts\u001b[39m.\u001b[39m_credentials\n\u001b[1;32m   1077\u001b[0m \u001b[39mif\u001b[39;00m creds:\n\u001b[0;32m-> 1078\u001b[0m     auth\u001b[39m.\u001b[39;49mauthenticate(creds, \u001b[39mself\u001b[39;49m, reauthenticate\u001b[39m=\u001b[39;49mreauthenticate)\n\u001b[1;32m   1079\u001b[0m \u001b[39mself\u001b[39m\u001b[39m.\u001b[39mready \u001b[39m=\u001b[39m \u001b[39mTrue\u001b[39;00m\n\u001b[1;32m   1080\u001b[0m \u001b[39mif\u001b[39;00m \u001b[39mself\u001b[39m\u001b[39m.\u001b[39menabled_for_cmap:\n",
            "File \u001b[0;32m~/MyEssex/GV918-2023/venv/lib/python3.12/site-packages/pymongo/auth.py:625\u001b[0m, in \u001b[0;36mauthenticate\u001b[0;34m(credentials, conn, reauthenticate)\u001b[0m\n\u001b[1;32m    623\u001b[0m     _authenticate_oidc(credentials, conn, reauthenticate)\n\u001b[1;32m    624\u001b[0m \u001b[39melse\u001b[39;00m:\n\u001b[0;32m--> 625\u001b[0m     auth_func(credentials, conn)\n",
            "File \u001b[0;32m~/MyEssex/GV918-2023/venv/lib/python3.12/site-packages/pymongo/auth.py:530\u001b[0m, in \u001b[0;36m_authenticate_default\u001b[0;34m(credentials, conn)\u001b[0m\n\u001b[1;32m    528\u001b[0m         \u001b[39mreturn\u001b[39;00m _authenticate_scram(credentials, conn, \u001b[39m\"\u001b[39m\u001b[39mSCRAM-SHA-256\u001b[39m\u001b[39m\"\u001b[39m)\n\u001b[1;32m    529\u001b[0m     \u001b[39melse\u001b[39;00m:\n\u001b[0;32m--> 530\u001b[0m         \u001b[39mreturn\u001b[39;00m _authenticate_scram(credentials, conn, \u001b[39m\"\u001b[39;49m\u001b[39mSCRAM-SHA-1\u001b[39;49m\u001b[39m\"\u001b[39;49m)\n\u001b[1;32m    531\u001b[0m \u001b[39melse\u001b[39;00m:\n\u001b[1;32m    532\u001b[0m     \u001b[39mreturn\u001b[39;00m _authenticate_scram(credentials, conn, \u001b[39m\"\u001b[39m\u001b[39mSCRAM-SHA-1\u001b[39m\u001b[39m\"\u001b[39m)\n",
            "File \u001b[0;32m~/MyEssex/GV918-2023/venv/lib/python3.12/site-packages/pymongo/auth.py:298\u001b[0m, in \u001b[0;36m_authenticate_scram\u001b[0;34m(credentials, conn, mechanism)\u001b[0m\n\u001b[1;32m    289\u001b[0m server_sig \u001b[39m=\u001b[39m standard_b64encode(_hmac(server_key, auth_msg, digestmod)\u001b[39m.\u001b[39mdigest())\n\u001b[1;32m    291\u001b[0m cmd \u001b[39m=\u001b[39m SON(\n\u001b[1;32m    292\u001b[0m     [\n\u001b[1;32m    293\u001b[0m         (\u001b[39m\"\u001b[39m\u001b[39msaslContinue\u001b[39m\u001b[39m\"\u001b[39m, \u001b[39m1\u001b[39m),\n\u001b[0;32m   (...)\u001b[0m\n\u001b[1;32m    296\u001b[0m     ]\n\u001b[1;32m    297\u001b[0m )\n\u001b[0;32m--> 298\u001b[0m res \u001b[39m=\u001b[39m conn\u001b[39m.\u001b[39;49mcommand(source, cmd)\n\u001b[1;32m    300\u001b[0m parsed \u001b[39m=\u001b[39m _parse_scram_response(res[\u001b[39m\"\u001b[39m\u001b[39mpayload\u001b[39m\u001b[39m\"\u001b[39m])\n\u001b[1;32m    301\u001b[0m \u001b[39mif\u001b[39;00m \u001b[39mnot\u001b[39;00m hmac\u001b[39m.\u001b[39mcompare_digest(parsed[\u001b[39mb\u001b[39m\u001b[39m\"\u001b[39m\u001b[39mv\u001b[39m\u001b[39m\"\u001b[39m], server_sig):\n",
            "File \u001b[0;32m~/MyEssex/GV918-2023/venv/lib/python3.12/site-packages/pymongo/helpers.py:322\u001b[0m, in \u001b[0;36m_handle_reauth.<locals>.inner\u001b[0;34m(*args, **kwargs)\u001b[0m\n\u001b[1;32m    319\u001b[0m \u001b[39mfrom\u001b[39;00m \u001b[39mpymongo\u001b[39;00m\u001b[39m.\u001b[39;00m\u001b[39mpool\u001b[39;00m \u001b[39mimport\u001b[39;00m Connection\n\u001b[1;32m    321\u001b[0m \u001b[39mtry\u001b[39;00m:\n\u001b[0;32m--> 322\u001b[0m     \u001b[39mreturn\u001b[39;00m func(\u001b[39m*\u001b[39;49margs, \u001b[39m*\u001b[39;49m\u001b[39m*\u001b[39;49mkwargs)\n\u001b[1;32m    323\u001b[0m \u001b[39mexcept\u001b[39;00m OperationFailure \u001b[39mas\u001b[39;00m exc:\n\u001b[1;32m    324\u001b[0m     \u001b[39mif\u001b[39;00m no_reauth:\n",
            "File \u001b[0;32m~/MyEssex/GV918-2023/venv/lib/python3.12/site-packages/pymongo/pool.py:968\u001b[0m, in \u001b[0;36mConnection.command\u001b[0;34m(self, dbname, spec, read_preference, codec_options, check, allowable_errors, read_concern, write_concern, parse_write_concern_error, collation, session, client, retryable_write, publish_events, user_fields, exhaust_allowed)\u001b[0m\n\u001b[1;32m    966\u001b[0m     \u001b[39mself\u001b[39m\u001b[39m.\u001b[39m_raise_if_not_writable(unacknowledged)\n\u001b[1;32m    967\u001b[0m \u001b[39mtry\u001b[39;00m:\n\u001b[0;32m--> 968\u001b[0m     \u001b[39mreturn\u001b[39;00m command(\n\u001b[1;32m    969\u001b[0m         \u001b[39mself\u001b[39;49m,\n\u001b[1;32m    970\u001b[0m         dbname,\n\u001b[1;32m    971\u001b[0m         spec,\n\u001b[1;32m    972\u001b[0m         \u001b[39mself\u001b[39;49m\u001b[39m.\u001b[39;49mis_mongos,\n\u001b[1;32m    973\u001b[0m         read_preference,\n\u001b[1;32m    974\u001b[0m         codec_options,\n\u001b[1;32m    975\u001b[0m         session,\n\u001b[1;32m    976\u001b[0m         client,\n\u001b[1;32m    977\u001b[0m         check,\n\u001b[1;32m    978\u001b[0m         allowable_errors,\n\u001b[1;32m    979\u001b[0m         \u001b[39mself\u001b[39;49m\u001b[39m.\u001b[39;49maddress,\n\u001b[1;32m    980\u001b[0m         listeners,\n\u001b[1;32m    981\u001b[0m         \u001b[39mself\u001b[39;49m\u001b[39m.\u001b[39;49mmax_bson_size,\n\u001b[1;32m    982\u001b[0m         read_concern,\n\u001b[1;32m    983\u001b[0m         parse_write_concern_error\u001b[39m=\u001b[39;49mparse_write_concern_error,\n\u001b[1;32m    984\u001b[0m         collation\u001b[39m=\u001b[39;49mcollation,\n\u001b[1;32m    985\u001b[0m         compression_ctx\u001b[39m=\u001b[39;49m\u001b[39mself\u001b[39;49m\u001b[39m.\u001b[39;49mcompression_context,\n\u001b[1;32m    986\u001b[0m         use_op_msg\u001b[39m=\u001b[39;49m\u001b[39mself\u001b[39;49m\u001b[39m.\u001b[39;49mop_msg_enabled,\n\u001b[1;32m    987\u001b[0m         unacknowledged\u001b[39m=\u001b[39;49munacknowledged,\n\u001b[1;32m    988\u001b[0m         user_fields\u001b[39m=\u001b[39;49muser_fields,\n\u001b[1;32m    989\u001b[0m         exhaust_allowed\u001b[39m=\u001b[39;49mexhaust_allowed,\n\u001b[1;32m    990\u001b[0m         write_concern\u001b[39m=\u001b[39;49mwrite_concern,\n\u001b[1;32m    991\u001b[0m     )\n\u001b[1;32m    992\u001b[0m \u001b[39mexcept\u001b[39;00m (OperationFailure, NotPrimaryError):\n\u001b[1;32m    993\u001b[0m     \u001b[39mraise\u001b[39;00m\n",
            "File \u001b[0;32m~/MyEssex/GV918-2023/venv/lib/python3.12/site-packages/pymongo/network.py:192\u001b[0m, in \u001b[0;36mcommand\u001b[0;34m(conn, dbname, spec, is_mongos, read_preference, codec_options, session, client, check, allowable_errors, address, listeners, max_bson_size, read_concern, parse_write_concern_error, collation, compression_ctx, use_op_msg, unacknowledged, user_fields, exhaust_allowed, write_concern)\u001b[0m\n\u001b[1;32m    190\u001b[0m             client\u001b[39m.\u001b[39m_process_response(response_doc, session)\n\u001b[1;32m    191\u001b[0m         \u001b[39mif\u001b[39;00m check:\n\u001b[0;32m--> 192\u001b[0m             helpers\u001b[39m.\u001b[39;49m_check_command_response(\n\u001b[1;32m    193\u001b[0m                 response_doc,\n\u001b[1;32m    194\u001b[0m                 conn\u001b[39m.\u001b[39;49mmax_wire_version,\n\u001b[1;32m    195\u001b[0m                 allowable_errors,\n\u001b[1;32m    196\u001b[0m                 parse_write_concern_error\u001b[39m=\u001b[39;49mparse_write_concern_error,\n\u001b[1;32m    197\u001b[0m             )\n\u001b[1;32m    198\u001b[0m \u001b[39mexcept\u001b[39;00m \u001b[39mException\u001b[39;00m \u001b[39mas\u001b[39;00m exc:\n\u001b[1;32m    199\u001b[0m     \u001b[39mif\u001b[39;00m publish:\n",
            "File \u001b[0;32m~/MyEssex/GV918-2023/venv/lib/python3.12/site-packages/pymongo/helpers.py:230\u001b[0m, in \u001b[0;36m_check_command_response\u001b[0;34m(response, max_wire_version, allowable_errors, parse_write_concern_error)\u001b[0m\n\u001b[1;32m    227\u001b[0m \u001b[39melif\u001b[39;00m code \u001b[39m==\u001b[39m \u001b[39m43\u001b[39m:\n\u001b[1;32m    228\u001b[0m     \u001b[39mraise\u001b[39;00m CursorNotFound(errmsg, code, response, max_wire_version)\n\u001b[0;32m--> 230\u001b[0m \u001b[39mraise\u001b[39;00m OperationFailure(errmsg, code, response, max_wire_version)\n",
            "\u001b[0;31mOperationFailure\u001b[0m: bad auth : authentication failed, full error: {'ok': 0, 'errmsg': 'bad auth : authentication failed', 'code': 8000, 'codeName': 'AtlasError'}"
          ]
        }
      ],
      "source": [
        "collection.insert_one({\"FirstName\": \"Harry\", \"FamilyName\": \"Kane\"})"
      ]
    },
    {
      "cell_type": "markdown",
      "metadata": {
        "id": "CqetLEzMV2tw"
      },
      "source": [
        "Let's check the record on the web"
      ]
    },
    {
      "cell_type": "markdown",
      "metadata": {
        "id": "Yrt-QmtWYciW"
      },
      "source": [
        "### More data"
      ]
    },
    {
      "cell_type": "code",
      "execution_count": 25,
      "metadata": {
        "id": "qaYrAG5nYe3F"
      },
      "outputs": [
        {
          "name": "stdout",
          "output_type": "stream",
          "text": [
            "zsh:1: no matches found: https://www.dropbox.com/s/yl8p0598gm8ek6c/df_all_mps_wk09.csv?dl=0\n"
          ]
        }
      ],
      "source": [
        "!wget https://www.dropbox.com/s/yl8p0598gm8ek6c/df_all_mps_wk09.csv?dl=0 -O df_all_mps_wk09.csv"
      ]
    },
    {
      "cell_type": "markdown",
      "metadata": {
        "id": "qi7Lc784beRS"
      },
      "source": [
        "### Insert many records\n",
        "\n",
        "1. Read csv data\n",
        "2. Convert the data to a list of dictionaries\n",
        "3. Create new collection\n",
        "4. Put the data into the new collection"
      ]
    },
    {
      "cell_type": "code",
      "execution_count": 26,
      "metadata": {
        "id": "QycLYYPPVjfM"
      },
      "outputs": [
        {
          "data": {
            "text/html": [
              "<div>\n",
              "<style scoped>\n",
              "    .dataframe tbody tr th:only-of-type {\n",
              "        vertical-align: middle;\n",
              "    }\n",
              "\n",
              "    .dataframe tbody tr th {\n",
              "        vertical-align: top;\n",
              "    }\n",
              "\n",
              "    .dataframe thead th {\n",
              "        text-align: right;\n",
              "    }\n",
              "</style>\n",
              "<table border=\"1\" class=\"dataframe\">\n",
              "  <thead>\n",
              "    <tr style=\"text-align: right;\">\n",
              "      <th></th>\n",
              "      <th>id</th>\n",
              "      <th>name</th>\n",
              "      <th>gender</th>\n",
              "      <th>party</th>\n",
              "      <th>const</th>\n",
              "    </tr>\n",
              "  </thead>\n",
              "  <tbody>\n",
              "    <tr>\n",
              "      <th>0</th>\n",
              "      <td>172</td>\n",
              "      <td>Abbott, Ms Diane</td>\n",
              "      <td>F</td>\n",
              "      <td>Labour</td>\n",
              "      <td>Hackney North and Stoke Newington</td>\n",
              "    </tr>\n",
              "    <tr>\n",
              "      <th>1</th>\n",
              "      <td>4212</td>\n",
              "      <td>Abrahams, Debbie</td>\n",
              "      <td>F</td>\n",
              "      <td>Labour</td>\n",
              "      <td>Oldham East and Saddleworth</td>\n",
              "    </tr>\n",
              "    <tr>\n",
              "      <th>2</th>\n",
              "      <td>4057</td>\n",
              "      <td>Adams, Nigel</td>\n",
              "      <td>M</td>\n",
              "      <td>Conservative</td>\n",
              "      <td>Selby and Ainsty</td>\n",
              "    </tr>\n",
              "    <tr>\n",
              "      <th>3</th>\n",
              "      <td>4639</td>\n",
              "      <td>Afolami, Bim</td>\n",
              "      <td>M</td>\n",
              "      <td>Conservative</td>\n",
              "      <td>Hitchin and Harpenden</td>\n",
              "    </tr>\n",
              "    <tr>\n",
              "      <th>4</th>\n",
              "      <td>1586</td>\n",
              "      <td>Afriyie, Adam</td>\n",
              "      <td>M</td>\n",
              "      <td>Conservative</td>\n",
              "      <td>Windsor</td>\n",
              "    </tr>\n",
              "  </tbody>\n",
              "</table>\n",
              "</div>"
            ],
            "text/plain": [
              "     id              name gender         party  \\\n",
              "0   172  Abbott, Ms Diane      F        Labour   \n",
              "1  4212  Abrahams, Debbie      F        Labour   \n",
              "2  4057      Adams, Nigel      M  Conservative   \n",
              "3  4639      Afolami, Bim      M  Conservative   \n",
              "4  1586     Afriyie, Adam      M  Conservative   \n",
              "\n",
              "                               const  \n",
              "0  Hackney North and Stoke Newington  \n",
              "1        Oldham East and Saddleworth  \n",
              "2                   Selby and Ainsty  \n",
              "3              Hitchin and Harpenden  \n",
              "4                            Windsor  "
            ]
          },
          "execution_count": 26,
          "metadata": {},
          "output_type": "execute_result"
        }
      ],
      "source": [
        "df_mps = pd.read_csv(\"df_all_mps_wk09.csv\")\n",
        "df_mps.head()"
      ]
    },
    {
      "cell_type": "code",
      "execution_count": 27,
      "metadata": {
        "id": "zvFX9fjPaJ5L"
      },
      "outputs": [],
      "source": [
        "df_mps.rename({\"id\": '_id'}, axis = \"columns\", inplace = True)"
      ]
    },
    {
      "cell_type": "code",
      "execution_count": 28,
      "metadata": {
        "id": "KmPpZoeFak6-"
      },
      "outputs": [],
      "source": [
        "dict_mps = df_mps.to_dict(orient = \"records\")"
      ]
    },
    {
      "cell_type": "code",
      "execution_count": 29,
      "metadata": {
        "id": "o3je8cD5awku"
      },
      "outputs": [
        {
          "data": {
            "text/plain": [
              "[{'_id': 172,\n",
              "  'name': 'Abbott, Ms Diane',\n",
              "  'gender': 'F',\n",
              "  'party': 'Labour',\n",
              "  'const': 'Hackney North and Stoke Newington'},\n",
              " {'_id': 4212,\n",
              "  'name': 'Abrahams, Debbie',\n",
              "  'gender': 'F',\n",
              "  'party': 'Labour',\n",
              "  'const': 'Oldham East and Saddleworth'},\n",
              " {'_id': 4057,\n",
              "  'name': 'Adams, Nigel',\n",
              "  'gender': 'M',\n",
              "  'party': 'Conservative',\n",
              "  'const': 'Selby and Ainsty'}]"
            ]
          },
          "execution_count": 29,
          "metadata": {},
          "output_type": "execute_result"
        }
      ],
      "source": [
        "dict_mps[:3]"
      ]
    },
    {
      "cell_type": "code",
      "execution_count": 30,
      "metadata": {
        "id": "Hq4mA0b1opzC"
      },
      "outputs": [
        {
          "ename": "OperationFailure",
          "evalue": "bad auth : authentication failed, full error: {'ok': 0, 'errmsg': 'bad auth : authentication failed', 'code': 8000, 'codeName': 'AtlasError'}",
          "output_type": "error",
          "traceback": [
            "\u001b[0;31m---------------------------------------------------------------------------\u001b[0m",
            "\u001b[0;31mOperationFailure\u001b[0m                          Traceback (most recent call last)",
            "\u001b[1;32m/Users/qingengdu/MyEssex/GV918-2023/Week_09/Week09_MongoDB_demo (1).ipynb Cell 30\u001b[0m line \u001b[0;36m1\n\u001b[0;32m----> <a href='vscode-notebook-cell:/Users/qingengdu/MyEssex/GV918-2023/Week_09/Week09_MongoDB_demo%20%281%29.ipynb#X40sZmlsZQ%3D%3D?line=0'>1</a>\u001b[0m db\u001b[39m.\u001b[39;49mcreate_collection(\u001b[39m\"\u001b[39;49m\u001b[39mmps\u001b[39;49m\u001b[39m\"\u001b[39;49m)\n",
            "File \u001b[0;32m~/MyEssex/GV918-2023/venv/lib/python3.12/site-packages/pymongo/_csot.py:107\u001b[0m, in \u001b[0;36mapply.<locals>.csot_wrapper\u001b[0;34m(self, *args, **kwargs)\u001b[0m\n\u001b[1;32m    105\u001b[0m         \u001b[39mwith\u001b[39;00m _TimeoutContext(timeout):\n\u001b[1;32m    106\u001b[0m             \u001b[39mreturn\u001b[39;00m func(\u001b[39mself\u001b[39m, \u001b[39m*\u001b[39margs, \u001b[39m*\u001b[39m\u001b[39m*\u001b[39mkwargs)\n\u001b[0;32m--> 107\u001b[0m \u001b[39mreturn\u001b[39;00m func(\u001b[39mself\u001b[39;49m, \u001b[39m*\u001b[39;49margs, \u001b[39m*\u001b[39;49m\u001b[39m*\u001b[39;49mkwargs)\n",
            "File \u001b[0;32m~/MyEssex/GV918-2023/venv/lib/python3.12/site-packages/pymongo/database.py:465\u001b[0m, in \u001b[0;36mDatabase.create_collection\u001b[0;34m(self, name, codec_options, read_preference, write_concern, read_concern, session, check_exists, **kwargs)\u001b[0m\n\u001b[1;32m    457\u001b[0m     common\u001b[39m.\u001b[39mvalidate_is_mapping(\u001b[39m\"\u001b[39m\u001b[39mclusteredIndex\u001b[39m\u001b[39m\"\u001b[39m, clustered_index)\n\u001b[1;32m    459\u001b[0m \u001b[39mwith\u001b[39;00m \u001b[39mself\u001b[39m\u001b[39m.\u001b[39m__client\u001b[39m.\u001b[39m_tmp_session(session) \u001b[39mas\u001b[39;00m s:\n\u001b[1;32m    460\u001b[0m     \u001b[39m# Skip this check in a transaction where listCollections is not\u001b[39;00m\n\u001b[1;32m    461\u001b[0m     \u001b[39m# supported.\u001b[39;00m\n\u001b[1;32m    462\u001b[0m     \u001b[39mif\u001b[39;00m (\n\u001b[1;32m    463\u001b[0m         check_exists\n\u001b[1;32m    464\u001b[0m         \u001b[39mand\u001b[39;00m (\u001b[39mnot\u001b[39;00m s \u001b[39mor\u001b[39;00m \u001b[39mnot\u001b[39;00m s\u001b[39m.\u001b[39min_transaction)\n\u001b[0;32m--> 465\u001b[0m         \u001b[39mand\u001b[39;00m name \u001b[39min\u001b[39;00m \u001b[39mself\u001b[39;49m\u001b[39m.\u001b[39;49mlist_collection_names(\u001b[39mfilter\u001b[39;49m\u001b[39m=\u001b[39;49m{\u001b[39m\"\u001b[39;49m\u001b[39mname\u001b[39;49m\u001b[39m\"\u001b[39;49m: name}, session\u001b[39m=\u001b[39;49ms)\n\u001b[1;32m    466\u001b[0m     ):\n\u001b[1;32m    467\u001b[0m         \u001b[39mraise\u001b[39;00m CollectionInvalid(\u001b[39m\"\u001b[39m\u001b[39mcollection \u001b[39m\u001b[39m%s\u001b[39;00m\u001b[39m already exists\u001b[39m\u001b[39m\"\u001b[39m \u001b[39m%\u001b[39m name)\n\u001b[1;32m    468\u001b[0m     \u001b[39mreturn\u001b[39;00m Collection(\n\u001b[1;32m    469\u001b[0m         \u001b[39mself\u001b[39m,\n\u001b[1;32m    470\u001b[0m         name,\n\u001b[0;32m   (...)\u001b[0m\n\u001b[1;32m    477\u001b[0m         \u001b[39m*\u001b[39m\u001b[39m*\u001b[39mkwargs,\n\u001b[1;32m    478\u001b[0m     )\n",
            "File \u001b[0;32m~/MyEssex/GV918-2023/venv/lib/python3.12/site-packages/pymongo/database.py:1147\u001b[0m, in \u001b[0;36mDatabase.list_collection_names\u001b[0;34m(self, session, filter, comment, **kwargs)\u001b[0m\n\u001b[1;32m   1144\u001b[0m     \u001b[39mif\u001b[39;00m \u001b[39mnot\u001b[39;00m \u001b[39mfilter\u001b[39m \u001b[39mor\u001b[39;00m (\u001b[39mlen\u001b[39m(\u001b[39mfilter\u001b[39m) \u001b[39m==\u001b[39m \u001b[39m1\u001b[39m \u001b[39mand\u001b[39;00m \u001b[39m\"\u001b[39m\u001b[39mname\u001b[39m\u001b[39m\"\u001b[39m \u001b[39min\u001b[39;00m \u001b[39mfilter\u001b[39m):\n\u001b[1;32m   1145\u001b[0m         kwargs[\u001b[39m\"\u001b[39m\u001b[39mnameOnly\u001b[39m\u001b[39m\"\u001b[39m] \u001b[39m=\u001b[39m \u001b[39mTrue\u001b[39;00m\n\u001b[0;32m-> 1147\u001b[0m \u001b[39mreturn\u001b[39;00m [result[\u001b[39m\"\u001b[39m\u001b[39mname\u001b[39m\u001b[39m\"\u001b[39m] \u001b[39mfor\u001b[39;00m result \u001b[39min\u001b[39;00m \u001b[39mself\u001b[39;49m\u001b[39m.\u001b[39;49mlist_collections(session\u001b[39m=\u001b[39;49msession, \u001b[39m*\u001b[39;49m\u001b[39m*\u001b[39;49mkwargs)]\n",
            "File \u001b[0;32m~/MyEssex/GV918-2023/venv/lib/python3.12/site-packages/pymongo/database.py:1099\u001b[0m, in \u001b[0;36mDatabase.list_collections\u001b[0;34m(self, session, filter, comment, **kwargs)\u001b[0m\n\u001b[1;32m   1091\u001b[0m \u001b[39mdef\u001b[39;00m \u001b[39m_cmd\u001b[39m(\n\u001b[1;32m   1092\u001b[0m     session: Optional[ClientSession],\n\u001b[1;32m   1093\u001b[0m     _server: Server,\n\u001b[1;32m   1094\u001b[0m     conn: Connection,\n\u001b[1;32m   1095\u001b[0m     read_preference: _ServerMode,\n\u001b[1;32m   1096\u001b[0m ) \u001b[39m-\u001b[39m\u001b[39m>\u001b[39m CommandCursor[MutableMapping[\u001b[39mstr\u001b[39m, Any]]:\n\u001b[1;32m   1097\u001b[0m     \u001b[39mreturn\u001b[39;00m \u001b[39mself\u001b[39m\u001b[39m.\u001b[39m_list_collections(conn, session, read_preference\u001b[39m=\u001b[39mread_preference, \u001b[39m*\u001b[39m\u001b[39m*\u001b[39mkwargs)\n\u001b[0;32m-> 1099\u001b[0m \u001b[39mreturn\u001b[39;00m \u001b[39mself\u001b[39;49m\u001b[39m.\u001b[39;49m__client\u001b[39m.\u001b[39;49m_retryable_read(_cmd, read_pref, session)\n",
            "File \u001b[0;32m~/MyEssex/GV918-2023/venv/lib/python3.12/site-packages/pymongo/mongo_client.py:1492\u001b[0m, in \u001b[0;36mMongoClient._retryable_read\u001b[0;34m(self, func, read_pref, session, address, retryable)\u001b[0m\n\u001b[1;32m   1487\u001b[0m \u001b[39m# Ensure that the client supports retrying on reads and there is no session in\u001b[39;00m\n\u001b[1;32m   1488\u001b[0m \u001b[39m# transaction, otherwise, we will not support retry behavior for this call.\u001b[39;00m\n\u001b[1;32m   1489\u001b[0m retryable \u001b[39m=\u001b[39m \u001b[39mbool\u001b[39m(\n\u001b[1;32m   1490\u001b[0m     retryable \u001b[39mand\u001b[39;00m \u001b[39mself\u001b[39m\u001b[39m.\u001b[39moptions\u001b[39m.\u001b[39mretry_reads \u001b[39mand\u001b[39;00m \u001b[39mnot\u001b[39;00m (session \u001b[39mand\u001b[39;00m session\u001b[39m.\u001b[39min_transaction)\n\u001b[1;32m   1491\u001b[0m )\n\u001b[0;32m-> 1492\u001b[0m \u001b[39mreturn\u001b[39;00m \u001b[39mself\u001b[39;49m\u001b[39m.\u001b[39;49m_retry_internal(\n\u001b[1;32m   1493\u001b[0m     func,\n\u001b[1;32m   1494\u001b[0m     session,\n\u001b[1;32m   1495\u001b[0m     \u001b[39mNone\u001b[39;49;00m,\n\u001b[1;32m   1496\u001b[0m     is_read\u001b[39m=\u001b[39;49m\u001b[39mTrue\u001b[39;49;00m,\n\u001b[1;32m   1497\u001b[0m     address\u001b[39m=\u001b[39;49maddress,\n\u001b[1;32m   1498\u001b[0m     read_pref\u001b[39m=\u001b[39;49mread_pref,\n\u001b[1;32m   1499\u001b[0m     retryable\u001b[39m=\u001b[39;49mretryable,\n\u001b[1;32m   1500\u001b[0m )\n",
            "File \u001b[0;32m~/MyEssex/GV918-2023/venv/lib/python3.12/site-packages/pymongo/_csot.py:107\u001b[0m, in \u001b[0;36mapply.<locals>.csot_wrapper\u001b[0;34m(self, *args, **kwargs)\u001b[0m\n\u001b[1;32m    105\u001b[0m         \u001b[39mwith\u001b[39;00m _TimeoutContext(timeout):\n\u001b[1;32m    106\u001b[0m             \u001b[39mreturn\u001b[39;00m func(\u001b[39mself\u001b[39m, \u001b[39m*\u001b[39margs, \u001b[39m*\u001b[39m\u001b[39m*\u001b[39mkwargs)\n\u001b[0;32m--> 107\u001b[0m \u001b[39mreturn\u001b[39;00m func(\u001b[39mself\u001b[39;49m, \u001b[39m*\u001b[39;49margs, \u001b[39m*\u001b[39;49m\u001b[39m*\u001b[39;49mkwargs)\n",
            "File \u001b[0;32m~/MyEssex/GV918-2023/venv/lib/python3.12/site-packages/pymongo/mongo_client.py:1462\u001b[0m, in \u001b[0;36mMongoClient._retry_internal\u001b[0;34m(self, func, session, bulk, is_read, address, read_pref, retryable)\u001b[0m\n\u001b[1;32m   1428\u001b[0m \u001b[39m@_csot\u001b[39m\u001b[39m.\u001b[39mapply\n\u001b[1;32m   1429\u001b[0m \u001b[39mdef\u001b[39;00m \u001b[39m_retry_internal\u001b[39m(\n\u001b[1;32m   1430\u001b[0m     \u001b[39mself\u001b[39m,\n\u001b[0;32m   (...)\u001b[0m\n\u001b[1;32m   1437\u001b[0m     retryable: \u001b[39mbool\u001b[39m \u001b[39m=\u001b[39m \u001b[39mFalse\u001b[39;00m,\n\u001b[1;32m   1438\u001b[0m ) \u001b[39m-\u001b[39m\u001b[39m>\u001b[39m T:\n\u001b[1;32m   1439\u001b[0m \u001b[39m    \u001b[39m\u001b[39m\"\"\"Internal retryable helper for all client transactions.\u001b[39;00m\n\u001b[1;32m   1440\u001b[0m \n\u001b[1;32m   1441\u001b[0m \u001b[39m    :Parameters:\u001b[39;00m\n\u001b[0;32m   (...)\u001b[0m\n\u001b[1;32m   1451\u001b[0m \u001b[39m      Output of the calling func()\u001b[39;00m\n\u001b[1;32m   1452\u001b[0m \u001b[39m    \"\"\"\u001b[39;00m\n\u001b[1;32m   1453\u001b[0m     \u001b[39mreturn\u001b[39;00m _ClientConnectionRetryable(\n\u001b[1;32m   1454\u001b[0m         mongo_client\u001b[39m=\u001b[39;49m\u001b[39mself\u001b[39;49m,\n\u001b[1;32m   1455\u001b[0m         func\u001b[39m=\u001b[39;49mfunc,\n\u001b[1;32m   1456\u001b[0m         bulk\u001b[39m=\u001b[39;49mbulk,\n\u001b[1;32m   1457\u001b[0m         is_read\u001b[39m=\u001b[39;49mis_read,\n\u001b[1;32m   1458\u001b[0m         session\u001b[39m=\u001b[39;49msession,\n\u001b[1;32m   1459\u001b[0m         read_pref\u001b[39m=\u001b[39;49mread_pref,\n\u001b[1;32m   1460\u001b[0m         address\u001b[39m=\u001b[39;49maddress,\n\u001b[1;32m   1461\u001b[0m         retryable\u001b[39m=\u001b[39;49mretryable,\n\u001b[0;32m-> 1462\u001b[0m     )\u001b[39m.\u001b[39;49mrun()\n",
            "File \u001b[0;32m~/MyEssex/GV918-2023/venv/lib/python3.12/site-packages/pymongo/mongo_client.py:2315\u001b[0m, in \u001b[0;36m_ClientConnectionRetryable.run\u001b[0;34m(self)\u001b[0m\n\u001b[1;32m   2313\u001b[0m \u001b[39mself\u001b[39m\u001b[39m.\u001b[39m_check_last_error(check_csot\u001b[39m=\u001b[39m\u001b[39mTrue\u001b[39;00m)\n\u001b[1;32m   2314\u001b[0m \u001b[39mtry\u001b[39;00m:\n\u001b[0;32m-> 2315\u001b[0m     \u001b[39mreturn\u001b[39;00m \u001b[39mself\u001b[39;49m\u001b[39m.\u001b[39;49m_read() \u001b[39mif\u001b[39;00m \u001b[39mself\u001b[39m\u001b[39m.\u001b[39m_is_read \u001b[39melse\u001b[39;00m \u001b[39mself\u001b[39m\u001b[39m.\u001b[39m_write()\n\u001b[1;32m   2316\u001b[0m \u001b[39mexcept\u001b[39;00m ServerSelectionTimeoutError:\n\u001b[1;32m   2317\u001b[0m     \u001b[39m# The application may think the write was never attempted\u001b[39;00m\n\u001b[1;32m   2318\u001b[0m     \u001b[39m# if we raise ServerSelectionTimeoutError on the retry\u001b[39;00m\n\u001b[1;32m   2319\u001b[0m     \u001b[39m# attempt. Raise the original exception instead.\u001b[39;00m\n\u001b[1;32m   2320\u001b[0m     \u001b[39mself\u001b[39m\u001b[39m.\u001b[39m_check_last_error()\n",
            "File \u001b[0;32m~/MyEssex/GV918-2023/venv/lib/python3.12/site-packages/pymongo/mongo_client.py:2439\u001b[0m, in \u001b[0;36m_ClientConnectionRetryable._read\u001b[0;34m(self)\u001b[0m\n\u001b[1;32m   2437\u001b[0m \u001b[39mself\u001b[39m\u001b[39m.\u001b[39m_server \u001b[39m=\u001b[39m \u001b[39mself\u001b[39m\u001b[39m.\u001b[39m_get_server()\n\u001b[1;32m   2438\u001b[0m \u001b[39massert\u001b[39;00m \u001b[39mself\u001b[39m\u001b[39m.\u001b[39m_read_pref \u001b[39mis\u001b[39;00m \u001b[39mnot\u001b[39;00m \u001b[39mNone\u001b[39;00m, \u001b[39m\"\u001b[39m\u001b[39mRead Preference required on read calls\u001b[39m\u001b[39m\"\u001b[39m\n\u001b[0;32m-> 2439\u001b[0m \u001b[39mwith\u001b[39;49;00m \u001b[39mself\u001b[39;49m\u001b[39m.\u001b[39;49m_client\u001b[39m.\u001b[39;49m_conn_from_server(\u001b[39mself\u001b[39;49m\u001b[39m.\u001b[39;49m_read_pref, \u001b[39mself\u001b[39;49m\u001b[39m.\u001b[39;49m_server, \u001b[39mself\u001b[39;49m\u001b[39m.\u001b[39;49m_session) \u001b[39mas\u001b[39;49;00m (\n\u001b[1;32m   2440\u001b[0m     conn,\n\u001b[1;32m   2441\u001b[0m     read_pref,\n\u001b[1;32m   2442\u001b[0m ):\n\u001b[1;32m   2443\u001b[0m     \u001b[39mif\u001b[39;49;00m \u001b[39mself\u001b[39;49m\u001b[39m.\u001b[39;49m_retrying \u001b[39mand\u001b[39;49;00m \u001b[39mnot\u001b[39;49;00m \u001b[39mself\u001b[39;49m\u001b[39m.\u001b[39;49m_retryable:\n\u001b[1;32m   2444\u001b[0m         \u001b[39mself\u001b[39;49m\u001b[39m.\u001b[39;49m_check_last_error()\n",
            "File \u001b[0;32m/Library/Frameworks/Python.framework/Versions/3.12/lib/python3.12/contextlib.py:137\u001b[0m, in \u001b[0;36m_GeneratorContextManager.__enter__\u001b[0;34m(self)\u001b[0m\n\u001b[1;32m    135\u001b[0m \u001b[39mdel\u001b[39;00m \u001b[39mself\u001b[39m\u001b[39m.\u001b[39margs, \u001b[39mself\u001b[39m\u001b[39m.\u001b[39mkwds, \u001b[39mself\u001b[39m\u001b[39m.\u001b[39mfunc\n\u001b[1;32m    136\u001b[0m \u001b[39mtry\u001b[39;00m:\n\u001b[0;32m--> 137\u001b[0m     \u001b[39mreturn\u001b[39;00m \u001b[39mnext\u001b[39;49m(\u001b[39mself\u001b[39;49m\u001b[39m.\u001b[39;49mgen)\n\u001b[1;32m    138\u001b[0m \u001b[39mexcept\u001b[39;00m \u001b[39mStopIteration\u001b[39;00m:\n\u001b[1;32m    139\u001b[0m     \u001b[39mraise\u001b[39;00m \u001b[39mRuntimeError\u001b[39;00m(\u001b[39m\"\u001b[39m\u001b[39mgenerator didn\u001b[39m\u001b[39m'\u001b[39m\u001b[39mt yield\u001b[39m\u001b[39m\"\u001b[39m) \u001b[39mfrom\u001b[39;00m \u001b[39mNone\u001b[39;00m\n",
            "File \u001b[0;32m~/MyEssex/GV918-2023/venv/lib/python3.12/site-packages/pymongo/mongo_client.py:1330\u001b[0m, in \u001b[0;36mMongoClient._conn_from_server\u001b[0;34m(self, read_preference, server, session)\u001b[0m\n\u001b[1;32m   1327\u001b[0m topology \u001b[39m=\u001b[39m \u001b[39mself\u001b[39m\u001b[39m.\u001b[39m_get_topology()\n\u001b[1;32m   1328\u001b[0m single \u001b[39m=\u001b[39m topology\u001b[39m.\u001b[39mdescription\u001b[39m.\u001b[39mtopology_type \u001b[39m==\u001b[39m TOPOLOGY_TYPE\u001b[39m.\u001b[39mSingle\n\u001b[0;32m-> 1330\u001b[0m \u001b[39mwith\u001b[39;49;00m \u001b[39mself\u001b[39;49m\u001b[39m.\u001b[39;49m_checkout(server, session) \u001b[39mas\u001b[39;49;00m conn:\n\u001b[1;32m   1331\u001b[0m     \u001b[39mif\u001b[39;49;00m single:\n\u001b[1;32m   1332\u001b[0m         \u001b[39mif\u001b[39;49;00m conn\u001b[39m.\u001b[39;49mis_repl \u001b[39mand\u001b[39;49;00m \u001b[39mnot\u001b[39;49;00m (session \u001b[39mand\u001b[39;49;00m session\u001b[39m.\u001b[39;49min_transaction):\n\u001b[1;32m   1333\u001b[0m             \u001b[39m# Use primary preferred to ensure any repl set member\u001b[39;49;00m\n\u001b[1;32m   1334\u001b[0m             \u001b[39m# can handle the request.\u001b[39;49;00m\n",
            "File \u001b[0;32m/Library/Frameworks/Python.framework/Versions/3.12/lib/python3.12/contextlib.py:137\u001b[0m, in \u001b[0;36m_GeneratorContextManager.__enter__\u001b[0;34m(self)\u001b[0m\n\u001b[1;32m    135\u001b[0m \u001b[39mdel\u001b[39;00m \u001b[39mself\u001b[39m\u001b[39m.\u001b[39margs, \u001b[39mself\u001b[39m\u001b[39m.\u001b[39mkwds, \u001b[39mself\u001b[39m\u001b[39m.\u001b[39mfunc\n\u001b[1;32m    136\u001b[0m \u001b[39mtry\u001b[39;00m:\n\u001b[0;32m--> 137\u001b[0m     \u001b[39mreturn\u001b[39;00m \u001b[39mnext\u001b[39;49m(\u001b[39mself\u001b[39;49m\u001b[39m.\u001b[39;49mgen)\n\u001b[1;32m    138\u001b[0m \u001b[39mexcept\u001b[39;00m \u001b[39mStopIteration\u001b[39;00m:\n\u001b[1;32m    139\u001b[0m     \u001b[39mraise\u001b[39;00m \u001b[39mRuntimeError\u001b[39;00m(\u001b[39m\"\u001b[39m\u001b[39mgenerator didn\u001b[39m\u001b[39m'\u001b[39m\u001b[39mt yield\u001b[39m\u001b[39m\"\u001b[39m) \u001b[39mfrom\u001b[39;00m \u001b[39mNone\u001b[39;00m\n",
            "File \u001b[0;32m~/MyEssex/GV918-2023/venv/lib/python3.12/site-packages/pymongo/mongo_client.py:1252\u001b[0m, in \u001b[0;36mMongoClient._checkout\u001b[0;34m(self, server, session)\u001b[0m\n\u001b[1;32m   1250\u001b[0m     \u001b[39myield\u001b[39;00m session\u001b[39m.\u001b[39m_pinned_connection\n\u001b[1;32m   1251\u001b[0m     \u001b[39mreturn\u001b[39;00m\n\u001b[0;32m-> 1252\u001b[0m \u001b[39mwith\u001b[39;49;00m server\u001b[39m.\u001b[39;49mcheckout(handler\u001b[39m=\u001b[39;49merr_handler) \u001b[39mas\u001b[39;49;00m conn:\n\u001b[1;32m   1253\u001b[0m     \u001b[39m# Pin this session to the selected server or connection.\u001b[39;49;00m\n\u001b[1;32m   1254\u001b[0m     \u001b[39mif\u001b[39;49;00m (\n\u001b[1;32m   1255\u001b[0m         in_txn\n\u001b[1;32m   1256\u001b[0m         \u001b[39mand\u001b[39;49;00m session\n\u001b[0;32m   (...)\u001b[0m\n\u001b[1;32m   1261\u001b[0m         )\n\u001b[1;32m   1262\u001b[0m     ):\n\u001b[1;32m   1263\u001b[0m         session\u001b[39m.\u001b[39;49m_pin(server, conn)\n",
            "File \u001b[0;32m/Library/Frameworks/Python.framework/Versions/3.12/lib/python3.12/contextlib.py:137\u001b[0m, in \u001b[0;36m_GeneratorContextManager.__enter__\u001b[0;34m(self)\u001b[0m\n\u001b[1;32m    135\u001b[0m \u001b[39mdel\u001b[39;00m \u001b[39mself\u001b[39m\u001b[39m.\u001b[39margs, \u001b[39mself\u001b[39m\u001b[39m.\u001b[39mkwds, \u001b[39mself\u001b[39m\u001b[39m.\u001b[39mfunc\n\u001b[1;32m    136\u001b[0m \u001b[39mtry\u001b[39;00m:\n\u001b[0;32m--> 137\u001b[0m     \u001b[39mreturn\u001b[39;00m \u001b[39mnext\u001b[39;49m(\u001b[39mself\u001b[39;49m\u001b[39m.\u001b[39;49mgen)\n\u001b[1;32m    138\u001b[0m \u001b[39mexcept\u001b[39;00m \u001b[39mStopIteration\u001b[39;00m:\n\u001b[1;32m    139\u001b[0m     \u001b[39mraise\u001b[39;00m \u001b[39mRuntimeError\u001b[39;00m(\u001b[39m\"\u001b[39m\u001b[39mgenerator didn\u001b[39m\u001b[39m'\u001b[39m\u001b[39mt yield\u001b[39m\u001b[39m\"\u001b[39m) \u001b[39mfrom\u001b[39;00m \u001b[39mNone\u001b[39;00m\n",
            "File \u001b[0;32m~/MyEssex/GV918-2023/venv/lib/python3.12/site-packages/pymongo/pool.py:1637\u001b[0m, in \u001b[0;36mPool.checkout\u001b[0;34m(self, handler)\u001b[0m\n\u001b[1;32m   1634\u001b[0m     \u001b[39massert\u001b[39;00m listeners \u001b[39mis\u001b[39;00m \u001b[39mnot\u001b[39;00m \u001b[39mNone\u001b[39;00m\n\u001b[1;32m   1635\u001b[0m     listeners\u001b[39m.\u001b[39mpublish_connection_check_out_started(\u001b[39mself\u001b[39m\u001b[39m.\u001b[39maddress)\n\u001b[0;32m-> 1637\u001b[0m conn \u001b[39m=\u001b[39m \u001b[39mself\u001b[39;49m\u001b[39m.\u001b[39;49m_get_conn(handler\u001b[39m=\u001b[39;49mhandler)\n\u001b[1;32m   1639\u001b[0m \u001b[39mif\u001b[39;00m \u001b[39mself\u001b[39m\u001b[39m.\u001b[39menabled_for_cmap:\n\u001b[1;32m   1640\u001b[0m     \u001b[39massert\u001b[39;00m listeners \u001b[39mis\u001b[39;00m \u001b[39mnot\u001b[39;00m \u001b[39mNone\u001b[39;00m\n",
            "File \u001b[0;32m~/MyEssex/GV918-2023/venv/lib/python3.12/site-packages/pymongo/pool.py:1756\u001b[0m, in \u001b[0;36mPool._get_conn\u001b[0;34m(self, handler)\u001b[0m\n\u001b[1;32m   1754\u001b[0m \u001b[39melse\u001b[39;00m:  \u001b[39m# We need to create a new connection\u001b[39;00m\n\u001b[1;32m   1755\u001b[0m     \u001b[39mtry\u001b[39;00m:\n\u001b[0;32m-> 1756\u001b[0m         conn \u001b[39m=\u001b[39m \u001b[39mself\u001b[39;49m\u001b[39m.\u001b[39;49mconnect(handler\u001b[39m=\u001b[39;49mhandler)\n\u001b[1;32m   1757\u001b[0m     \u001b[39mfinally\u001b[39;00m:\n\u001b[1;32m   1758\u001b[0m         \u001b[39mwith\u001b[39;00m \u001b[39mself\u001b[39m\u001b[39m.\u001b[39m_max_connecting_cond:\n",
            "File \u001b[0;32m~/MyEssex/GV918-2023/venv/lib/python3.12/site-packages/pymongo/pool.py:1607\u001b[0m, in \u001b[0;36mPool.connect\u001b[0;34m(self, handler)\u001b[0m\n\u001b[1;32m   1604\u001b[0m     \u001b[39mif\u001b[39;00m handler:\n\u001b[1;32m   1605\u001b[0m         handler\u001b[39m.\u001b[39mcontribute_socket(conn, completed_handshake\u001b[39m=\u001b[39m\u001b[39mFalse\u001b[39;00m)\n\u001b[0;32m-> 1607\u001b[0m     conn\u001b[39m.\u001b[39;49mauthenticate()\n\u001b[1;32m   1608\u001b[0m \u001b[39mexcept\u001b[39;00m \u001b[39mBaseException\u001b[39;00m:\n\u001b[1;32m   1609\u001b[0m     conn\u001b[39m.\u001b[39mclose_conn(ConnectionClosedReason\u001b[39m.\u001b[39mERROR)\n",
            "File \u001b[0;32m~/MyEssex/GV918-2023/venv/lib/python3.12/site-packages/pymongo/pool.py:1078\u001b[0m, in \u001b[0;36mConnection.authenticate\u001b[0;34m(self, reauthenticate)\u001b[0m\n\u001b[1;32m   1076\u001b[0m creds \u001b[39m=\u001b[39m \u001b[39mself\u001b[39m\u001b[39m.\u001b[39mopts\u001b[39m.\u001b[39m_credentials\n\u001b[1;32m   1077\u001b[0m \u001b[39mif\u001b[39;00m creds:\n\u001b[0;32m-> 1078\u001b[0m     auth\u001b[39m.\u001b[39;49mauthenticate(creds, \u001b[39mself\u001b[39;49m, reauthenticate\u001b[39m=\u001b[39;49mreauthenticate)\n\u001b[1;32m   1079\u001b[0m \u001b[39mself\u001b[39m\u001b[39m.\u001b[39mready \u001b[39m=\u001b[39m \u001b[39mTrue\u001b[39;00m\n\u001b[1;32m   1080\u001b[0m \u001b[39mif\u001b[39;00m \u001b[39mself\u001b[39m\u001b[39m.\u001b[39menabled_for_cmap:\n",
            "File \u001b[0;32m~/MyEssex/GV918-2023/venv/lib/python3.12/site-packages/pymongo/auth.py:625\u001b[0m, in \u001b[0;36mauthenticate\u001b[0;34m(credentials, conn, reauthenticate)\u001b[0m\n\u001b[1;32m    623\u001b[0m     _authenticate_oidc(credentials, conn, reauthenticate)\n\u001b[1;32m    624\u001b[0m \u001b[39melse\u001b[39;00m:\n\u001b[0;32m--> 625\u001b[0m     auth_func(credentials, conn)\n",
            "File \u001b[0;32m~/MyEssex/GV918-2023/venv/lib/python3.12/site-packages/pymongo/auth.py:530\u001b[0m, in \u001b[0;36m_authenticate_default\u001b[0;34m(credentials, conn)\u001b[0m\n\u001b[1;32m    528\u001b[0m         \u001b[39mreturn\u001b[39;00m _authenticate_scram(credentials, conn, \u001b[39m\"\u001b[39m\u001b[39mSCRAM-SHA-256\u001b[39m\u001b[39m\"\u001b[39m)\n\u001b[1;32m    529\u001b[0m     \u001b[39melse\u001b[39;00m:\n\u001b[0;32m--> 530\u001b[0m         \u001b[39mreturn\u001b[39;00m _authenticate_scram(credentials, conn, \u001b[39m\"\u001b[39;49m\u001b[39mSCRAM-SHA-1\u001b[39;49m\u001b[39m\"\u001b[39;49m)\n\u001b[1;32m    531\u001b[0m \u001b[39melse\u001b[39;00m:\n\u001b[1;32m    532\u001b[0m     \u001b[39mreturn\u001b[39;00m _authenticate_scram(credentials, conn, \u001b[39m\"\u001b[39m\u001b[39mSCRAM-SHA-1\u001b[39m\u001b[39m\"\u001b[39m)\n",
            "File \u001b[0;32m~/MyEssex/GV918-2023/venv/lib/python3.12/site-packages/pymongo/auth.py:298\u001b[0m, in \u001b[0;36m_authenticate_scram\u001b[0;34m(credentials, conn, mechanism)\u001b[0m\n\u001b[1;32m    289\u001b[0m server_sig \u001b[39m=\u001b[39m standard_b64encode(_hmac(server_key, auth_msg, digestmod)\u001b[39m.\u001b[39mdigest())\n\u001b[1;32m    291\u001b[0m cmd \u001b[39m=\u001b[39m SON(\n\u001b[1;32m    292\u001b[0m     [\n\u001b[1;32m    293\u001b[0m         (\u001b[39m\"\u001b[39m\u001b[39msaslContinue\u001b[39m\u001b[39m\"\u001b[39m, \u001b[39m1\u001b[39m),\n\u001b[0;32m   (...)\u001b[0m\n\u001b[1;32m    296\u001b[0m     ]\n\u001b[1;32m    297\u001b[0m )\n\u001b[0;32m--> 298\u001b[0m res \u001b[39m=\u001b[39m conn\u001b[39m.\u001b[39;49mcommand(source, cmd)\n\u001b[1;32m    300\u001b[0m parsed \u001b[39m=\u001b[39m _parse_scram_response(res[\u001b[39m\"\u001b[39m\u001b[39mpayload\u001b[39m\u001b[39m\"\u001b[39m])\n\u001b[1;32m    301\u001b[0m \u001b[39mif\u001b[39;00m \u001b[39mnot\u001b[39;00m hmac\u001b[39m.\u001b[39mcompare_digest(parsed[\u001b[39mb\u001b[39m\u001b[39m\"\u001b[39m\u001b[39mv\u001b[39m\u001b[39m\"\u001b[39m], server_sig):\n",
            "File \u001b[0;32m~/MyEssex/GV918-2023/venv/lib/python3.12/site-packages/pymongo/helpers.py:322\u001b[0m, in \u001b[0;36m_handle_reauth.<locals>.inner\u001b[0;34m(*args, **kwargs)\u001b[0m\n\u001b[1;32m    319\u001b[0m \u001b[39mfrom\u001b[39;00m \u001b[39mpymongo\u001b[39;00m\u001b[39m.\u001b[39;00m\u001b[39mpool\u001b[39;00m \u001b[39mimport\u001b[39;00m Connection\n\u001b[1;32m    321\u001b[0m \u001b[39mtry\u001b[39;00m:\n\u001b[0;32m--> 322\u001b[0m     \u001b[39mreturn\u001b[39;00m func(\u001b[39m*\u001b[39;49margs, \u001b[39m*\u001b[39;49m\u001b[39m*\u001b[39;49mkwargs)\n\u001b[1;32m    323\u001b[0m \u001b[39mexcept\u001b[39;00m OperationFailure \u001b[39mas\u001b[39;00m exc:\n\u001b[1;32m    324\u001b[0m     \u001b[39mif\u001b[39;00m no_reauth:\n",
            "File \u001b[0;32m~/MyEssex/GV918-2023/venv/lib/python3.12/site-packages/pymongo/pool.py:968\u001b[0m, in \u001b[0;36mConnection.command\u001b[0;34m(self, dbname, spec, read_preference, codec_options, check, allowable_errors, read_concern, write_concern, parse_write_concern_error, collation, session, client, retryable_write, publish_events, user_fields, exhaust_allowed)\u001b[0m\n\u001b[1;32m    966\u001b[0m     \u001b[39mself\u001b[39m\u001b[39m.\u001b[39m_raise_if_not_writable(unacknowledged)\n\u001b[1;32m    967\u001b[0m \u001b[39mtry\u001b[39;00m:\n\u001b[0;32m--> 968\u001b[0m     \u001b[39mreturn\u001b[39;00m command(\n\u001b[1;32m    969\u001b[0m         \u001b[39mself\u001b[39;49m,\n\u001b[1;32m    970\u001b[0m         dbname,\n\u001b[1;32m    971\u001b[0m         spec,\n\u001b[1;32m    972\u001b[0m         \u001b[39mself\u001b[39;49m\u001b[39m.\u001b[39;49mis_mongos,\n\u001b[1;32m    973\u001b[0m         read_preference,\n\u001b[1;32m    974\u001b[0m         codec_options,\n\u001b[1;32m    975\u001b[0m         session,\n\u001b[1;32m    976\u001b[0m         client,\n\u001b[1;32m    977\u001b[0m         check,\n\u001b[1;32m    978\u001b[0m         allowable_errors,\n\u001b[1;32m    979\u001b[0m         \u001b[39mself\u001b[39;49m\u001b[39m.\u001b[39;49maddress,\n\u001b[1;32m    980\u001b[0m         listeners,\n\u001b[1;32m    981\u001b[0m         \u001b[39mself\u001b[39;49m\u001b[39m.\u001b[39;49mmax_bson_size,\n\u001b[1;32m    982\u001b[0m         read_concern,\n\u001b[1;32m    983\u001b[0m         parse_write_concern_error\u001b[39m=\u001b[39;49mparse_write_concern_error,\n\u001b[1;32m    984\u001b[0m         collation\u001b[39m=\u001b[39;49mcollation,\n\u001b[1;32m    985\u001b[0m         compression_ctx\u001b[39m=\u001b[39;49m\u001b[39mself\u001b[39;49m\u001b[39m.\u001b[39;49mcompression_context,\n\u001b[1;32m    986\u001b[0m         use_op_msg\u001b[39m=\u001b[39;49m\u001b[39mself\u001b[39;49m\u001b[39m.\u001b[39;49mop_msg_enabled,\n\u001b[1;32m    987\u001b[0m         unacknowledged\u001b[39m=\u001b[39;49munacknowledged,\n\u001b[1;32m    988\u001b[0m         user_fields\u001b[39m=\u001b[39;49muser_fields,\n\u001b[1;32m    989\u001b[0m         exhaust_allowed\u001b[39m=\u001b[39;49mexhaust_allowed,\n\u001b[1;32m    990\u001b[0m         write_concern\u001b[39m=\u001b[39;49mwrite_concern,\n\u001b[1;32m    991\u001b[0m     )\n\u001b[1;32m    992\u001b[0m \u001b[39mexcept\u001b[39;00m (OperationFailure, NotPrimaryError):\n\u001b[1;32m    993\u001b[0m     \u001b[39mraise\u001b[39;00m\n",
            "File \u001b[0;32m~/MyEssex/GV918-2023/venv/lib/python3.12/site-packages/pymongo/network.py:192\u001b[0m, in \u001b[0;36mcommand\u001b[0;34m(conn, dbname, spec, is_mongos, read_preference, codec_options, session, client, check, allowable_errors, address, listeners, max_bson_size, read_concern, parse_write_concern_error, collation, compression_ctx, use_op_msg, unacknowledged, user_fields, exhaust_allowed, write_concern)\u001b[0m\n\u001b[1;32m    190\u001b[0m             client\u001b[39m.\u001b[39m_process_response(response_doc, session)\n\u001b[1;32m    191\u001b[0m         \u001b[39mif\u001b[39;00m check:\n\u001b[0;32m--> 192\u001b[0m             helpers\u001b[39m.\u001b[39;49m_check_command_response(\n\u001b[1;32m    193\u001b[0m                 response_doc,\n\u001b[1;32m    194\u001b[0m                 conn\u001b[39m.\u001b[39;49mmax_wire_version,\n\u001b[1;32m    195\u001b[0m                 allowable_errors,\n\u001b[1;32m    196\u001b[0m                 parse_write_concern_error\u001b[39m=\u001b[39;49mparse_write_concern_error,\n\u001b[1;32m    197\u001b[0m             )\n\u001b[1;32m    198\u001b[0m \u001b[39mexcept\u001b[39;00m \u001b[39mException\u001b[39;00m \u001b[39mas\u001b[39;00m exc:\n\u001b[1;32m    199\u001b[0m     \u001b[39mif\u001b[39;00m publish:\n",
            "File \u001b[0;32m~/MyEssex/GV918-2023/venv/lib/python3.12/site-packages/pymongo/helpers.py:230\u001b[0m, in \u001b[0;36m_check_command_response\u001b[0;34m(response, max_wire_version, allowable_errors, parse_write_concern_error)\u001b[0m\n\u001b[1;32m    227\u001b[0m \u001b[39melif\u001b[39;00m code \u001b[39m==\u001b[39m \u001b[39m43\u001b[39m:\n\u001b[1;32m    228\u001b[0m     \u001b[39mraise\u001b[39;00m CursorNotFound(errmsg, code, response, max_wire_version)\n\u001b[0;32m--> 230\u001b[0m \u001b[39mraise\u001b[39;00m OperationFailure(errmsg, code, response, max_wire_version)\n",
            "\u001b[0;31mOperationFailure\u001b[0m: bad auth : authentication failed, full error: {'ok': 0, 'errmsg': 'bad auth : authentication failed', 'code': 8000, 'codeName': 'AtlasError'}"
          ]
        }
      ],
      "source": [
        "db.create_collection(\"mps\")"
      ]
    },
    {
      "cell_type": "code",
      "execution_count": 31,
      "metadata": {
        "id": "HBfNPOb4bBcz"
      },
      "outputs": [],
      "source": [
        "coll_mps = db[\"mps\"]"
      ]
    },
    {
      "cell_type": "code",
      "execution_count": 32,
      "metadata": {
        "id": "NfxRDCFxbJiU"
      },
      "outputs": [
        {
          "ename": "OperationFailure",
          "evalue": "bad auth : authentication failed, full error: {'ok': 0, 'errmsg': 'bad auth : authentication failed', 'code': 8000, 'codeName': 'AtlasError'}",
          "output_type": "error",
          "traceback": [
            "\u001b[0;31m---------------------------------------------------------------------------\u001b[0m",
            "\u001b[0;31mOperationFailure\u001b[0m                          Traceback (most recent call last)",
            "\u001b[1;32m/Users/qingengdu/MyEssex/GV918-2023/Week_09/Week09_MongoDB_demo (1).ipynb Cell 32\u001b[0m line \u001b[0;36m1\n\u001b[0;32m----> <a href='vscode-notebook-cell:/Users/qingengdu/MyEssex/GV918-2023/Week_09/Week09_MongoDB_demo%20%281%29.ipynb#X42sZmlsZQ%3D%3D?line=0'>1</a>\u001b[0m coll_mps\u001b[39m.\u001b[39;49minsert_many(dict_mps)\n",
            "File \u001b[0;32m~/MyEssex/GV918-2023/venv/lib/python3.12/site-packages/pymongo/_csot.py:107\u001b[0m, in \u001b[0;36mapply.<locals>.csot_wrapper\u001b[0;34m(self, *args, **kwargs)\u001b[0m\n\u001b[1;32m    105\u001b[0m         \u001b[39mwith\u001b[39;00m _TimeoutContext(timeout):\n\u001b[1;32m    106\u001b[0m             \u001b[39mreturn\u001b[39;00m func(\u001b[39mself\u001b[39m, \u001b[39m*\u001b[39margs, \u001b[39m*\u001b[39m\u001b[39m*\u001b[39mkwargs)\n\u001b[0;32m--> 107\u001b[0m \u001b[39mreturn\u001b[39;00m func(\u001b[39mself\u001b[39;49m, \u001b[39m*\u001b[39;49margs, \u001b[39m*\u001b[39;49m\u001b[39m*\u001b[39;49mkwargs)\n",
            "File \u001b[0;32m~/MyEssex/GV918-2023/venv/lib/python3.12/site-packages/pymongo/collection.py:755\u001b[0m, in \u001b[0;36mCollection.insert_many\u001b[0;34m(self, documents, ordered, bypass_document_validation, session, comment)\u001b[0m\n\u001b[1;32m    753\u001b[0m blk \u001b[39m=\u001b[39m _Bulk(\u001b[39mself\u001b[39m, ordered, bypass_document_validation, comment\u001b[39m=\u001b[39mcomment)\n\u001b[1;32m    754\u001b[0m blk\u001b[39m.\u001b[39mops \u001b[39m=\u001b[39m \u001b[39mlist\u001b[39m(gen())\n\u001b[0;32m--> 755\u001b[0m blk\u001b[39m.\u001b[39;49mexecute(write_concern, session\u001b[39m=\u001b[39;49msession)\n\u001b[1;32m    756\u001b[0m \u001b[39mreturn\u001b[39;00m InsertManyResult(inserted_ids, write_concern\u001b[39m.\u001b[39macknowledged)\n",
            "File \u001b[0;32m~/MyEssex/GV918-2023/venv/lib/python3.12/site-packages/pymongo/bulk.py:576\u001b[0m, in \u001b[0;36m_Bulk.execute\u001b[0;34m(self, write_concern, session)\u001b[0m\n\u001b[1;32m    574\u001b[0m         \u001b[39mreturn\u001b[39;00m \u001b[39mNone\u001b[39;00m\n\u001b[1;32m    575\u001b[0m \u001b[39melse\u001b[39;00m:\n\u001b[0;32m--> 576\u001b[0m     \u001b[39mreturn\u001b[39;00m \u001b[39mself\u001b[39;49m\u001b[39m.\u001b[39;49mexecute_command(generator, write_concern, session)\n",
            "File \u001b[0;32m~/MyEssex/GV918-2023/venv/lib/python3.12/site-packages/pymongo/bulk.py:443\u001b[0m, in \u001b[0;36m_Bulk.execute_command\u001b[0;34m(self, generator, write_concern, session)\u001b[0m\n\u001b[1;32m    432\u001b[0m     \u001b[39mself\u001b[39m\u001b[39m.\u001b[39m_execute_command(\n\u001b[1;32m    433\u001b[0m         generator,\n\u001b[1;32m    434\u001b[0m         write_concern,\n\u001b[0;32m   (...)\u001b[0m\n\u001b[1;32m    439\u001b[0m         full_result,\n\u001b[1;32m    440\u001b[0m     )\n\u001b[1;32m    442\u001b[0m client \u001b[39m=\u001b[39m \u001b[39mself\u001b[39m\u001b[39m.\u001b[39mcollection\u001b[39m.\u001b[39mdatabase\u001b[39m.\u001b[39mclient\n\u001b[0;32m--> 443\u001b[0m client\u001b[39m.\u001b[39;49m_retryable_write(\u001b[39mself\u001b[39;49m\u001b[39m.\u001b[39;49mis_retryable, retryable_bulk, session, bulk\u001b[39m=\u001b[39;49m\u001b[39mself\u001b[39;49m)\n\u001b[1;32m    445\u001b[0m \u001b[39mif\u001b[39;00m full_result[\u001b[39m\"\u001b[39m\u001b[39mwriteErrors\u001b[39m\u001b[39m\"\u001b[39m] \u001b[39mor\u001b[39;00m full_result[\u001b[39m\"\u001b[39m\u001b[39mwriteConcernErrors\u001b[39m\u001b[39m\"\u001b[39m]:\n\u001b[1;32m    446\u001b[0m     _raise_bulk_write_error(full_result)\n",
            "File \u001b[0;32m~/MyEssex/GV918-2023/venv/lib/python3.12/site-packages/pymongo/mongo_client.py:1523\u001b[0m, in \u001b[0;36mMongoClient._retryable_write\u001b[0;34m(self, retryable, func, session, bulk)\u001b[0m\n\u001b[1;32m   1509\u001b[0m \u001b[39m\u001b[39m\u001b[39m\"\"\"Execute an operation with consecutive retries if possible\u001b[39;00m\n\u001b[1;32m   1510\u001b[0m \n\u001b[1;32m   1511\u001b[0m \u001b[39mReturns func()'s return value on success. On error retries the same\u001b[39;00m\n\u001b[0;32m   (...)\u001b[0m\n\u001b[1;32m   1520\u001b[0m \u001b[39m  - `bulk`: bulk abstraction to execute operations in bulk, defaults to None\u001b[39;00m\n\u001b[1;32m   1521\u001b[0m \u001b[39m\"\"\"\u001b[39;00m\n\u001b[1;32m   1522\u001b[0m \u001b[39mwith\u001b[39;00m \u001b[39mself\u001b[39m\u001b[39m.\u001b[39m_tmp_session(session) \u001b[39mas\u001b[39;00m s:\n\u001b[0;32m-> 1523\u001b[0m     \u001b[39mreturn\u001b[39;00m \u001b[39mself\u001b[39;49m\u001b[39m.\u001b[39;49m_retry_with_session(retryable, func, s, bulk)\n",
            "File \u001b[0;32m~/MyEssex/GV918-2023/venv/lib/python3.12/site-packages/pymongo/mongo_client.py:1421\u001b[0m, in \u001b[0;36mMongoClient._retry_with_session\u001b[0;34m(self, retryable, func, session, bulk)\u001b[0m\n\u001b[1;32m   1416\u001b[0m \u001b[39m# Ensure that the options supports retry_writes and there is a valid session not in\u001b[39;00m\n\u001b[1;32m   1417\u001b[0m \u001b[39m# transaction, otherwise, we will not support retry behavior for this txn.\u001b[39;00m\n\u001b[1;32m   1418\u001b[0m retryable \u001b[39m=\u001b[39m \u001b[39mbool\u001b[39m(\n\u001b[1;32m   1419\u001b[0m     retryable \u001b[39mand\u001b[39;00m \u001b[39mself\u001b[39m\u001b[39m.\u001b[39moptions\u001b[39m.\u001b[39mretry_writes \u001b[39mand\u001b[39;00m session \u001b[39mand\u001b[39;00m \u001b[39mnot\u001b[39;00m session\u001b[39m.\u001b[39min_transaction\n\u001b[1;32m   1420\u001b[0m )\n\u001b[0;32m-> 1421\u001b[0m \u001b[39mreturn\u001b[39;00m \u001b[39mself\u001b[39;49m\u001b[39m.\u001b[39;49m_retry_internal(\n\u001b[1;32m   1422\u001b[0m     func\u001b[39m=\u001b[39;49mfunc,\n\u001b[1;32m   1423\u001b[0m     session\u001b[39m=\u001b[39;49msession,\n\u001b[1;32m   1424\u001b[0m     bulk\u001b[39m=\u001b[39;49mbulk,\n\u001b[1;32m   1425\u001b[0m     retryable\u001b[39m=\u001b[39;49mretryable,\n\u001b[1;32m   1426\u001b[0m )\n",
            "File \u001b[0;32m~/MyEssex/GV918-2023/venv/lib/python3.12/site-packages/pymongo/_csot.py:107\u001b[0m, in \u001b[0;36mapply.<locals>.csot_wrapper\u001b[0;34m(self, *args, **kwargs)\u001b[0m\n\u001b[1;32m    105\u001b[0m         \u001b[39mwith\u001b[39;00m _TimeoutContext(timeout):\n\u001b[1;32m    106\u001b[0m             \u001b[39mreturn\u001b[39;00m func(\u001b[39mself\u001b[39m, \u001b[39m*\u001b[39margs, \u001b[39m*\u001b[39m\u001b[39m*\u001b[39mkwargs)\n\u001b[0;32m--> 107\u001b[0m \u001b[39mreturn\u001b[39;00m func(\u001b[39mself\u001b[39;49m, \u001b[39m*\u001b[39;49margs, \u001b[39m*\u001b[39;49m\u001b[39m*\u001b[39;49mkwargs)\n",
            "File \u001b[0;32m~/MyEssex/GV918-2023/venv/lib/python3.12/site-packages/pymongo/mongo_client.py:1462\u001b[0m, in \u001b[0;36mMongoClient._retry_internal\u001b[0;34m(self, func, session, bulk, is_read, address, read_pref, retryable)\u001b[0m\n\u001b[1;32m   1428\u001b[0m \u001b[39m@_csot\u001b[39m\u001b[39m.\u001b[39mapply\n\u001b[1;32m   1429\u001b[0m \u001b[39mdef\u001b[39;00m \u001b[39m_retry_internal\u001b[39m(\n\u001b[1;32m   1430\u001b[0m     \u001b[39mself\u001b[39m,\n\u001b[0;32m   (...)\u001b[0m\n\u001b[1;32m   1437\u001b[0m     retryable: \u001b[39mbool\u001b[39m \u001b[39m=\u001b[39m \u001b[39mFalse\u001b[39;00m,\n\u001b[1;32m   1438\u001b[0m ) \u001b[39m-\u001b[39m\u001b[39m>\u001b[39m T:\n\u001b[1;32m   1439\u001b[0m \u001b[39m    \u001b[39m\u001b[39m\"\"\"Internal retryable helper for all client transactions.\u001b[39;00m\n\u001b[1;32m   1440\u001b[0m \n\u001b[1;32m   1441\u001b[0m \u001b[39m    :Parameters:\u001b[39;00m\n\u001b[0;32m   (...)\u001b[0m\n\u001b[1;32m   1451\u001b[0m \u001b[39m      Output of the calling func()\u001b[39;00m\n\u001b[1;32m   1452\u001b[0m \u001b[39m    \"\"\"\u001b[39;00m\n\u001b[1;32m   1453\u001b[0m     \u001b[39mreturn\u001b[39;00m _ClientConnectionRetryable(\n\u001b[1;32m   1454\u001b[0m         mongo_client\u001b[39m=\u001b[39;49m\u001b[39mself\u001b[39;49m,\n\u001b[1;32m   1455\u001b[0m         func\u001b[39m=\u001b[39;49mfunc,\n\u001b[1;32m   1456\u001b[0m         bulk\u001b[39m=\u001b[39;49mbulk,\n\u001b[1;32m   1457\u001b[0m         is_read\u001b[39m=\u001b[39;49mis_read,\n\u001b[1;32m   1458\u001b[0m         session\u001b[39m=\u001b[39;49msession,\n\u001b[1;32m   1459\u001b[0m         read_pref\u001b[39m=\u001b[39;49mread_pref,\n\u001b[1;32m   1460\u001b[0m         address\u001b[39m=\u001b[39;49maddress,\n\u001b[1;32m   1461\u001b[0m         retryable\u001b[39m=\u001b[39;49mretryable,\n\u001b[0;32m-> 1462\u001b[0m     )\u001b[39m.\u001b[39;49mrun()\n",
            "File \u001b[0;32m~/MyEssex/GV918-2023/venv/lib/python3.12/site-packages/pymongo/mongo_client.py:2315\u001b[0m, in \u001b[0;36m_ClientConnectionRetryable.run\u001b[0;34m(self)\u001b[0m\n\u001b[1;32m   2313\u001b[0m \u001b[39mself\u001b[39m\u001b[39m.\u001b[39m_check_last_error(check_csot\u001b[39m=\u001b[39m\u001b[39mTrue\u001b[39;00m)\n\u001b[1;32m   2314\u001b[0m \u001b[39mtry\u001b[39;00m:\n\u001b[0;32m-> 2315\u001b[0m     \u001b[39mreturn\u001b[39;00m \u001b[39mself\u001b[39m\u001b[39m.\u001b[39m_read() \u001b[39mif\u001b[39;00m \u001b[39mself\u001b[39m\u001b[39m.\u001b[39m_is_read \u001b[39melse\u001b[39;00m \u001b[39mself\u001b[39;49m\u001b[39m.\u001b[39;49m_write()\n\u001b[1;32m   2316\u001b[0m \u001b[39mexcept\u001b[39;00m ServerSelectionTimeoutError:\n\u001b[1;32m   2317\u001b[0m     \u001b[39m# The application may think the write was never attempted\u001b[39;00m\n\u001b[1;32m   2318\u001b[0m     \u001b[39m# if we raise ServerSelectionTimeoutError on the retry\u001b[39;00m\n\u001b[1;32m   2319\u001b[0m     \u001b[39m# attempt. Raise the original exception instead.\u001b[39;00m\n\u001b[1;32m   2320\u001b[0m     \u001b[39mself\u001b[39m\u001b[39m.\u001b[39m_check_last_error()\n",
            "File \u001b[0;32m~/MyEssex/GV918-2023/venv/lib/python3.12/site-packages/pymongo/mongo_client.py:2416\u001b[0m, in \u001b[0;36m_ClientConnectionRetryable._write\u001b[0;34m(self)\u001b[0m\n\u001b[1;32m   2412\u001b[0m \u001b[39mself\u001b[39m\u001b[39m.\u001b[39m_server \u001b[39m=\u001b[39m \u001b[39mself\u001b[39m\u001b[39m.\u001b[39m_get_server()\n\u001b[1;32m   2413\u001b[0m supports_session \u001b[39m=\u001b[39m (\n\u001b[1;32m   2414\u001b[0m     \u001b[39mself\u001b[39m\u001b[39m.\u001b[39m_session \u001b[39mis\u001b[39;00m \u001b[39mnot\u001b[39;00m \u001b[39mNone\u001b[39;00m \u001b[39mand\u001b[39;00m \u001b[39mself\u001b[39m\u001b[39m.\u001b[39m_server\u001b[39m.\u001b[39mdescription\u001b[39m.\u001b[39mretryable_writes_supported\n\u001b[1;32m   2415\u001b[0m )\n\u001b[0;32m-> 2416\u001b[0m \u001b[39mwith\u001b[39;49;00m \u001b[39mself\u001b[39;49m\u001b[39m.\u001b[39;49m_client\u001b[39m.\u001b[39;49m_checkout(\u001b[39mself\u001b[39;49m\u001b[39m.\u001b[39;49m_server, \u001b[39mself\u001b[39;49m\u001b[39m.\u001b[39;49m_session) \u001b[39mas\u001b[39;49;00m conn:\n\u001b[1;32m   2417\u001b[0m     max_wire_version \u001b[39m=\u001b[39;49m conn\u001b[39m.\u001b[39;49mmax_wire_version\n\u001b[1;32m   2418\u001b[0m     \u001b[39mif\u001b[39;49;00m \u001b[39mself\u001b[39;49m\u001b[39m.\u001b[39;49m_retryable \u001b[39mand\u001b[39;49;00m \u001b[39mnot\u001b[39;49;00m supports_session:\n\u001b[1;32m   2419\u001b[0m         \u001b[39m# A retry is not possible because this server does\u001b[39;49;00m\n\u001b[1;32m   2420\u001b[0m         \u001b[39m# not support sessions raise the last error.\u001b[39;49;00m\n",
            "File \u001b[0;32m/Library/Frameworks/Python.framework/Versions/3.12/lib/python3.12/contextlib.py:137\u001b[0m, in \u001b[0;36m_GeneratorContextManager.__enter__\u001b[0;34m(self)\u001b[0m\n\u001b[1;32m    135\u001b[0m \u001b[39mdel\u001b[39;00m \u001b[39mself\u001b[39m\u001b[39m.\u001b[39margs, \u001b[39mself\u001b[39m\u001b[39m.\u001b[39mkwds, \u001b[39mself\u001b[39m\u001b[39m.\u001b[39mfunc\n\u001b[1;32m    136\u001b[0m \u001b[39mtry\u001b[39;00m:\n\u001b[0;32m--> 137\u001b[0m     \u001b[39mreturn\u001b[39;00m \u001b[39mnext\u001b[39;49m(\u001b[39mself\u001b[39;49m\u001b[39m.\u001b[39;49mgen)\n\u001b[1;32m    138\u001b[0m \u001b[39mexcept\u001b[39;00m \u001b[39mStopIteration\u001b[39;00m:\n\u001b[1;32m    139\u001b[0m     \u001b[39mraise\u001b[39;00m \u001b[39mRuntimeError\u001b[39;00m(\u001b[39m\"\u001b[39m\u001b[39mgenerator didn\u001b[39m\u001b[39m'\u001b[39m\u001b[39mt yield\u001b[39m\u001b[39m\"\u001b[39m) \u001b[39mfrom\u001b[39;00m \u001b[39mNone\u001b[39;00m\n",
            "File \u001b[0;32m~/MyEssex/GV918-2023/venv/lib/python3.12/site-packages/pymongo/mongo_client.py:1252\u001b[0m, in \u001b[0;36mMongoClient._checkout\u001b[0;34m(self, server, session)\u001b[0m\n\u001b[1;32m   1250\u001b[0m     \u001b[39myield\u001b[39;00m session\u001b[39m.\u001b[39m_pinned_connection\n\u001b[1;32m   1251\u001b[0m     \u001b[39mreturn\u001b[39;00m\n\u001b[0;32m-> 1252\u001b[0m \u001b[39mwith\u001b[39;49;00m server\u001b[39m.\u001b[39;49mcheckout(handler\u001b[39m=\u001b[39;49merr_handler) \u001b[39mas\u001b[39;49;00m conn:\n\u001b[1;32m   1253\u001b[0m     \u001b[39m# Pin this session to the selected server or connection.\u001b[39;49;00m\n\u001b[1;32m   1254\u001b[0m     \u001b[39mif\u001b[39;49;00m (\n\u001b[1;32m   1255\u001b[0m         in_txn\n\u001b[1;32m   1256\u001b[0m         \u001b[39mand\u001b[39;49;00m session\n\u001b[0;32m   (...)\u001b[0m\n\u001b[1;32m   1261\u001b[0m         )\n\u001b[1;32m   1262\u001b[0m     ):\n\u001b[1;32m   1263\u001b[0m         session\u001b[39m.\u001b[39;49m_pin(server, conn)\n",
            "File \u001b[0;32m/Library/Frameworks/Python.framework/Versions/3.12/lib/python3.12/contextlib.py:137\u001b[0m, in \u001b[0;36m_GeneratorContextManager.__enter__\u001b[0;34m(self)\u001b[0m\n\u001b[1;32m    135\u001b[0m \u001b[39mdel\u001b[39;00m \u001b[39mself\u001b[39m\u001b[39m.\u001b[39margs, \u001b[39mself\u001b[39m\u001b[39m.\u001b[39mkwds, \u001b[39mself\u001b[39m\u001b[39m.\u001b[39mfunc\n\u001b[1;32m    136\u001b[0m \u001b[39mtry\u001b[39;00m:\n\u001b[0;32m--> 137\u001b[0m     \u001b[39mreturn\u001b[39;00m \u001b[39mnext\u001b[39;49m(\u001b[39mself\u001b[39;49m\u001b[39m.\u001b[39;49mgen)\n\u001b[1;32m    138\u001b[0m \u001b[39mexcept\u001b[39;00m \u001b[39mStopIteration\u001b[39;00m:\n\u001b[1;32m    139\u001b[0m     \u001b[39mraise\u001b[39;00m \u001b[39mRuntimeError\u001b[39;00m(\u001b[39m\"\u001b[39m\u001b[39mgenerator didn\u001b[39m\u001b[39m'\u001b[39m\u001b[39mt yield\u001b[39m\u001b[39m\"\u001b[39m) \u001b[39mfrom\u001b[39;00m \u001b[39mNone\u001b[39;00m\n",
            "File \u001b[0;32m~/MyEssex/GV918-2023/venv/lib/python3.12/site-packages/pymongo/pool.py:1637\u001b[0m, in \u001b[0;36mPool.checkout\u001b[0;34m(self, handler)\u001b[0m\n\u001b[1;32m   1634\u001b[0m     \u001b[39massert\u001b[39;00m listeners \u001b[39mis\u001b[39;00m \u001b[39mnot\u001b[39;00m \u001b[39mNone\u001b[39;00m\n\u001b[1;32m   1635\u001b[0m     listeners\u001b[39m.\u001b[39mpublish_connection_check_out_started(\u001b[39mself\u001b[39m\u001b[39m.\u001b[39maddress)\n\u001b[0;32m-> 1637\u001b[0m conn \u001b[39m=\u001b[39m \u001b[39mself\u001b[39;49m\u001b[39m.\u001b[39;49m_get_conn(handler\u001b[39m=\u001b[39;49mhandler)\n\u001b[1;32m   1639\u001b[0m \u001b[39mif\u001b[39;00m \u001b[39mself\u001b[39m\u001b[39m.\u001b[39menabled_for_cmap:\n\u001b[1;32m   1640\u001b[0m     \u001b[39massert\u001b[39;00m listeners \u001b[39mis\u001b[39;00m \u001b[39mnot\u001b[39;00m \u001b[39mNone\u001b[39;00m\n",
            "File \u001b[0;32m~/MyEssex/GV918-2023/venv/lib/python3.12/site-packages/pymongo/pool.py:1756\u001b[0m, in \u001b[0;36mPool._get_conn\u001b[0;34m(self, handler)\u001b[0m\n\u001b[1;32m   1754\u001b[0m \u001b[39melse\u001b[39;00m:  \u001b[39m# We need to create a new connection\u001b[39;00m\n\u001b[1;32m   1755\u001b[0m     \u001b[39mtry\u001b[39;00m:\n\u001b[0;32m-> 1756\u001b[0m         conn \u001b[39m=\u001b[39m \u001b[39mself\u001b[39;49m\u001b[39m.\u001b[39;49mconnect(handler\u001b[39m=\u001b[39;49mhandler)\n\u001b[1;32m   1757\u001b[0m     \u001b[39mfinally\u001b[39;00m:\n\u001b[1;32m   1758\u001b[0m         \u001b[39mwith\u001b[39;00m \u001b[39mself\u001b[39m\u001b[39m.\u001b[39m_max_connecting_cond:\n",
            "File \u001b[0;32m~/MyEssex/GV918-2023/venv/lib/python3.12/site-packages/pymongo/pool.py:1607\u001b[0m, in \u001b[0;36mPool.connect\u001b[0;34m(self, handler)\u001b[0m\n\u001b[1;32m   1604\u001b[0m     \u001b[39mif\u001b[39;00m handler:\n\u001b[1;32m   1605\u001b[0m         handler\u001b[39m.\u001b[39mcontribute_socket(conn, completed_handshake\u001b[39m=\u001b[39m\u001b[39mFalse\u001b[39;00m)\n\u001b[0;32m-> 1607\u001b[0m     conn\u001b[39m.\u001b[39;49mauthenticate()\n\u001b[1;32m   1608\u001b[0m \u001b[39mexcept\u001b[39;00m \u001b[39mBaseException\u001b[39;00m:\n\u001b[1;32m   1609\u001b[0m     conn\u001b[39m.\u001b[39mclose_conn(ConnectionClosedReason\u001b[39m.\u001b[39mERROR)\n",
            "File \u001b[0;32m~/MyEssex/GV918-2023/venv/lib/python3.12/site-packages/pymongo/pool.py:1078\u001b[0m, in \u001b[0;36mConnection.authenticate\u001b[0;34m(self, reauthenticate)\u001b[0m\n\u001b[1;32m   1076\u001b[0m creds \u001b[39m=\u001b[39m \u001b[39mself\u001b[39m\u001b[39m.\u001b[39mopts\u001b[39m.\u001b[39m_credentials\n\u001b[1;32m   1077\u001b[0m \u001b[39mif\u001b[39;00m creds:\n\u001b[0;32m-> 1078\u001b[0m     auth\u001b[39m.\u001b[39;49mauthenticate(creds, \u001b[39mself\u001b[39;49m, reauthenticate\u001b[39m=\u001b[39;49mreauthenticate)\n\u001b[1;32m   1079\u001b[0m \u001b[39mself\u001b[39m\u001b[39m.\u001b[39mready \u001b[39m=\u001b[39m \u001b[39mTrue\u001b[39;00m\n\u001b[1;32m   1080\u001b[0m \u001b[39mif\u001b[39;00m \u001b[39mself\u001b[39m\u001b[39m.\u001b[39menabled_for_cmap:\n",
            "File \u001b[0;32m~/MyEssex/GV918-2023/venv/lib/python3.12/site-packages/pymongo/auth.py:625\u001b[0m, in \u001b[0;36mauthenticate\u001b[0;34m(credentials, conn, reauthenticate)\u001b[0m\n\u001b[1;32m    623\u001b[0m     _authenticate_oidc(credentials, conn, reauthenticate)\n\u001b[1;32m    624\u001b[0m \u001b[39melse\u001b[39;00m:\n\u001b[0;32m--> 625\u001b[0m     auth_func(credentials, conn)\n",
            "File \u001b[0;32m~/MyEssex/GV918-2023/venv/lib/python3.12/site-packages/pymongo/auth.py:530\u001b[0m, in \u001b[0;36m_authenticate_default\u001b[0;34m(credentials, conn)\u001b[0m\n\u001b[1;32m    528\u001b[0m         \u001b[39mreturn\u001b[39;00m _authenticate_scram(credentials, conn, \u001b[39m\"\u001b[39m\u001b[39mSCRAM-SHA-256\u001b[39m\u001b[39m\"\u001b[39m)\n\u001b[1;32m    529\u001b[0m     \u001b[39melse\u001b[39;00m:\n\u001b[0;32m--> 530\u001b[0m         \u001b[39mreturn\u001b[39;00m _authenticate_scram(credentials, conn, \u001b[39m\"\u001b[39;49m\u001b[39mSCRAM-SHA-1\u001b[39;49m\u001b[39m\"\u001b[39;49m)\n\u001b[1;32m    531\u001b[0m \u001b[39melse\u001b[39;00m:\n\u001b[1;32m    532\u001b[0m     \u001b[39mreturn\u001b[39;00m _authenticate_scram(credentials, conn, \u001b[39m\"\u001b[39m\u001b[39mSCRAM-SHA-1\u001b[39m\u001b[39m\"\u001b[39m)\n",
            "File \u001b[0;32m~/MyEssex/GV918-2023/venv/lib/python3.12/site-packages/pymongo/auth.py:298\u001b[0m, in \u001b[0;36m_authenticate_scram\u001b[0;34m(credentials, conn, mechanism)\u001b[0m\n\u001b[1;32m    289\u001b[0m server_sig \u001b[39m=\u001b[39m standard_b64encode(_hmac(server_key, auth_msg, digestmod)\u001b[39m.\u001b[39mdigest())\n\u001b[1;32m    291\u001b[0m cmd \u001b[39m=\u001b[39m SON(\n\u001b[1;32m    292\u001b[0m     [\n\u001b[1;32m    293\u001b[0m         (\u001b[39m\"\u001b[39m\u001b[39msaslContinue\u001b[39m\u001b[39m\"\u001b[39m, \u001b[39m1\u001b[39m),\n\u001b[0;32m   (...)\u001b[0m\n\u001b[1;32m    296\u001b[0m     ]\n\u001b[1;32m    297\u001b[0m )\n\u001b[0;32m--> 298\u001b[0m res \u001b[39m=\u001b[39m conn\u001b[39m.\u001b[39;49mcommand(source, cmd)\n\u001b[1;32m    300\u001b[0m parsed \u001b[39m=\u001b[39m _parse_scram_response(res[\u001b[39m\"\u001b[39m\u001b[39mpayload\u001b[39m\u001b[39m\"\u001b[39m])\n\u001b[1;32m    301\u001b[0m \u001b[39mif\u001b[39;00m \u001b[39mnot\u001b[39;00m hmac\u001b[39m.\u001b[39mcompare_digest(parsed[\u001b[39mb\u001b[39m\u001b[39m\"\u001b[39m\u001b[39mv\u001b[39m\u001b[39m\"\u001b[39m], server_sig):\n",
            "File \u001b[0;32m~/MyEssex/GV918-2023/venv/lib/python3.12/site-packages/pymongo/helpers.py:322\u001b[0m, in \u001b[0;36m_handle_reauth.<locals>.inner\u001b[0;34m(*args, **kwargs)\u001b[0m\n\u001b[1;32m    319\u001b[0m \u001b[39mfrom\u001b[39;00m \u001b[39mpymongo\u001b[39;00m\u001b[39m.\u001b[39;00m\u001b[39mpool\u001b[39;00m \u001b[39mimport\u001b[39;00m Connection\n\u001b[1;32m    321\u001b[0m \u001b[39mtry\u001b[39;00m:\n\u001b[0;32m--> 322\u001b[0m     \u001b[39mreturn\u001b[39;00m func(\u001b[39m*\u001b[39;49margs, \u001b[39m*\u001b[39;49m\u001b[39m*\u001b[39;49mkwargs)\n\u001b[1;32m    323\u001b[0m \u001b[39mexcept\u001b[39;00m OperationFailure \u001b[39mas\u001b[39;00m exc:\n\u001b[1;32m    324\u001b[0m     \u001b[39mif\u001b[39;00m no_reauth:\n",
            "File \u001b[0;32m~/MyEssex/GV918-2023/venv/lib/python3.12/site-packages/pymongo/pool.py:968\u001b[0m, in \u001b[0;36mConnection.command\u001b[0;34m(self, dbname, spec, read_preference, codec_options, check, allowable_errors, read_concern, write_concern, parse_write_concern_error, collation, session, client, retryable_write, publish_events, user_fields, exhaust_allowed)\u001b[0m\n\u001b[1;32m    966\u001b[0m     \u001b[39mself\u001b[39m\u001b[39m.\u001b[39m_raise_if_not_writable(unacknowledged)\n\u001b[1;32m    967\u001b[0m \u001b[39mtry\u001b[39;00m:\n\u001b[0;32m--> 968\u001b[0m     \u001b[39mreturn\u001b[39;00m command(\n\u001b[1;32m    969\u001b[0m         \u001b[39mself\u001b[39;49m,\n\u001b[1;32m    970\u001b[0m         dbname,\n\u001b[1;32m    971\u001b[0m         spec,\n\u001b[1;32m    972\u001b[0m         \u001b[39mself\u001b[39;49m\u001b[39m.\u001b[39;49mis_mongos,\n\u001b[1;32m    973\u001b[0m         read_preference,\n\u001b[1;32m    974\u001b[0m         codec_options,\n\u001b[1;32m    975\u001b[0m         session,\n\u001b[1;32m    976\u001b[0m         client,\n\u001b[1;32m    977\u001b[0m         check,\n\u001b[1;32m    978\u001b[0m         allowable_errors,\n\u001b[1;32m    979\u001b[0m         \u001b[39mself\u001b[39;49m\u001b[39m.\u001b[39;49maddress,\n\u001b[1;32m    980\u001b[0m         listeners,\n\u001b[1;32m    981\u001b[0m         \u001b[39mself\u001b[39;49m\u001b[39m.\u001b[39;49mmax_bson_size,\n\u001b[1;32m    982\u001b[0m         read_concern,\n\u001b[1;32m    983\u001b[0m         parse_write_concern_error\u001b[39m=\u001b[39;49mparse_write_concern_error,\n\u001b[1;32m    984\u001b[0m         collation\u001b[39m=\u001b[39;49mcollation,\n\u001b[1;32m    985\u001b[0m         compression_ctx\u001b[39m=\u001b[39;49m\u001b[39mself\u001b[39;49m\u001b[39m.\u001b[39;49mcompression_context,\n\u001b[1;32m    986\u001b[0m         use_op_msg\u001b[39m=\u001b[39;49m\u001b[39mself\u001b[39;49m\u001b[39m.\u001b[39;49mop_msg_enabled,\n\u001b[1;32m    987\u001b[0m         unacknowledged\u001b[39m=\u001b[39;49munacknowledged,\n\u001b[1;32m    988\u001b[0m         user_fields\u001b[39m=\u001b[39;49muser_fields,\n\u001b[1;32m    989\u001b[0m         exhaust_allowed\u001b[39m=\u001b[39;49mexhaust_allowed,\n\u001b[1;32m    990\u001b[0m         write_concern\u001b[39m=\u001b[39;49mwrite_concern,\n\u001b[1;32m    991\u001b[0m     )\n\u001b[1;32m    992\u001b[0m \u001b[39mexcept\u001b[39;00m (OperationFailure, NotPrimaryError):\n\u001b[1;32m    993\u001b[0m     \u001b[39mraise\u001b[39;00m\n",
            "File \u001b[0;32m~/MyEssex/GV918-2023/venv/lib/python3.12/site-packages/pymongo/network.py:192\u001b[0m, in \u001b[0;36mcommand\u001b[0;34m(conn, dbname, spec, is_mongos, read_preference, codec_options, session, client, check, allowable_errors, address, listeners, max_bson_size, read_concern, parse_write_concern_error, collation, compression_ctx, use_op_msg, unacknowledged, user_fields, exhaust_allowed, write_concern)\u001b[0m\n\u001b[1;32m    190\u001b[0m             client\u001b[39m.\u001b[39m_process_response(response_doc, session)\n\u001b[1;32m    191\u001b[0m         \u001b[39mif\u001b[39;00m check:\n\u001b[0;32m--> 192\u001b[0m             helpers\u001b[39m.\u001b[39;49m_check_command_response(\n\u001b[1;32m    193\u001b[0m                 response_doc,\n\u001b[1;32m    194\u001b[0m                 conn\u001b[39m.\u001b[39;49mmax_wire_version,\n\u001b[1;32m    195\u001b[0m                 allowable_errors,\n\u001b[1;32m    196\u001b[0m                 parse_write_concern_error\u001b[39m=\u001b[39;49mparse_write_concern_error,\n\u001b[1;32m    197\u001b[0m             )\n\u001b[1;32m    198\u001b[0m \u001b[39mexcept\u001b[39;00m \u001b[39mException\u001b[39;00m \u001b[39mas\u001b[39;00m exc:\n\u001b[1;32m    199\u001b[0m     \u001b[39mif\u001b[39;00m publish:\n",
            "File \u001b[0;32m~/MyEssex/GV918-2023/venv/lib/python3.12/site-packages/pymongo/helpers.py:230\u001b[0m, in \u001b[0;36m_check_command_response\u001b[0;34m(response, max_wire_version, allowable_errors, parse_write_concern_error)\u001b[0m\n\u001b[1;32m    227\u001b[0m \u001b[39melif\u001b[39;00m code \u001b[39m==\u001b[39m \u001b[39m43\u001b[39m:\n\u001b[1;32m    228\u001b[0m     \u001b[39mraise\u001b[39;00m CursorNotFound(errmsg, code, response, max_wire_version)\n\u001b[0;32m--> 230\u001b[0m \u001b[39mraise\u001b[39;00m OperationFailure(errmsg, code, response, max_wire_version)\n",
            "\u001b[0;31mOperationFailure\u001b[0m: bad auth : authentication failed, full error: {'ok': 0, 'errmsg': 'bad auth : authentication failed', 'code': 8000, 'codeName': 'AtlasError'}"
          ]
        }
      ],
      "source": [
        "coll_mps.insert_many(dict_mps)"
      ]
    },
    {
      "cell_type": "markdown",
      "metadata": {
        "id": "jdkysIvPbzea"
      },
      "source": [
        "### Run mongo queries\n",
        "\n",
        "https://www.mongodb.com/docs/manual/tutorial/query-documents/\n",
        "\n",
        "- Select records of Female MPs"
      ]
    },
    {
      "cell_type": "code",
      "execution_count": null,
      "metadata": {
        "id": "rzR9OhQBbzQu"
      },
      "outputs": [],
      "source": [
        "list(coll_mps.find({\"gender\": \"F\"}).limit(10))"
      ]
    },
    {
      "cell_type": "markdown",
      "metadata": {
        "id": "n8tmFEbOcfdG"
      },
      "source": [
        "- count the number of female mps"
      ]
    },
    {
      "cell_type": "code",
      "execution_count": null,
      "metadata": {
        "id": "-ZQlGXoPcfFW"
      },
      "outputs": [],
      "source": [
        "coll_mps.count_documents({\"gender\": \"F\"})"
      ]
    },
    {
      "cell_type": "code",
      "execution_count": null,
      "metadata": {
        "id": "Mh_hjm5Lba04"
      },
      "outputs": [],
      "source": [
        "coll_mps.count_documents({\"gender\": \"M\"})"
      ]
    },
    {
      "cell_type": "markdown",
      "metadata": {
        "id": "vIaC-qCTdMp5"
      },
      "source": [
        "- Find MPs whose name contains \"David\""
      ]
    },
    {
      "cell_type": "code",
      "execution_count": null,
      "metadata": {
        "id": "0V99t89yPTE_"
      },
      "outputs": [],
      "source": [
        "coll_mps.count_documents({\"name\": {\"$regex\": \"David\"}})"
      ]
    },
    {
      "cell_type": "markdown",
      "metadata": {
        "id": "JM0Z580cd7tD"
      },
      "source": [
        "- find MPs whose ID number is smaller than 100"
      ]
    },
    {
      "cell_type": "code",
      "execution_count": null,
      "metadata": {
        "id": "eaPzHjn_dJgs"
      },
      "outputs": [],
      "source": [
        "coll_mps.count_documents({\"_id\": {\"$lt\": 100}})"
      ]
    },
    {
      "cell_type": "code",
      "execution_count": null,
      "metadata": {
        "id": "U9cCRfqaeBA4"
      },
      "outputs": [],
      "source": [
        "list(coll_mps.find({\"_id\": {\"$lt\": 100}}))"
      ]
    },
    {
      "cell_type": "code",
      "execution_count": null,
      "metadata": {
        "id": "tFNGu3ZseIys"
      },
      "outputs": [],
      "source": []
    }
  ],
  "metadata": {
    "colab": {
      "provenance": []
    },
    "kernelspec": {
      "display_name": "Python 3",
      "name": "python3"
    },
    "language_info": {
      "codemirror_mode": {
        "name": "ipython",
        "version": 3
      },
      "file_extension": ".py",
      "mimetype": "text/x-python",
      "name": "python",
      "nbconvert_exporter": "python",
      "pygments_lexer": "ipython3",
      "version": "3.12.0"
    }
  },
  "nbformat": 4,
  "nbformat_minor": 0
}
