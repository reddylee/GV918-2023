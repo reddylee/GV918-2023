{
  "nbformat": 4,
  "nbformat_minor": 0,
  "metadata": {
    "colab": {
      "provenance": []
    },
    "kernelspec": {
      "name": "python3",
      "display_name": "Python 3"
    }
  },
  "cells": [
    {
      "cell_type": "markdown",
      "metadata": {
        "id": "qLjL3V8jnrI9"
      },
      "source": [
        "# Week09: MongoDB"
      ]
    },
    {
      "cell_type": "markdown",
      "metadata": {
        "id": "4JySa7vEnu5U"
      },
      "source": [
        "## Overview\n",
        "\n",
        "In this demo, we create a new database on a cloud MongoDB, and populate it with some data.\n",
        "\n",
        "https://cloud.mongodb.com/\n",
        "\n",
        "\n"
      ]
    },
    {
      "cell_type": "markdown",
      "source": [
        "## Create new organization\n",
        "\n",
        "1. Login MongoDB\n",
        "2. Go to View all organization (from the list of organization at the top left)\n",
        "3. Click \"Create new organization\"\n",
        "4. Fill the form (e.g. new organization name), and create new organization\n",
        "5. Select the organization\n",
        "\n",
        "\n",
        "\n"
      ],
      "metadata": {
        "id": "a53U1GBTIm-B"
      }
    },
    {
      "cell_type": "markdown",
      "source": [
        "## Create a new project\n",
        "\n",
        "In organization top menu:\n",
        "\n",
        "1. Select projects\n",
        "2. Select New project, fill the name, create\n",
        "\n"
      ],
      "metadata": {
        "id": "d-oVhsWAJTgG"
      }
    },
    {
      "cell_type": "markdown",
      "source": [
        "## Create new database\n",
        "\n",
        "In the project page:\n",
        "1. \"Build a Database\"\n",
        "2. Select \"M0\" (which is free)\n",
        "3. Click \"Create Cluster\"\n",
        "4. Fill username and password, click \"Create user\"\n",
        "5. Select IP address\n",
        "6. Create (then wait for provision)\n",
        "\n"
      ],
      "metadata": {
        "id": "eN61obuvJ5BT"
      }
    },
    {
      "cell_type": "markdown",
      "source": [
        "## Create collection\n",
        "\n",
        "1. In the database page, click \"Browse Collections\"\n",
        "2. Select \"Create new collection\" (or \"Add My Own Data\")\n",
        "2. Fill database name and collection name (e.g. \"gv918-2023\" and \"test\")"
      ],
      "metadata": {
        "id": "t34lhSRXKnVe"
      }
    },
    {
      "cell_type": "markdown",
      "source": [
        "## Connect to the database\n",
        "\n",
        "1. Now, going back to the cluster top page\n",
        "2. Click \"Connect\"\n",
        "3. Slect \"Connect your application\"\n",
        "4. Select Python and 3.6 or later, tick \"View Full Code Sample\"\n",
        "5. Copy and paste the line of `uri = ...`, replace `<password>` with actual password"
      ],
      "metadata": {
        "id": "2Hgj6q-9L2bZ"
      }
    },
    {
      "cell_type": "markdown",
      "source": [
        "## Whitelist the IP of Colab\n",
        "\n",
        "1. Connect colab, run the following"
      ],
      "metadata": {
        "id": "C9ioLiQwNZBh"
      }
    },
    {
      "cell_type": "code",
      "source": [
        "!curl ipecho.net/plain"
      ],
      "metadata": {
        "id": "JNJ1O4_DNYei"
      },
      "execution_count": null,
      "outputs": []
    },
    {
      "cell_type": "markdown",
      "source": [
        "2. Go back to MongoDB page\n",
        "3. Select Network Access on the right\n",
        "4. Add IP address from the 1."
      ],
      "metadata": {
        "id": "L85tNd1oNhzk"
      }
    },
    {
      "cell_type": "markdown",
      "metadata": {
        "id": "ocwGz3PHoA5b"
      },
      "source": [
        "## Import packages"
      ]
    },
    {
      "cell_type": "code",
      "source": [
        "!pip install pymongo"
      ],
      "metadata": {
        "id": "TkcTjGLagX31"
      },
      "execution_count": null,
      "outputs": []
    },
    {
      "cell_type": "code",
      "metadata": {
        "id": "YjHmYAZbVuip"
      },
      "source": [
        "import pymongo\n",
        "from pymongo.mongo_client import MongoClient\n",
        "import pandas as pd"
      ],
      "execution_count": null,
      "outputs": []
    },
    {
      "cell_type": "markdown",
      "metadata": {
        "id": "bfKYvd2QDBW5"
      },
      "source": [
        "## Connect to the database"
      ]
    },
    {
      "cell_type": "code",
      "source": [
        "uri = \"\" # replace this part\n"
      ],
      "metadata": {
        "id": "XiyZ4vekfyQl"
      },
      "execution_count": null,
      "outputs": []
    },
    {
      "cell_type": "code",
      "source": [
        "cluster = MongoClient(uri)\n"
      ],
      "metadata": {
        "id": "LP3uIAMLM4mt"
      },
      "execution_count": null,
      "outputs": []
    },
    {
      "cell_type": "code",
      "metadata": {
        "id": "6FhE_Wb2WJAG"
      },
      "source": [
        "db = cluster['mydb']\n",
        "collection = db['mycollection']"
      ],
      "execution_count": null,
      "outputs": []
    },
    {
      "cell_type": "code",
      "metadata": {
        "id": "fIYOHLQNc3-P"
      },
      "source": [
        "cluster.server_info()"
      ],
      "execution_count": null,
      "outputs": []
    },
    {
      "cell_type": "markdown",
      "source": [
        "## Populate the database\n",
        "\n",
        "Now, we can populate the database. We first put a very simple data. Any Python dictionary can be placed in the database:\n"
      ],
      "metadata": {
        "id": "wNI6Ln4-U9GJ"
      }
    },
    {
      "cell_type": "code",
      "source": [
        "collection.insert_one({\"FirstName\": \"Harry\", \"FamilyName\": \"Kane\"})"
      ],
      "metadata": {
        "id": "YMytBw0aVmY4"
      },
      "execution_count": null,
      "outputs": []
    },
    {
      "cell_type": "markdown",
      "source": [
        "Let's check the record on the web"
      ],
      "metadata": {
        "id": "CqetLEzMV2tw"
      }
    },
    {
      "cell_type": "markdown",
      "source": [
        "### More data"
      ],
      "metadata": {
        "id": "Yrt-QmtWYciW"
      }
    },
    {
      "cell_type": "code",
      "source": [
        "!wget https://www.dropbox.com/s/yl8p0598gm8ek6c/df_all_mps_wk09.csv?dl=0 -O df_all_mps_wk09.csv"
      ],
      "metadata": {
        "id": "qaYrAG5nYe3F"
      },
      "execution_count": null,
      "outputs": []
    },
    {
      "cell_type": "markdown",
      "source": [
        "### Insert many records\n",
        "\n",
        "1. Read csv data\n",
        "2. Convert the data to a list of dictionaries\n",
        "3. Create new collection\n",
        "4. Put the data into the new collection"
      ],
      "metadata": {
        "id": "qi7Lc784beRS"
      }
    },
    {
      "cell_type": "code",
      "source": [
        "df_mps = pd.read_csv(\"df_all_mps_wk09.csv\")\n",
        "df_mps.head()"
      ],
      "metadata": {
        "id": "QycLYYPPVjfM"
      },
      "execution_count": null,
      "outputs": []
    },
    {
      "cell_type": "code",
      "source": [
        "df_mps.rename({\"id\": '_id'}, axis = \"columns\", inplace = True)"
      ],
      "metadata": {
        "id": "zvFX9fjPaJ5L"
      },
      "execution_count": null,
      "outputs": []
    },
    {
      "cell_type": "code",
      "source": [
        "dict_mps = df_mps.to_dict(orient = \"records\")"
      ],
      "metadata": {
        "id": "KmPpZoeFak6-"
      },
      "execution_count": null,
      "outputs": []
    },
    {
      "cell_type": "code",
      "source": [
        "dict_mps[:3]"
      ],
      "metadata": {
        "id": "o3je8cD5awku"
      },
      "execution_count": null,
      "outputs": []
    },
    {
      "cell_type": "code",
      "metadata": {
        "id": "Hq4mA0b1opzC"
      },
      "source": [
        "db.create_collection(\"mps\")"
      ],
      "execution_count": null,
      "outputs": []
    },
    {
      "cell_type": "code",
      "source": [
        "coll_mps = db[\"mps\"]"
      ],
      "metadata": {
        "id": "HBfNPOb4bBcz"
      },
      "execution_count": null,
      "outputs": []
    },
    {
      "cell_type": "code",
      "source": [
        "coll_mps.insert_many(dict_mps)"
      ],
      "metadata": {
        "id": "NfxRDCFxbJiU"
      },
      "execution_count": null,
      "outputs": []
    },
    {
      "cell_type": "markdown",
      "source": [
        "### Run mongo queries\n",
        "\n",
        "https://www.mongodb.com/docs/manual/tutorial/query-documents/\n",
        "\n",
        "- Select records of Female MPs"
      ],
      "metadata": {
        "id": "jdkysIvPbzea"
      }
    },
    {
      "cell_type": "code",
      "source": [
        "list(coll_mps.find({\"gender\": \"F\"}).limit(10))"
      ],
      "metadata": {
        "id": "rzR9OhQBbzQu"
      },
      "execution_count": null,
      "outputs": []
    },
    {
      "cell_type": "markdown",
      "source": [
        "- count the number of female mps"
      ],
      "metadata": {
        "id": "n8tmFEbOcfdG"
      }
    },
    {
      "cell_type": "code",
      "source": [
        "coll_mps.count_documents({\"gender\": \"F\"})"
      ],
      "metadata": {
        "id": "-ZQlGXoPcfFW"
      },
      "execution_count": null,
      "outputs": []
    },
    {
      "cell_type": "code",
      "source": [
        "coll_mps.count_documents({\"gender\": \"M\"})"
      ],
      "metadata": {
        "id": "Mh_hjm5Lba04"
      },
      "execution_count": null,
      "outputs": []
    },
    {
      "cell_type": "markdown",
      "source": [
        "- Find MPs whose name contains \"David\""
      ],
      "metadata": {
        "id": "vIaC-qCTdMp5"
      }
    },
    {
      "cell_type": "code",
      "metadata": {
        "id": "0V99t89yPTE_"
      },
      "source": [
        "coll_mps.count_documents({\"name\": {\"$regex\": \"David\"}})"
      ],
      "execution_count": null,
      "outputs": []
    },
    {
      "cell_type": "markdown",
      "source": [
        "- find MPs whose ID number is smaller than 100"
      ],
      "metadata": {
        "id": "JM0Z580cd7tD"
      }
    },
    {
      "cell_type": "code",
      "source": [
        "coll_mps.count_documents({\"_id\": {\"$lt\": 100}})"
      ],
      "metadata": {
        "id": "eaPzHjn_dJgs"
      },
      "execution_count": null,
      "outputs": []
    },
    {
      "cell_type": "code",
      "source": [
        "list(coll_mps.find({\"_id\": {\"$lt\": 100}}))"
      ],
      "metadata": {
        "id": "U9cCRfqaeBA4"
      },
      "execution_count": null,
      "outputs": []
    },
    {
      "cell_type": "code",
      "source": [],
      "metadata": {
        "id": "tFNGu3ZseIys"
      },
      "execution_count": null,
      "outputs": []
    }
  ]
}