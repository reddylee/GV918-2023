{
  "nbformat": 4,
  "nbformat_minor": 0,
  "metadata": {
    "kernelspec": {
      "display_name": "Python 3 (ipykernel)",
      "language": "python",
      "name": "python3"
    },
    "language_info": {
      "codemirror_mode": {
        "name": "ipython",
        "version": 3
      },
      "file_extension": ".py",
      "mimetype": "text/x-python",
      "name": "python",
      "nbconvert_exporter": "python",
      "pygments_lexer": "ipython3",
      "version": "3.8.10"
    },
    "colab": {
      "provenance": []
    }
  },
  "cells": [
    {
      "cell_type": "markdown",
      "metadata": {
        "id": "sX46uW9oFVMa"
      },
      "source": [
        "# Public Health England, Covid-19 API"
      ]
    },
    {
      "cell_type": "markdown",
      "metadata": {
        "id": "X1tJlcWXFVMd"
      },
      "source": [
        "We are going to work with API of Covid-19 in the UK provided by Public Health England. The API has a python wrapper, so we do not have to code by ourselves, but to get used to the process of accessing API, we first access to the API without the wrapper, and then use the package afterwords.\n",
        "\n",
        "API documentation: https://coronavirus.data.gov.uk/details/developers-guide\n",
        "\n",
        "API endpoint: https://api.coronavirus.data.gov.uk/v1/data\n",
        "\n",
        "uk-covid-19 package documentation: https://pypi.org/project/uk-covid19/\n"
      ]
    },
    {
      "cell_type": "markdown",
      "metadata": {
        "id": "8J3DidysFVMd"
      },
      "source": [
        "## Load packages"
      ]
    },
    {
      "cell_type": "code",
      "metadata": {
        "id": "8BHZBkjMFVMe"
      },
      "source": [
        "from urllib.request import urlopen\n",
        "import json\n",
        "import gzip\n",
        "import pandas as pd"
      ],
      "execution_count": null,
      "outputs": []
    },
    {
      "cell_type": "markdown",
      "metadata": {
        "id": "peAGLTnPFVMe"
      },
      "source": [
        "## Load example URL"
      ]
    },
    {
      "cell_type": "code",
      "metadata": {
        "id": "3n03VXO4FVMe"
      },
      "source": [
        "example_url = \"https://api.coronavirus.data.gov.uk/v1/data?filters=areaType=nation;areaName=england&structure={%22date%22:%22date%22,%22areaName%22:%22areaName%22,%22areaCode%22:%22areaCode%22,%22newCasesByPublishDate%22:%22newCasesByPublishDate%22,%22cumCasesByPublishDate%22:%22cumCasesByPublishDate%22,%22newDeaths28DaysByPublishDate%22:%22newDeaths28DaysByPublishDate%22,%22cumDeaths28DaysByPublishDate%22:%22cumDeaths28DaysByPublishDate%22}\""
      ],
      "execution_count": null,
      "outputs": []
    },
    {
      "cell_type": "code",
      "metadata": {
        "id": "VE5eep5gG2Iv"
      },
      "source": [
        "response = urlopen(example_url)\n",
        "js = json.loads(response)"
      ],
      "execution_count": null,
      "outputs": []
    },
    {
      "cell_type": "code",
      "metadata": {
        "id": "0-1xmtTGFVMf"
      },
      "source": [
        "response = urlopen(example_url)\n",
        "content_gz = response.read() # read the response (in tar.gz format)\n",
        "content_text = gzip.decompress(content_gz) # decompress\n",
        "dic_nat = json.loads(content_text.decode('utf-8'))"
      ],
      "execution_count": null,
      "outputs": []
    },
    {
      "cell_type": "code",
      "source": [
        "dic_nat['length']"
      ],
      "metadata": {
        "id": "J6CKZW3g8xtY"
      },
      "execution_count": null,
      "outputs": []
    },
    {
      "cell_type": "code",
      "source": [
        "dic_nat['data'][0]"
      ],
      "metadata": {
        "id": "NE9EcNyX86tv"
      },
      "execution_count": null,
      "outputs": []
    },
    {
      "cell_type": "code",
      "source": [
        "date = [item['date'] for item in dic_nat['data']]"
      ],
      "metadata": {
        "id": "K23Mrpv89NiQ"
      },
      "execution_count": null,
      "outputs": []
    },
    {
      "cell_type": "code",
      "source": [
        "newCasesByPublishDate = [item['newCasesByPublishDate'] for item in dic_nat['data']]"
      ],
      "metadata": {
        "id": "39IB4ghV9dei"
      },
      "execution_count": null,
      "outputs": []
    },
    {
      "cell_type": "code",
      "metadata": {
        "id": "Bmhu1q_kFVMf"
      },
      "source": [
        "print(json.dumps(dic_nat, indent=4))"
      ],
      "execution_count": null,
      "outputs": []
    },
    {
      "cell_type": "code",
      "metadata": {
        "id": "EoxafgAyIXDy"
      },
      "source": [
        "dic_nat['data'][0]"
      ],
      "execution_count": null,
      "outputs": []
    },
    {
      "cell_type": "code",
      "metadata": {
        "id": "oG6uYGkZIl8x"
      },
      "source": [
        "pd.DataFrame(dic_nat['data'][0], index=[0])"
      ],
      "execution_count": null,
      "outputs": []
    },
    {
      "cell_type": "code",
      "metadata": {
        "id": "pdDghLUiJJ7u"
      },
      "source": [
        "list_df = [pd.DataFrame(item, index=[0]) for item in dic_nat['data']]"
      ],
      "execution_count": null,
      "outputs": []
    },
    {
      "cell_type": "code",
      "metadata": {
        "id": "FkcXP233JeHB"
      },
      "source": [
        "list_df = [pd.DataFrame(item, index=[0]) for item in dic_nat['data']]\n",
        "df_england  = pd.concat(list_df, ignore_index=True)\n",
        "df_england.head(20)"
      ],
      "execution_count": null,
      "outputs": []
    },
    {
      "cell_type": "markdown",
      "metadata": {
        "id": "wZk4uGzIFVMg"
      },
      "source": [
        "## Make functions to get the data"
      ]
    },
    {
      "cell_type": "markdown",
      "metadata": {
        "id": "6E1-EAPFFVMg"
      },
      "source": [
        "### Function to construct the filter string\n",
        "\n",
        "- we will create a function to create a string like `areaType=nation;areaName=england`, from a dictionary `{'areaType':'nation', 'areaName': 'england'}`"
      ]
    },
    {
      "cell_type": "code",
      "metadata": {
        "id": "5gyyQcbaFVMg"
      },
      "source": [
        "def construct_filter(filters):\n",
        "  key_val_list = [key + \"=\" + value for key, value in filters.items()]\n",
        "  return(str.join(';', key_val_list))"
      ],
      "execution_count": null,
      "outputs": []
    },
    {
      "cell_type": "code",
      "metadata": {
        "id": "LQw5vne9KPee"
      },
      "source": [
        "construct_filter({'areaType':'nation', 'areaName': 'england'})"
      ],
      "execution_count": null,
      "outputs": []
    },
    {
      "cell_type": "markdown",
      "metadata": {
        "id": "is_wuSUpFVMh"
      },
      "source": [
        "### Function to construct the URL"
      ]
    },
    {
      "cell_type": "code",
      "metadata": {
        "id": "XKmKaoVGFVMh"
      },
      "source": [
        "def construct_url(filters):\n",
        "  filter_str = construct_filter(filters)\n",
        "  # url_template = \"https://api.coronavirus.data.gov.uk/v1/data?filters={filterVal}&structure={%22date%22:%22date%22,%22areaName%22:%22areaName%22,%22areaCode%22:%22areaCode%22,%22newCasesByPublishDate%22:%22newCasesByPublishDate%22,%22cumCasesByPublishDate%22:%22cumCasesByPublishDate%22,%22newDeaths28DaysByPublishDate%22:%22newDeaths28DaysByPublishDate%22,%22cumDeaths28DaysByPublishDate%22:%22cumDeaths28DaysByPublishDate%22}\"\n",
        "  # full_url = url_template.format(filterVal = filters)\n",
        "  full_url = \"https://api.coronavirus.data.gov.uk/v1/data?filters=\" + filter_str + \"&structure={%22date%22:%22date%22,%22areaName%22:%22areaName%22,%22areaCode%22:%22areaCode%22,%22newCasesByPublishDate%22:%22newCasesByPublishDate%22,%22cumCasesByPublishDate%22:%22cumCasesByPublishDate%22,%22newDeaths28DaysByPublishDate%22:%22newDeaths28DaysByPublishDate%22,%22cumDeaths28DaysByPublishDate%22:%22cumDeaths28DaysByPublishDate%22}\"\n",
        "  return(full_url)"
      ],
      "execution_count": null,
      "outputs": []
    },
    {
      "cell_type": "code",
      "metadata": {
        "id": "vTb-xDy6FVMh"
      },
      "source": [
        "current_url = construct_url({'areaType':'nation',\n",
        "                            'areaName': 'england'})\n",
        "current_url"
      ],
      "execution_count": null,
      "outputs": []
    },
    {
      "cell_type": "markdown",
      "metadata": {
        "id": "MS-G_RJWFVMh"
      },
      "source": [
        "### Using the URL function, get the data again"
      ]
    },
    {
      "cell_type": "code",
      "metadata": {
        "id": "AmPyAvzIFVMi"
      },
      "source": [
        "response = urlopen(current_url)\n",
        "content_gz = response.read()\n",
        "content_text = gzip.decompress(content_gz)\n",
        "dic_nat = json.loads(content_text.decode('utf-8'))\n",
        "dic_nat['data'][0:3]"
      ],
      "execution_count": null,
      "outputs": []
    },
    {
      "cell_type": "markdown",
      "metadata": {
        "id": "4Y3A9bkEFVMi"
      },
      "source": [
        "### Function to get the data"
      ]
    },
    {
      "cell_type": "code",
      "metadata": {
        "id": "UkJvvX_BFVMi"
      },
      "source": [
        "def get_data(filters):\n",
        "  c_url = construct_url(filters)\n",
        "  response = urlopen(c_url)\n",
        "  content_gz = response.read()\n",
        "  content_text = gzip.decompress(content_gz)\n",
        "  dic_nat = json.loads(content_text.decode('utf-8'))\n",
        "  list_df = [pd.DataFrame(item, index=[0]) for item in dic_nat['data']]\n",
        "  df_out  = pd.concat(list_df, ignore_index=True)\n",
        "  return(df_out)\n"
      ],
      "execution_count": null,
      "outputs": []
    },
    {
      "cell_type": "code",
      "source": [
        "df_new = get_data({'areaType':'nation','areaName': 'england'})\n",
        "df_new.head()"
      ],
      "metadata": {
        "id": "3w3La7L3ymJb"
      },
      "execution_count": null,
      "outputs": []
    },
    {
      "cell_type": "code",
      "metadata": {
        "id": "AJqH8JJ7Nolx"
      },
      "source": [
        "#df_colchester = get_data({'areaType':'ltla', 'areaName':'colchester'})\n",
        "#get_data({'areaType':'ltla', 'date':'2021-11-01'})\n",
        "df_colchester2 = get_data({'areaType':'ltla', 'areaCode':'E07000071'})\n",
        "\n"
      ],
      "execution_count": null,
      "outputs": []
    },
    {
      "cell_type": "code",
      "source": [
        "df_colchester2.head()"
      ],
      "metadata": {
        "id": "5cv5JlY9zgA8"
      },
      "execution_count": null,
      "outputs": []
    },
    {
      "cell_type": "code",
      "metadata": {
        "id": "RLQXrWkeOxSO"
      },
      "source": [
        "#sns.lineplot(data = df_national, x = \"date\", y = \"newCasesByPublishDate\" )\n",
        "import seaborn as sns\n",
        "df_colchester2.date\n",
        "df_colchester2['date2'] = pd.to_datetime(df_colchester2.date)\n",
        "sns.lineplot(data = df_colchester2, x = \"date2\", y = \"newCasesByPublishDate\" )\n"
      ],
      "execution_count": null,
      "outputs": []
    },
    {
      "cell_type": "markdown",
      "metadata": {
        "id": "e36jozAlFVMi"
      },
      "source": [
        "## Use the package"
      ]
    },
    {
      "cell_type": "code",
      "metadata": {
        "id": "3TYmLVhAFVMi"
      },
      "source": [
        "!pip install uk-covid19"
      ],
      "execution_count": null,
      "outputs": []
    },
    {
      "cell_type": "code",
      "metadata": {
        "id": "PH1jWFMJFVMi"
      },
      "source": [
        "from uk_covid19 import Cov19API"
      ],
      "execution_count": null,
      "outputs": []
    },
    {
      "cell_type": "code",
      "metadata": {
        "id": "RYhjEbJQFVMi"
      },
      "source": [
        "c_structure = {\n",
        "    \"date\": \"date\",\n",
        "    \"areaName\": \"areaName\",\n",
        "    \"areaCode\": \"areaCode\",\n",
        "    \"newCasesByPublishDate\": \"newCasesByPublishDate\",\n",
        "    \"cumCasesByPublishDate\": \"cumCasesByPublishDate\",\n",
        "    \"newDeaths28DaysByDeathDate\": \"newDeaths28DaysByDeathDate\",\n",
        "    \"cumDeaths28DaysByDeathDate\": \"cumDeaths28DaysByDeathDate\"\n",
        "}"
      ],
      "execution_count": null,
      "outputs": []
    },
    {
      "cell_type": "code",
      "metadata": {
        "id": "M3rb73W6FVMi"
      },
      "source": [
        "c_filters = ['areaType=ltla',\n",
        "             'date=2020-11-01']"
      ],
      "execution_count": null,
      "outputs": []
    },
    {
      "cell_type": "code",
      "metadata": {
        "id": "DDe44m6hFVMj"
      },
      "source": [
        "api = Cov19API(filters=c_filters, structure=c_structure)\n",
        "df_covid_2 = api.get_dataframe()"
      ],
      "execution_count": null,
      "outputs": []
    },
    {
      "cell_type": "code",
      "metadata": {
        "id": "2MoeB978FVMj"
      },
      "source": [
        "df_covid_2"
      ],
      "execution_count": null,
      "outputs": []
    },
    {
      "cell_type": "code",
      "metadata": {
        "id": "hJmr4hWwQAkO"
      },
      "source": [],
      "execution_count": null,
      "outputs": []
    }
  ]
}