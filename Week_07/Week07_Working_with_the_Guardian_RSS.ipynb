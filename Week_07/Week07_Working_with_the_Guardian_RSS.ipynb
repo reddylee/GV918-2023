{
  "nbformat": 4,
  "nbformat_minor": 0,
  "metadata": {
    "colab": {
      "provenance": []
    },
    "kernelspec": {
      "name": "python3",
      "display_name": "Python 3"
    },
    "language_info": {
      "name": "python"
    }
  },
  "cells": [
    {
      "cell_type": "markdown",
      "source": [
        "## Get the data from the Guardian API\n",
        "\n",
        "- A simple explation of RSS is available here: https://www.theguardian.com/help/feeds\n",
        "- Let's try politics RSS: https://www.theguardian.com/politics/rss"
      ],
      "metadata": {
        "id": "c5jbeRnhHfzb"
      }
    },
    {
      "cell_type": "code",
      "execution_count": null,
      "metadata": {
        "id": "ga3dshAcHE7Q"
      },
      "outputs": [],
      "source": [
        "import pandas as pd\n",
        "from urllib.request import urlopen\n",
        "from bs4 import BeautifulSoup\n",
        "from lxml import etree"
      ]
    },
    {
      "cell_type": "code",
      "source": [
        "url = 'https://www.theguardian.com/politics/rss'\n",
        "response = urlopen(url)"
      ],
      "metadata": {
        "id": "u8ytasi1HWRu"
      },
      "execution_count": null,
      "outputs": []
    },
    {
      "cell_type": "markdown",
      "source": [
        "## Method 1: Using BeautifulSoup\n",
        "\n",
        "You can use BeautifulSoup for xml parsing, and can use the same method as you did for web-scraping"
      ],
      "metadata": {
        "id": "WrNZlWhUOlID"
      }
    },
    {
      "cell_type": "code",
      "source": [
        "bs = BeautifulSoup(response, 'xml')"
      ],
      "metadata": {
        "id": "qEq4PqkzLOCy"
      },
      "execution_count": null,
      "outputs": []
    },
    {
      "cell_type": "code",
      "source": [
        "items = bs.select(\"item\")"
      ],
      "metadata": {
        "id": "pEGroVE8ML3r"
      },
      "execution_count": null,
      "outputs": []
    },
    {
      "cell_type": "markdown",
      "source": [],
      "metadata": {
        "id": "k03P43qsNCjl"
      }
    },
    {
      "cell_type": "code",
      "source": [
        "## check the length\n",
        "len(items)"
      ],
      "metadata": {
        "id": "5T-zH5kCNCSq"
      },
      "execution_count": null,
      "outputs": []
    },
    {
      "cell_type": "code",
      "source": [
        "## Printout xml\n",
        "items[0]"
      ],
      "metadata": {
        "id": "bUgjrDSfMREM"
      },
      "execution_count": null,
      "outputs": []
    },
    {
      "cell_type": "code",
      "source": [
        "## Printout xml (prettified), maybe not necessary\n",
        "print(items[0].prettify())"
      ],
      "metadata": {
        "id": "ADjyueENMjjP"
      },
      "execution_count": null,
      "outputs": []
    },
    {
      "cell_type": "markdown",
      "source": [
        "### Extract contents"
      ],
      "metadata": {
        "id": "hk_S26rbNXNm"
      }
    },
    {
      "cell_type": "code",
      "source": [
        "items[0].title"
      ],
      "metadata": {
        "id": "E4QY8GJgNd5o"
      },
      "execution_count": null,
      "outputs": []
    },
    {
      "cell_type": "code",
      "source": [
        "title = [item.title.get_text() for item in items]"
      ],
      "metadata": {
        "id": "KcwXiVSDNW74"
      },
      "execution_count": null,
      "outputs": []
    },
    {
      "cell_type": "code",
      "source": [
        "title[:5]"
      ],
      "metadata": {
        "id": "XZy8tmaoNJ6d"
      },
      "execution_count": null,
      "outputs": []
    },
    {
      "cell_type": "code",
      "source": [
        "description = [item.description.get_text() for item in items]"
      ],
      "metadata": {
        "id": "u0KpbOcnNngO"
      },
      "execution_count": null,
      "outputs": []
    },
    {
      "cell_type": "code",
      "source": [
        "pubDate = [item.pubDate.get_text() for item in items]"
      ],
      "metadata": {
        "id": "nMf_0K4mODD-"
      },
      "execution_count": null,
      "outputs": []
    },
    {
      "cell_type": "code",
      "source": [
        "link = [item.link.get_text() for item in items]"
      ],
      "metadata": {
        "id": "uWsvg7OWOHIU"
      },
      "execution_count": null,
      "outputs": []
    },
    {
      "cell_type": "code",
      "source": [
        "df = pd.DataFrame({\"title\": title, \"description\": description, \"pubDate\": pubDate, \"link\": link})"
      ],
      "metadata": {
        "id": "EUDTu28MOJGh"
      },
      "execution_count": null,
      "outputs": []
    },
    {
      "cell_type": "code",
      "source": [
        "df.head()"
      ],
      "metadata": {
        "id": "JUUAABsDSuzq"
      },
      "execution_count": null,
      "outputs": []
    },
    {
      "cell_type": "markdown",
      "source": [
        "#### Save the data"
      ],
      "metadata": {
        "id": "QVPPAinISm_A"
      }
    },
    {
      "cell_type": "code",
      "source": [
        "## remove html tags\n",
        "df['description'] = df['description'].str.replace(r\"<.+?>\", \"\")"
      ],
      "metadata": {
        "id": "AjiBtGl8RhsP"
      },
      "execution_count": null,
      "outputs": []
    },
    {
      "cell_type": "code",
      "source": [
        "df.to_csv(\"df_guard_politics.csv\")"
      ],
      "metadata": {
        "id": "Iy5odPsuSDmL"
      },
      "execution_count": null,
      "outputs": []
    },
    {
      "cell_type": "markdown",
      "source": [
        "## Method 2: Use xml parser"
      ],
      "metadata": {
        "id": "MapENfPKPMd3"
      }
    },
    {
      "cell_type": "code",
      "source": [
        "url = 'https://www.theguardian.com/politics/rss'\n",
        "response = urlopen(url)\n",
        "tree = etree.parse(response)\n"
      ],
      "metadata": {
        "id": "DVdwIg18IJU-"
      },
      "execution_count": null,
      "outputs": []
    },
    {
      "cell_type": "code",
      "source": [
        "## Using xpath to select item elements in channel\n",
        "items = tree.findall('./channel/item')"
      ],
      "metadata": {
        "id": "lyAc-3R9ITTu"
      },
      "execution_count": null,
      "outputs": []
    },
    {
      "cell_type": "code",
      "source": [
        "len(items)"
      ],
      "metadata": {
        "id": "sXgWiMi1Ipv3"
      },
      "execution_count": null,
      "outputs": []
    },
    {
      "cell_type": "code",
      "source": [
        "print(etree.tostring(items[0], pretty_print = True, encoding = str))"
      ],
      "metadata": {
        "id": "BlY8Iq2UI69t"
      },
      "execution_count": null,
      "outputs": []
    },
    {
      "cell_type": "code",
      "source": [
        "## For an item you can get the text of title like this\n",
        "items[0].find(\"./title\").text"
      ],
      "metadata": {
        "id": "hJHYdcKCPwVU"
      },
      "execution_count": null,
      "outputs": []
    },
    {
      "cell_type": "code",
      "source": [
        "title = [item.find(\"./title\").text for item in items]"
      ],
      "metadata": {
        "id": "RLfuPk1lRhsO"
      },
      "execution_count": null,
      "outputs": []
    },
    {
      "cell_type": "code",
      "source": [
        "title[:5]"
      ],
      "metadata": {
        "id": "WqEg70N3RhsP"
      },
      "execution_count": null,
      "outputs": []
    },
    {
      "cell_type": "code",
      "source": [
        "description = [item.find(\"./description\").text for item in items]"
      ],
      "metadata": {
        "id": "8Ontjd22RhsP"
      },
      "execution_count": null,
      "outputs": []
    },
    {
      "cell_type": "code",
      "source": [
        "pubDate = [item.find(\"./pubDate\").text for item in items]"
      ],
      "metadata": {
        "id": "oRGYQb8CRhsP"
      },
      "execution_count": null,
      "outputs": []
    },
    {
      "cell_type": "code",
      "source": [
        "link = [item.find(\"./link\").text for item in items]"
      ],
      "metadata": {
        "id": "Ou5TaGsVRhsP"
      },
      "execution_count": null,
      "outputs": []
    },
    {
      "cell_type": "code",
      "source": [
        "df = pd.DataFrame({\"title\": title, \"description\": description, \"pubDate\": pubDate, \"link\": link})"
      ],
      "metadata": {
        "id": "9AxCqd3cRhsP"
      },
      "execution_count": null,
      "outputs": []
    }
  ]
}