{
 "cells": [
  {
   "cell_type": "markdown",
   "metadata": {
    "id": "LBp5Embi2jta"
   },
   "source": [
    "# Load packages"
   ]
  },
  {
   "cell_type": "code",
   "execution_count": null,
   "metadata": {
    "executionInfo": {
     "elapsed": 1084,
     "status": "ok",
     "timestamp": 1666598062169,
     "user": {
      "displayName": "Akitaka Matsuo",
      "userId": "13583983347915062182"
     },
     "user_tz": -60
    },
    "id": "w6WnLFMrvo1I"
   },
   "outputs": [],
   "source": [
    "import pandas as pd\n",
    "import numpy as np\n"
   ]
  },
  {
   "cell_type": "code",
   "execution_count": null,
   "metadata": {
    "colab": {
     "base_uri": "https://localhost:8080/"
    },
    "executionInfo": {
     "elapsed": 2596,
     "status": "ok",
     "timestamp": 1666598066410,
     "user": {
      "displayName": "Akitaka Matsuo",
      "userId": "13583983347915062182"
     },
     "user_tz": -60
    },
    "id": "VPyuaghcgKI4",
    "outputId": "3ca89e49-41ee-4593-fc1c-ea97cbc63166"
   },
   "outputs": [],
   "source": [
    "!mkdir UK-Politics-files\n",
    "!wget https://www.dropbox.com/sh/susyp0an187iinj/AAB_HDCcE3T8xCh4MqypigsPa?dl=1 -O UK-Politics-files/UK-Politics.zip"
   ]
  },
  {
   "cell_type": "code",
   "execution_count": null,
   "metadata": {
    "colab": {
     "base_uri": "https://localhost:8080/"
    },
    "executionInfo": {
     "elapsed": 331,
     "status": "ok",
     "timestamp": 1666598068408,
     "user": {
      "displayName": "Akitaka Matsuo",
      "userId": "13583983347915062182"
     },
     "user_tz": -60
    },
    "id": "zrV5kwsgSuiv",
    "outputId": "3818537d-b5f4-45c4-90db-500daf687032"
   },
   "outputs": [],
   "source": [
    "!unzip UK-Politics-files/UK-Politics.zip -d UK-Politics-files/"
   ]
  },
  {
   "cell_type": "markdown",
   "metadata": {
    "id": "eL3N6wvZ2vcX"
   },
   "source": [
    "# Open two data sets, check the contents"
   ]
  },
  {
   "cell_type": "code",
   "execution_count": null,
   "metadata": {
    "id": "Y87hLLHxwWtw"
   },
   "outputs": [],
   "source": [
    "df_brexit = pd.read_csv(\"/content/UK-Politics-files/brexit-vote.csv\")"
   ]
  },
  {
   "cell_type": "code",
   "execution_count": null,
   "metadata": {
    "id": "8nLs0P5hwaYz"
   },
   "outputs": [],
   "source": [
    "df_elec = pd.read_excel(\"/content/UK-Politics-files/general-election-results-2019.xlsx\", sheet_name = \"voting-summary\")"
   ]
  },
  {
   "cell_type": "code",
   "execution_count": null,
   "metadata": {
    "colab": {
     "base_uri": "https://localhost:8080/",
     "height": 334
    },
    "executionInfo": {
     "elapsed": 357,
     "status": "ok",
     "timestamp": 1659993146728,
     "user": {
      "displayName": "Akitaka Matsuo",
      "userId": "13583983347915062182"
     },
     "user_tz": -60
    },
    "id": "_71N2gs_wnCm",
    "outputId": "67425000-1fae-409f-c888-e3b4d2c02cbc"
   },
   "outputs": [],
   "source": [
    "df_elec.head()"
   ]
  },
  {
   "cell_type": "code",
   "execution_count": null,
   "metadata": {
    "colab": {
     "base_uri": "https://localhost:8080/",
     "height": 728
    },
    "executionInfo": {
     "elapsed": 6920,
     "status": "ok",
     "timestamp": 1603463396977,
     "user": {
      "displayName": "Akitaka Matsuo",
      "photoUrl": "https://lh3.googleusercontent.com/a-/AOh14GjufrSJCzMPgfdmlZz3GFX5n09CyEWx1rg5lY90=s64",
      "userId": "13583983347915062182"
     },
     "user_tz": -60
    },
    "id": "P0Xcw9cMwufG",
    "outputId": "4faa9067-08bd-43cf-a252-69315cd7d34f"
   },
   "outputs": [],
   "source": [
    "df_brexit"
   ]
  },
  {
   "cell_type": "markdown",
   "metadata": {
    "id": "pbmJ4tNR2ywt"
   },
   "source": [
    "# Data wrangling\n"
   ]
  },
  {
   "cell_type": "markdown",
   "metadata": {
    "id": "FZjqlPrX27ho"
   },
   "source": [
    "\n",
    "##  Rename the variables to merge"
   ]
  },
  {
   "cell_type": "code",
   "execution_count": null,
   "metadata": {
    "id": "Ey92xXHM2yVd"
   },
   "outputs": [],
   "source": [
    "df_brexit.rename({'PCON11CD': 'ons_id'}, axis = 1, inplace=True)"
   ]
  },
  {
   "cell_type": "markdown",
   "metadata": {
    "id": "8biqXo4g3Is5"
   },
   "source": [
    "## Merge"
   ]
  },
  {
   "cell_type": "code",
   "execution_count": null,
   "metadata": {
    "id": "QaRwyrcoxfIg"
   },
   "outputs": [],
   "source": [
    "df_merged = df_elec.merge(df_brexit, on = 'ons_id')"
   ]
  },
  {
   "cell_type": "markdown",
   "metadata": {
    "id": "ApJDwYza3Qad"
   },
   "source": [
    "## Join\n",
    "\n",
    "You can use `join` instead, but for joining you need to set index."
   ]
  },
  {
   "cell_type": "code",
   "execution_count": null,
   "metadata": {
    "colab": {
     "base_uri": "https://localhost:8080/",
     "height": 675
    },
    "executionInfo": {
     "elapsed": 222,
     "status": "ok",
     "timestamp": 1659993226257,
     "user": {
      "displayName": "Akitaka Matsuo",
      "userId": "13583983347915062182"
     },
     "user_tz": -60
    },
    "id": "9LqIkcA33SLS",
    "outputId": "627bd207-99e6-4fb7-f075-187367aba916"
   },
   "outputs": [],
   "source": [
    "df_elec.set_index('ons_id').join(df_brexit.set_index('ons_id'), on = 'ons_id')"
   ]
  },
  {
   "cell_type": "markdown",
   "metadata": {
    "id": "o6GpfJiw4C8a"
   },
   "source": [
    "# Descriptive Statistics"
   ]
  },
  {
   "cell_type": "code",
   "execution_count": null,
   "metadata": {
    "colab": {
     "base_uri": "https://localhost:8080/"
    },
    "executionInfo": {
     "elapsed": 272,
     "status": "ok",
     "timestamp": 1659993233636,
     "user": {
      "displayName": "Akitaka Matsuo",
      "userId": "13583983347915062182"
     },
     "user_tz": -60
    },
    "id": "3jBmHEP94Cj-",
    "outputId": "5ffbede8-9dab-4cbc-9dec-6fe0eac0d5f0"
   },
   "outputs": [],
   "source": [
    "df_merged.mean()"
   ]
  },
  {
   "cell_type": "markdown",
   "metadata": {
    "id": "VQ_Yd-KV_9JN"
   },
   "source": [
    "Calculate the percentage of vote the Conservatives got"
   ]
  },
  {
   "cell_type": "code",
   "execution_count": null,
   "metadata": {
    "id": "IDrEKWuJx4xM"
   },
   "outputs": [],
   "source": [
    "df_merged[\"con_pct\"] = df_merged['con'] / df_merged['valid_votes']"
   ]
  },
  {
   "cell_type": "markdown",
   "metadata": {
    "id": "r5l1v3rCAC_K"
   },
   "source": []
  },
  {
   "cell_type": "markdown",
   "metadata": {
    "id": "TUJs6SLSAEMW"
   },
   "source": [
    "Count the number of observations in each county"
   ]
  },
  {
   "cell_type": "markdown",
   "metadata": {
    "id": "1pFS-KEFAEKY"
   },
   "source": []
  },
  {
   "cell_type": "code",
   "execution_count": null,
   "metadata": {
    "colab": {
     "base_uri": "https://localhost:8080/"
    },
    "executionInfo": {
     "elapsed": 326,
     "status": "ok",
     "timestamp": 1659993244337,
     "user": {
      "displayName": "Akitaka Matsuo",
      "userId": "13583983347915062182"
     },
     "user_tz": -60
    },
    "id": "W1W7yZ9gAaop",
    "outputId": "e4f663dd-7952-4342-a32e-cbae31d35124"
   },
   "outputs": [],
   "source": [
    "df_merged.value_counts(['county_name', 'region_name']).sort_index(level = 1)"
   ]
  },
  {
   "cell_type": "markdown",
   "metadata": {
    "id": "0hFEK5384T2-"
   },
   "source": [
    "## Correlations"
   ]
  },
  {
   "cell_type": "code",
   "execution_count": null,
   "metadata": {
    "colab": {
     "base_uri": "https://localhost:8080/",
     "height": 112
    },
    "executionInfo": {
     "elapsed": 236,
     "status": "ok",
     "timestamp": 1659993251698,
     "user": {
      "displayName": "Akitaka Matsuo",
      "userId": "13583983347915062182"
     },
     "user_tz": -60
    },
    "id": "PRgNzQ9HyVTy",
    "outputId": "190e4a6d-fb9b-415c-be4c-07048c0a8bae"
   },
   "outputs": [],
   "source": [
    "df_merged[['con_pct', 'Figure to use']].corr()"
   ]
  },
  {
   "cell_type": "markdown",
   "metadata": {
    "id": "dKvOcgX54XUf"
   },
   "source": [
    "## Groupby"
   ]
  },
  {
   "cell_type": "code",
   "execution_count": null,
   "metadata": {
    "colab": {
     "base_uri": "https://localhost:8080/",
     "height": 557
    },
    "executionInfo": {
     "elapsed": 498,
     "status": "ok",
     "timestamp": 1659993280308,
     "user": {
      "displayName": "Akitaka Matsuo",
      "userId": "13583983347915062182"
     },
     "user_tz": -60
    },
    "id": "gOKbNYERydHA",
    "outputId": "cc7a898a-1cdf-493c-e356-09c60b621cbc"
   },
   "outputs": [],
   "source": [
    "df_merged.groupby('region_name').sum().reset_index()"
   ]
  },
  {
   "cell_type": "markdown",
   "metadata": {
    "id": "pghqxD5tzVuK"
   },
   "source": [
    "# Pivoting "
   ]
  },
  {
   "cell_type": "code",
   "execution_count": null,
   "metadata": {
    "id": "ziiY--LKy7l0"
   },
   "outputs": [],
   "source": [
    "df_elec_sub = df_elec[:5]"
   ]
  },
  {
   "cell_type": "code",
   "execution_count": null,
   "metadata": {
    "colab": {
     "base_uri": "https://localhost:8080/",
     "height": 334
    },
    "executionInfo": {
     "elapsed": 4,
     "status": "ok",
     "timestamp": 1659993288655,
     "user": {
      "displayName": "Akitaka Matsuo",
      "userId": "13583983347915062182"
     },
     "user_tz": -60
    },
    "id": "quf4p_azI-Oo",
    "outputId": "b7c6b756-2abf-4e26-8eda-6bda6ae747eb"
   },
   "outputs": [],
   "source": [
    "df_elec_sub"
   ]
  },
  {
   "cell_type": "code",
   "execution_count": null,
   "metadata": {
    "id": "ZkGh3cTnJEK7"
   },
   "outputs": [],
   "source": [
    "df_elec_sub = df_elec[['ons_id', 'constituency_name', 'con', 'lab', 'ld']]"
   ]
  },
  {
   "cell_type": "code",
   "execution_count": null,
   "metadata": {
    "colab": {
     "base_uri": "https://localhost:8080/",
     "height": 206
    },
    "executionInfo": {
     "elapsed": 231,
     "status": "ok",
     "timestamp": 1659993295163,
     "user": {
      "displayName": "Akitaka Matsuo",
      "userId": "13583983347915062182"
     },
     "user_tz": -60
    },
    "id": "AYoG8zlvX5ce",
    "outputId": "e59ead6d-e925-4ead-e525-e639bd3d17f4"
   },
   "outputs": [],
   "source": [
    "df_elec_sub"
   ]
  },
  {
   "cell_type": "code",
   "execution_count": null,
   "metadata": {
    "colab": {
     "base_uri": "https://localhost:8080/",
     "height": 520
    },
    "executionInfo": {
     "elapsed": 329,
     "status": "ok",
     "timestamp": 1659993299830,
     "user": {
      "displayName": "Akitaka Matsuo",
      "userId": "13583983347915062182"
     },
     "user_tz": -60
    },
    "id": "QDdrOAqyJTTo",
    "outputId": "817433a4-5cc2-4594-bec0-28da6d05a80c"
   },
   "outputs": [],
   "source": [
    "melted = df_elec_sub.melt(['ons_id', \"constituency_name\"],  var_name = \"party\", \n",
    "                          value_name = 'vote').sort_values('constituency_name')\n",
    "melted"
   ]
  },
  {
   "cell_type": "code",
   "execution_count": null,
   "metadata": {
    "colab": {
     "base_uri": "https://localhost:8080/",
     "height": 238
    },
    "executionInfo": {
     "elapsed": 235,
     "status": "ok",
     "timestamp": 1659993371512,
     "user": {
      "displayName": "Akitaka Matsuo",
      "userId": "13583983347915062182"
     },
     "user_tz": -60
    },
    "id": "UkC8x673JUyj",
    "outputId": "1298f067-5d4d-45b4-f8d1-cb784cbfaba7"
   },
   "outputs": [],
   "source": [
    "unmelted = melted.pivot(['ons_id', 'constituency_name'], 'party').reset_index()\n",
    "unmelted"
   ]
  },
  {
   "cell_type": "code",
   "execution_count": null,
   "metadata": {
    "id": "9FavnS3WKIdi"
   },
   "outputs": [],
   "source": [
    "unmelted.columns = ['ons_id', 'constituency_name', 'con', 'lab', 'ld']"
   ]
  },
  {
   "cell_type": "code",
   "execution_count": null,
   "metadata": {
    "colab": {
     "base_uri": "https://localhost:8080/",
     "height": 206
    },
    "executionInfo": {
     "elapsed": 392,
     "status": "ok",
     "timestamp": 1659993398462,
     "user": {
      "displayName": "Akitaka Matsuo",
      "userId": "13583983347915062182"
     },
     "user_tz": -60
    },
    "id": "PxAtP4BjKYqd",
    "outputId": "1985d2c8-b282-4159-f270-319faca2cbb6"
   },
   "outputs": [],
   "source": [
    "unmelted"
   ]
  },
  {
   "cell_type": "code",
   "execution_count": null,
   "metadata": {
    "colab": {
     "base_uri": "https://localhost:8080/",
     "height": 143
    },
    "executionInfo": {
     "elapsed": 233,
     "status": "ok",
     "timestamp": 1659993407356,
     "user": {
      "displayName": "Akitaka Matsuo",
      "userId": "13583983347915062182"
     },
     "user_tz": -60
    },
    "id": "K7Eehu4dLruJ",
    "outputId": "ec7d70f0-2a38-40b2-c458-576acafe38e2"
   },
   "outputs": [],
   "source": [
    "unmelted.iloc[:, 2:].corr()"
   ]
  },
  {
   "cell_type": "code",
   "execution_count": null,
   "metadata": {
    "id": "RunSHQGncR6h"
   },
   "outputs": [],
   "source": []
  }
 ],
 "metadata": {
  "colab": {
   "authorship_tag": "ABX9TyOXrljBY9eQunr7MWxYryCF",
   "collapsed_sections": [],
   "mount_file_id": "1HQxkGOI4UbIlBMiST9ruOK8cW4RzoiqF",
   "provenance": []
  },
  "kernelspec": {
   "display_name": "Python 3 (ipykernel)",
   "language": "python",
   "name": "python3"
  },
  "language_info": {
   "codemirror_mode": {
    "name": "ipython",
    "version": 3
   },
   "file_extension": ".py",
   "mimetype": "text/x-python",
   "name": "python",
   "nbconvert_exporter": "python",
   "pygments_lexer": "ipython3",
   "version": "3.8.10"
  }
 },
 "nbformat": 4,
 "nbformat_minor": 4
}
