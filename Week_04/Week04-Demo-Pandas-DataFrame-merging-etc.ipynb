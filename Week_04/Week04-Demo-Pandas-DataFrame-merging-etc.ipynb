{
 "cells": [
  {
   "cell_type": "markdown",
   "metadata": {
    "id": "LBp5Embi2jta"
   },
   "source": [
    "# Load packages"
   ]
  },
  {
   "cell_type": "code",
   "execution_count": 3,
   "metadata": {
    "executionInfo": {
     "elapsed": 1084,
     "status": "ok",
     "timestamp": 1666598062169,
     "user": {
      "displayName": "Akitaka Matsuo",
      "userId": "13583983347915062182"
     },
     "user_tz": -60
    },
    "id": "w6WnLFMrvo1I"
   },
   "outputs": [],
   "source": [
    "import pandas as pd\n",
    "import numpy as np"
   ]
  },
  {
   "cell_type": "code",
   "execution_count": 1,
   "metadata": {
    "colab": {
     "base_uri": "https://localhost:8080/"
    },
    "executionInfo": {
     "elapsed": 2596,
     "status": "ok",
     "timestamp": 1666598066410,
     "user": {
      "displayName": "Akitaka Matsuo",
      "userId": "13583983347915062182"
     },
     "user_tz": -60
    },
    "id": "VPyuaghcgKI4",
    "outputId": "3ca89e49-41ee-4593-fc1c-ea97cbc63166"
   },
   "outputs": [
    {
     "name": "stdout",
     "output_type": "stream",
     "text": [
      "mkdir: UK-Politics-data: File exists\n",
      "zsh:1: no matches found: https://www.dropbox.com/sh/susyp0an187iinj/AAB_HDCcE3T8xCh4MqypigsPa?dl=1\n"
     ]
    }
   ],
   "source": [
    "!mkdir UK-Politics-data\n",
    "!wget https://www.dropbox.com/sh/susyp0an187iinj/AAB_HDCcE3T8xCh4MqypigsPa?dl=1 -O UK-Politics-data/UK-Politics.zip"
   ]
  },
  {
   "cell_type": "code",
   "execution_count": null,
   "metadata": {
    "colab": {
     "base_uri": "https://localhost:8080/"
    },
    "executionInfo": {
     "elapsed": 331,
     "status": "ok",
     "timestamp": 1666598068408,
     "user": {
      "displayName": "Akitaka Matsuo",
      "userId": "13583983347915062182"
     },
     "user_tz": -60
    },
    "id": "zrV5kwsgSuiv",
    "outputId": "3818537d-b5f4-45c4-90db-500daf687032"
   },
   "outputs": [],
   "source": [
    "!unzip UK-Politics-files/UK-Politics.zip -d UK-Politics-files/"
   ]
  },
  {
   "cell_type": "markdown",
   "metadata": {
    "id": "eL3N6wvZ2vcX"
   },
   "source": [
    "# Open two data sets, check the contents"
   ]
  },
  {
   "cell_type": "code",
   "execution_count": 4,
   "metadata": {
    "id": "Y87hLLHxwWtw"
   },
   "outputs": [],
   "source": [
    "df_brexit = pd.read_csv(\"UK-Politics-files/brexit-vote.csv\")"
   ]
  },
  {
   "cell_type": "code",
   "execution_count": 5,
   "metadata": {
    "id": "8nLs0P5hwaYz"
   },
   "outputs": [],
   "source": [
    "df_elec = pd.read_excel(\"UK-Politics-files/general-election-results-2019.xlsx\", sheet_name = \"voting-summary\")"
   ]
  },
  {
   "cell_type": "code",
   "execution_count": 6,
   "metadata": {
    "colab": {
     "base_uri": "https://localhost:8080/",
     "height": 334
    },
    "executionInfo": {
     "elapsed": 357,
     "status": "ok",
     "timestamp": 1659993146728,
     "user": {
      "displayName": "Akitaka Matsuo",
      "userId": "13583983347915062182"
     },
     "user_tz": -60
    },
    "id": "_71N2gs_wnCm",
    "outputId": "67425000-1fae-409f-c888-e3b4d2c02cbc"
   },
   "outputs": [
    {
     "data": {
      "text/html": [
       "<div>\n",
       "<style scoped>\n",
       "    .dataframe tbody tr th:only-of-type {\n",
       "        vertical-align: middle;\n",
       "    }\n",
       "\n",
       "    .dataframe tbody tr th {\n",
       "        vertical-align: top;\n",
       "    }\n",
       "\n",
       "    .dataframe thead th {\n",
       "        text-align: right;\n",
       "    }\n",
       "</style>\n",
       "<table border=\"1\" class=\"dataframe\">\n",
       "  <thead>\n",
       "    <tr style=\"text-align: right;\">\n",
       "      <th></th>\n",
       "      <th>ons_id</th>\n",
       "      <th>ons_region_id</th>\n",
       "      <th>constituency_name</th>\n",
       "      <th>county_name</th>\n",
       "      <th>region_name</th>\n",
       "      <th>country_name</th>\n",
       "      <th>constituency_type</th>\n",
       "      <th>declaration_time</th>\n",
       "      <th>mp_firstname</th>\n",
       "      <th>mp_surname</th>\n",
       "      <th>...</th>\n",
       "      <th>alliance</th>\n",
       "      <th>other</th>\n",
       "      <th>other_winner</th>\n",
       "      <th>mp_fullname</th>\n",
       "      <th>majority_percent</th>\n",
       "      <th>majority_rank</th>\n",
       "      <th>turnout_const</th>\n",
       "      <th>turnout_reg</th>\n",
       "      <th>turnout_uk</th>\n",
       "      <th>turnout_2017</th>\n",
       "    </tr>\n",
       "  </thead>\n",
       "  <tbody>\n",
       "    <tr>\n",
       "      <th>0</th>\n",
       "      <td>W07000049</td>\n",
       "      <td>W92000004</td>\n",
       "      <td>Aberavon</td>\n",
       "      <td>West Glamorgan</td>\n",
       "      <td>Wales</td>\n",
       "      <td>Wales</td>\n",
       "      <td>County</td>\n",
       "      <td>2019-12-13 02:30:00</td>\n",
       "      <td>Stephen</td>\n",
       "      <td>Kinnock</td>\n",
       "      <td>...</td>\n",
       "      <td>0</td>\n",
       "      <td>731</td>\n",
       "      <td>0</td>\n",
       "      <td>Stephen Kinnock</td>\n",
       "      <td>0.331983</td>\n",
       "      <td>209</td>\n",
       "      <td>0.622621</td>\n",
       "      <td>0.665721</td>\n",
       "      <td>0.673108</td>\n",
       "      <td>0.666800</td>\n",
       "    </tr>\n",
       "    <tr>\n",
       "      <th>1</th>\n",
       "      <td>W07000058</td>\n",
       "      <td>W92000004</td>\n",
       "      <td>Aberconwy</td>\n",
       "      <td>Clwyd</td>\n",
       "      <td>Wales</td>\n",
       "      <td>Wales</td>\n",
       "      <td>County</td>\n",
       "      <td>2019-12-13 03:09:00</td>\n",
       "      <td>Robin</td>\n",
       "      <td>Millar</td>\n",
       "      <td>...</td>\n",
       "      <td>0</td>\n",
       "      <td>0</td>\n",
       "      <td>0</td>\n",
       "      <td>Robin Millar</td>\n",
       "      <td>0.063832</td>\n",
       "      <td>569</td>\n",
       "      <td>0.712879</td>\n",
       "      <td>0.665721</td>\n",
       "      <td>0.673108</td>\n",
       "      <td>0.710482</td>\n",
       "    </tr>\n",
       "    <tr>\n",
       "      <th>2</th>\n",
       "      <td>S14000001</td>\n",
       "      <td>S92000003</td>\n",
       "      <td>Aberdeen North</td>\n",
       "      <td>Scotland</td>\n",
       "      <td>Scotland</td>\n",
       "      <td>Scotland</td>\n",
       "      <td>Borough</td>\n",
       "      <td>2019-12-13 03:13:00</td>\n",
       "      <td>Kirsty</td>\n",
       "      <td>Blackman</td>\n",
       "      <td>...</td>\n",
       "      <td>0</td>\n",
       "      <td>0</td>\n",
       "      <td>0</td>\n",
       "      <td>Kirsty Blackman</td>\n",
       "      <td>0.338652</td>\n",
       "      <td>202</td>\n",
       "      <td>0.598713</td>\n",
       "      <td>0.680736</td>\n",
       "      <td>0.673108</td>\n",
       "      <td>0.591614</td>\n",
       "    </tr>\n",
       "    <tr>\n",
       "      <th>3</th>\n",
       "      <td>S14000002</td>\n",
       "      <td>S92000003</td>\n",
       "      <td>Aberdeen South</td>\n",
       "      <td>Scotland</td>\n",
       "      <td>Scotland</td>\n",
       "      <td>Scotland</td>\n",
       "      <td>Borough</td>\n",
       "      <td>2019-12-13 03:34:00</td>\n",
       "      <td>Stephen</td>\n",
       "      <td>Flynn</td>\n",
       "      <td>...</td>\n",
       "      <td>0</td>\n",
       "      <td>0</td>\n",
       "      <td>0</td>\n",
       "      <td>Stephen Flynn</td>\n",
       "      <td>0.087427</td>\n",
       "      <td>533</td>\n",
       "      <td>0.694441</td>\n",
       "      <td>0.680736</td>\n",
       "      <td>0.673108</td>\n",
       "      <td>0.684887</td>\n",
       "    </tr>\n",
       "    <tr>\n",
       "      <th>4</th>\n",
       "      <td>S14000003</td>\n",
       "      <td>S92000003</td>\n",
       "      <td>Airdrie and Shotts</td>\n",
       "      <td>Scotland</td>\n",
       "      <td>Scotland</td>\n",
       "      <td>Scotland</td>\n",
       "      <td>County</td>\n",
       "      <td>2019-12-13 02:59:00</td>\n",
       "      <td>Neil</td>\n",
       "      <td>Gray</td>\n",
       "      <td>...</td>\n",
       "      <td>0</td>\n",
       "      <td>0</td>\n",
       "      <td>0</td>\n",
       "      <td>Neil Gray</td>\n",
       "      <td>0.130770</td>\n",
       "      <td>459</td>\n",
       "      <td>0.621331</td>\n",
       "      <td>0.680736</td>\n",
       "      <td>0.673108</td>\n",
       "      <td>0.592430</td>\n",
       "    </tr>\n",
       "  </tbody>\n",
       "</table>\n",
       "<p>5 rows × 39 columns</p>\n",
       "</div>"
      ],
      "text/plain": [
       "      ons_id ons_region_id   constituency_name     county_name region_name  \\\n",
       "0  W07000049     W92000004            Aberavon  West Glamorgan       Wales   \n",
       "1  W07000058     W92000004           Aberconwy           Clwyd       Wales   \n",
       "2  S14000001     S92000003      Aberdeen North        Scotland    Scotland   \n",
       "3  S14000002     S92000003      Aberdeen South        Scotland    Scotland   \n",
       "4  S14000003     S92000003  Airdrie and Shotts        Scotland    Scotland   \n",
       "\n",
       "  country_name constituency_type    declaration_time mp_firstname mp_surname  \\\n",
       "0        Wales            County 2019-12-13 02:30:00      Stephen    Kinnock   \n",
       "1        Wales            County 2019-12-13 03:09:00        Robin     Millar   \n",
       "2     Scotland           Borough 2019-12-13 03:13:00       Kirsty   Blackman   \n",
       "3     Scotland           Borough 2019-12-13 03:34:00      Stephen      Flynn   \n",
       "4     Scotland            County 2019-12-13 02:59:00         Neil       Gray   \n",
       "\n",
       "   ... alliance other other_winner      mp_fullname  majority_percent  \\\n",
       "0  ...        0   731            0  Stephen Kinnock          0.331983   \n",
       "1  ...        0     0            0     Robin Millar          0.063832   \n",
       "2  ...        0     0            0  Kirsty Blackman          0.338652   \n",
       "3  ...        0     0            0    Stephen Flynn          0.087427   \n",
       "4  ...        0     0            0        Neil Gray          0.130770   \n",
       "\n",
       "   majority_rank  turnout_const  turnout_reg  turnout_uk  turnout_2017  \n",
       "0            209       0.622621     0.665721    0.673108      0.666800  \n",
       "1            569       0.712879     0.665721    0.673108      0.710482  \n",
       "2            202       0.598713     0.680736    0.673108      0.591614  \n",
       "3            533       0.694441     0.680736    0.673108      0.684887  \n",
       "4            459       0.621331     0.680736    0.673108      0.592430  \n",
       "\n",
       "[5 rows x 39 columns]"
      ]
     },
     "execution_count": 6,
     "metadata": {},
     "output_type": "execute_result"
    }
   ],
   "source": [
    "df_elec.head()"
   ]
  },
  {
   "cell_type": "code",
   "execution_count": 7,
   "metadata": {
    "colab": {
     "base_uri": "https://localhost:8080/",
     "height": 728
    },
    "executionInfo": {
     "elapsed": 6920,
     "status": "ok",
     "timestamp": 1603463396977,
     "user": {
      "displayName": "Akitaka Matsuo",
      "photoUrl": "https://lh3.googleusercontent.com/a-/AOh14GjufrSJCzMPgfdmlZz3GFX5n09CyEWx1rg5lY90=s64",
      "userId": "13583983347915062182"
     },
     "user_tz": -60
    },
    "id": "P0Xcw9cMwufG",
    "outputId": "4faa9067-08bd-43cf-a252-69315cd7d34f"
   },
   "outputs": [
    {
     "data": {
      "text/html": [
       "<div>\n",
       "<style scoped>\n",
       "    .dataframe tbody tr th:only-of-type {\n",
       "        vertical-align: middle;\n",
       "    }\n",
       "\n",
       "    .dataframe tbody tr th {\n",
       "        vertical-align: top;\n",
       "    }\n",
       "\n",
       "    .dataframe thead th {\n",
       "        text-align: right;\n",
       "    }\n",
       "</style>\n",
       "<table border=\"1\" class=\"dataframe\">\n",
       "  <thead>\n",
       "    <tr style=\"text-align: right;\">\n",
       "      <th></th>\n",
       "      <th>PCON11CD</th>\n",
       "      <th>Constituency name</th>\n",
       "      <th>Estimated Leave vote share</th>\n",
       "      <th>Known Leave vote share</th>\n",
       "      <th>How do we know?</th>\n",
       "      <th>Figure to use</th>\n",
       "      <th>Unnamed: 6</th>\n",
       "      <th>Unnamed: 7</th>\n",
       "    </tr>\n",
       "  </thead>\n",
       "  <tbody>\n",
       "    <tr>\n",
       "      <th>0</th>\n",
       "      <td>E14000530</td>\n",
       "      <td>Aldershot</td>\n",
       "      <td>0.580974</td>\n",
       "      <td>0.578978</td>\n",
       "      <td>Rosenbaum / Greenwood data</td>\n",
       "      <td>0.578978</td>\n",
       "      <td>NaN</td>\n",
       "      <td>Sources:</td>\n",
       "    </tr>\n",
       "    <tr>\n",
       "      <th>1</th>\n",
       "      <td>E14000531</td>\n",
       "      <td>Aldridge-Brownhills</td>\n",
       "      <td>0.687228</td>\n",
       "      <td>0.677963</td>\n",
       "      <td>Rosenbaum / Greenwood data</td>\n",
       "      <td>0.677963</td>\n",
       "      <td>NaN</td>\n",
       "      <td>(1) “Areal interpolation and the UK’s referend...</td>\n",
       "    </tr>\n",
       "    <tr>\n",
       "      <th>2</th>\n",
       "      <td>E14000532</td>\n",
       "      <td>Altrincham and Sale West</td>\n",
       "      <td>0.385878</td>\n",
       "      <td>NaN</td>\n",
       "      <td>NaN</td>\n",
       "      <td>0.385878</td>\n",
       "      <td>NaN</td>\n",
       "      <td>(2) \"Local voting figures shed new light on EU...</td>\n",
       "    </tr>\n",
       "    <tr>\n",
       "      <th>3</th>\n",
       "      <td>E14000533</td>\n",
       "      <td>Amber Valley</td>\n",
       "      <td>0.652991</td>\n",
       "      <td>NaN</td>\n",
       "      <td>NaN</td>\n",
       "      <td>0.652991</td>\n",
       "      <td>NaN</td>\n",
       "      <td>NaN</td>\n",
       "    </tr>\n",
       "    <tr>\n",
       "      <th>4</th>\n",
       "      <td>E14000534</td>\n",
       "      <td>Arundel and South Downs</td>\n",
       "      <td>0.497011</td>\n",
       "      <td>NaN</td>\n",
       "      <td>NaN</td>\n",
       "      <td>0.497011</td>\n",
       "      <td>NaN</td>\n",
       "      <td>NaN</td>\n",
       "    </tr>\n",
       "    <tr>\n",
       "      <th>...</th>\n",
       "      <td>...</td>\n",
       "      <td>...</td>\n",
       "      <td>...</td>\n",
       "      <td>...</td>\n",
       "      <td>...</td>\n",
       "      <td>...</td>\n",
       "      <td>...</td>\n",
       "      <td>...</td>\n",
       "    </tr>\n",
       "    <tr>\n",
       "      <th>627</th>\n",
       "      <td>W07000076</td>\n",
       "      <td>Caerphilly</td>\n",
       "      <td>0.551360</td>\n",
       "      <td>NaN</td>\n",
       "      <td>NaN</td>\n",
       "      <td>0.551360</td>\n",
       "      <td>NaN</td>\n",
       "      <td>NaN</td>\n",
       "    </tr>\n",
       "    <tr>\n",
       "      <th>628</th>\n",
       "      <td>W07000077</td>\n",
       "      <td>Islwyn</td>\n",
       "      <td>0.589399</td>\n",
       "      <td>NaN</td>\n",
       "      <td>NaN</td>\n",
       "      <td>0.589399</td>\n",
       "      <td>NaN</td>\n",
       "      <td>NaN</td>\n",
       "    </tr>\n",
       "    <tr>\n",
       "      <th>629</th>\n",
       "      <td>W07000078</td>\n",
       "      <td>Vale of Glamorgan</td>\n",
       "      <td>0.525507</td>\n",
       "      <td>NaN</td>\n",
       "      <td>NaN</td>\n",
       "      <td>0.525507</td>\n",
       "      <td>NaN</td>\n",
       "      <td>NaN</td>\n",
       "    </tr>\n",
       "    <tr>\n",
       "      <th>630</th>\n",
       "      <td>W07000079</td>\n",
       "      <td>Cardiff West</td>\n",
       "      <td>0.438226</td>\n",
       "      <td>NaN</td>\n",
       "      <td>NaN</td>\n",
       "      <td>0.438226</td>\n",
       "      <td>NaN</td>\n",
       "      <td>NaN</td>\n",
       "    </tr>\n",
       "    <tr>\n",
       "      <th>631</th>\n",
       "      <td>W07000080</td>\n",
       "      <td>Cardiff South and Penarth</td>\n",
       "      <td>0.428172</td>\n",
       "      <td>NaN</td>\n",
       "      <td>NaN</td>\n",
       "      <td>0.428172</td>\n",
       "      <td>NaN</td>\n",
       "      <td>NaN</td>\n",
       "    </tr>\n",
       "  </tbody>\n",
       "</table>\n",
       "<p>632 rows × 8 columns</p>\n",
       "</div>"
      ],
      "text/plain": [
       "      PCON11CD          Constituency name  Estimated Leave vote share  \\\n",
       "0    E14000530                  Aldershot                    0.580974   \n",
       "1    E14000531        Aldridge-Brownhills                    0.687228   \n",
       "2    E14000532   Altrincham and Sale West                    0.385878   \n",
       "3    E14000533               Amber Valley                    0.652991   \n",
       "4    E14000534    Arundel and South Downs                    0.497011   \n",
       "..         ...                        ...                         ...   \n",
       "627  W07000076                 Caerphilly                    0.551360   \n",
       "628  W07000077                     Islwyn                    0.589399   \n",
       "629  W07000078          Vale of Glamorgan                    0.525507   \n",
       "630  W07000079               Cardiff West                    0.438226   \n",
       "631  W07000080  Cardiff South and Penarth                    0.428172   \n",
       "\n",
       "     Known Leave vote share             How do we know?  Figure to use  \\\n",
       "0                  0.578978  Rosenbaum / Greenwood data       0.578978   \n",
       "1                  0.677963  Rosenbaum / Greenwood data       0.677963   \n",
       "2                       NaN                         NaN       0.385878   \n",
       "3                       NaN                         NaN       0.652991   \n",
       "4                       NaN                         NaN       0.497011   \n",
       "..                      ...                         ...            ...   \n",
       "627                     NaN                         NaN       0.551360   \n",
       "628                     NaN                         NaN       0.589399   \n",
       "629                     NaN                         NaN       0.525507   \n",
       "630                     NaN                         NaN       0.438226   \n",
       "631                     NaN                         NaN       0.428172   \n",
       "\n",
       "     Unnamed: 6                                         Unnamed: 7  \n",
       "0           NaN                                           Sources:  \n",
       "1           NaN  (1) “Areal interpolation and the UK’s referend...  \n",
       "2           NaN  (2) \"Local voting figures shed new light on EU...  \n",
       "3           NaN                                                NaN  \n",
       "4           NaN                                                NaN  \n",
       "..          ...                                                ...  \n",
       "627         NaN                                                NaN  \n",
       "628         NaN                                                NaN  \n",
       "629         NaN                                                NaN  \n",
       "630         NaN                                                NaN  \n",
       "631         NaN                                                NaN  \n",
       "\n",
       "[632 rows x 8 columns]"
      ]
     },
     "execution_count": 7,
     "metadata": {},
     "output_type": "execute_result"
    }
   ],
   "source": [
    "df_brexit"
   ]
  },
  {
   "cell_type": "markdown",
   "metadata": {
    "id": "pbmJ4tNR2ywt"
   },
   "source": [
    "# Data wrangling\n"
   ]
  },
  {
   "cell_type": "markdown",
   "metadata": {
    "id": "FZjqlPrX27ho"
   },
   "source": [
    "\n",
    "##  Rename the variables to merge"
   ]
  },
  {
   "cell_type": "code",
   "execution_count": 8,
   "metadata": {
    "id": "Ey92xXHM2yVd"
   },
   "outputs": [],
   "source": [
    "df_brexit.rename({'PCON11CD': 'ons_id'}, axis = 1, inplace=True)"
   ]
  },
  {
   "cell_type": "markdown",
   "metadata": {
    "id": "8biqXo4g3Is5"
   },
   "source": [
    "## Merge"
   ]
  },
  {
   "cell_type": "code",
   "execution_count": 9,
   "metadata": {
    "id": "QaRwyrcoxfIg"
   },
   "outputs": [],
   "source": [
    "df_merged = df_elec.merge(df_brexit, on = 'ons_id')"
   ]
  },
  {
   "cell_type": "code",
   "execution_count": 10,
   "metadata": {},
   "outputs": [
    {
     "data": {
      "text/html": [
       "<div>\n",
       "<style scoped>\n",
       "    .dataframe tbody tr th:only-of-type {\n",
       "        vertical-align: middle;\n",
       "    }\n",
       "\n",
       "    .dataframe tbody tr th {\n",
       "        vertical-align: top;\n",
       "    }\n",
       "\n",
       "    .dataframe thead th {\n",
       "        text-align: right;\n",
       "    }\n",
       "</style>\n",
       "<table border=\"1\" class=\"dataframe\">\n",
       "  <thead>\n",
       "    <tr style=\"text-align: right;\">\n",
       "      <th></th>\n",
       "      <th>ons_id</th>\n",
       "      <th>ons_region_id</th>\n",
       "      <th>constituency_name</th>\n",
       "      <th>county_name</th>\n",
       "      <th>region_name</th>\n",
       "      <th>country_name</th>\n",
       "      <th>constituency_type</th>\n",
       "      <th>declaration_time</th>\n",
       "      <th>mp_firstname</th>\n",
       "      <th>mp_surname</th>\n",
       "      <th>...</th>\n",
       "      <th>turnout_reg</th>\n",
       "      <th>turnout_uk</th>\n",
       "      <th>turnout_2017</th>\n",
       "      <th>Constituency name</th>\n",
       "      <th>Estimated Leave vote share</th>\n",
       "      <th>Known Leave vote share</th>\n",
       "      <th>How do we know?</th>\n",
       "      <th>Figure to use</th>\n",
       "      <th>Unnamed: 6</th>\n",
       "      <th>Unnamed: 7</th>\n",
       "    </tr>\n",
       "  </thead>\n",
       "  <tbody>\n",
       "    <tr>\n",
       "      <th>0</th>\n",
       "      <td>W07000049</td>\n",
       "      <td>W92000004</td>\n",
       "      <td>Aberavon</td>\n",
       "      <td>West Glamorgan</td>\n",
       "      <td>Wales</td>\n",
       "      <td>Wales</td>\n",
       "      <td>County</td>\n",
       "      <td>2019-12-13 02:30:00</td>\n",
       "      <td>Stephen</td>\n",
       "      <td>Kinnock</td>\n",
       "      <td>...</td>\n",
       "      <td>0.665721</td>\n",
       "      <td>0.673108</td>\n",
       "      <td>0.666800</td>\n",
       "      <td>Aberavon</td>\n",
       "      <td>0.601245</td>\n",
       "      <td>NaN</td>\n",
       "      <td>NaN</td>\n",
       "      <td>0.601245</td>\n",
       "      <td>NaN</td>\n",
       "      <td>NaN</td>\n",
       "    </tr>\n",
       "    <tr>\n",
       "      <th>1</th>\n",
       "      <td>W07000058</td>\n",
       "      <td>W92000004</td>\n",
       "      <td>Aberconwy</td>\n",
       "      <td>Clwyd</td>\n",
       "      <td>Wales</td>\n",
       "      <td>Wales</td>\n",
       "      <td>County</td>\n",
       "      <td>2019-12-13 03:09:00</td>\n",
       "      <td>Robin</td>\n",
       "      <td>Millar</td>\n",
       "      <td>...</td>\n",
       "      <td>0.665721</td>\n",
       "      <td>0.673108</td>\n",
       "      <td>0.710482</td>\n",
       "      <td>Aberconwy</td>\n",
       "      <td>0.521971</td>\n",
       "      <td>NaN</td>\n",
       "      <td>NaN</td>\n",
       "      <td>0.521971</td>\n",
       "      <td>NaN</td>\n",
       "      <td>NaN</td>\n",
       "    </tr>\n",
       "    <tr>\n",
       "      <th>2</th>\n",
       "      <td>S14000001</td>\n",
       "      <td>S92000003</td>\n",
       "      <td>Aberdeen North</td>\n",
       "      <td>Scotland</td>\n",
       "      <td>Scotland</td>\n",
       "      <td>Scotland</td>\n",
       "      <td>Borough</td>\n",
       "      <td>2019-12-13 03:13:00</td>\n",
       "      <td>Kirsty</td>\n",
       "      <td>Blackman</td>\n",
       "      <td>...</td>\n",
       "      <td>0.680736</td>\n",
       "      <td>0.673108</td>\n",
       "      <td>0.591614</td>\n",
       "      <td>Aberdeen North</td>\n",
       "      <td>0.430922</td>\n",
       "      <td>NaN</td>\n",
       "      <td>NaN</td>\n",
       "      <td>0.430922</td>\n",
       "      <td>NaN</td>\n",
       "      <td>NaN</td>\n",
       "    </tr>\n",
       "    <tr>\n",
       "      <th>3</th>\n",
       "      <td>S14000002</td>\n",
       "      <td>S92000003</td>\n",
       "      <td>Aberdeen South</td>\n",
       "      <td>Scotland</td>\n",
       "      <td>Scotland</td>\n",
       "      <td>Scotland</td>\n",
       "      <td>Borough</td>\n",
       "      <td>2019-12-13 03:34:00</td>\n",
       "      <td>Stephen</td>\n",
       "      <td>Flynn</td>\n",
       "      <td>...</td>\n",
       "      <td>0.680736</td>\n",
       "      <td>0.673108</td>\n",
       "      <td>0.684887</td>\n",
       "      <td>Aberdeen South</td>\n",
       "      <td>0.321431</td>\n",
       "      <td>NaN</td>\n",
       "      <td>NaN</td>\n",
       "      <td>0.321431</td>\n",
       "      <td>NaN</td>\n",
       "      <td>NaN</td>\n",
       "    </tr>\n",
       "    <tr>\n",
       "      <th>4</th>\n",
       "      <td>S14000003</td>\n",
       "      <td>S92000003</td>\n",
       "      <td>Airdrie and Shotts</td>\n",
       "      <td>Scotland</td>\n",
       "      <td>Scotland</td>\n",
       "      <td>Scotland</td>\n",
       "      <td>County</td>\n",
       "      <td>2019-12-13 02:59:00</td>\n",
       "      <td>Neil</td>\n",
       "      <td>Gray</td>\n",
       "      <td>...</td>\n",
       "      <td>0.680736</td>\n",
       "      <td>0.673108</td>\n",
       "      <td>0.592430</td>\n",
       "      <td>Airdrie and Shotts</td>\n",
       "      <td>0.398381</td>\n",
       "      <td>NaN</td>\n",
       "      <td>NaN</td>\n",
       "      <td>0.398381</td>\n",
       "      <td>NaN</td>\n",
       "      <td>NaN</td>\n",
       "    </tr>\n",
       "    <tr>\n",
       "      <th>...</th>\n",
       "      <td>...</td>\n",
       "      <td>...</td>\n",
       "      <td>...</td>\n",
       "      <td>...</td>\n",
       "      <td>...</td>\n",
       "      <td>...</td>\n",
       "      <td>...</td>\n",
       "      <td>...</td>\n",
       "      <td>...</td>\n",
       "      <td>...</td>\n",
       "      <td>...</td>\n",
       "      <td>...</td>\n",
       "      <td>...</td>\n",
       "      <td>...</td>\n",
       "      <td>...</td>\n",
       "      <td>...</td>\n",
       "      <td>...</td>\n",
       "      <td>...</td>\n",
       "      <td>...</td>\n",
       "      <td>...</td>\n",
       "      <td>...</td>\n",
       "    </tr>\n",
       "    <tr>\n",
       "      <th>627</th>\n",
       "      <td>E14001059</td>\n",
       "      <td>E12000002</td>\n",
       "      <td>Wythenshawe and Sale East</td>\n",
       "      <td>Greater Manchester</td>\n",
       "      <td>North West</td>\n",
       "      <td>England</td>\n",
       "      <td>Borough</td>\n",
       "      <td>2019-12-13 05:04:00</td>\n",
       "      <td>Michael</td>\n",
       "      <td>Kane</td>\n",
       "      <td>...</td>\n",
       "      <td>0.656236</td>\n",
       "      <td>0.673108</td>\n",
       "      <td>0.600385</td>\n",
       "      <td>Wythenshawe and Sale East</td>\n",
       "      <td>0.496481</td>\n",
       "      <td>NaN</td>\n",
       "      <td>NaN</td>\n",
       "      <td>0.496481</td>\n",
       "      <td>NaN</td>\n",
       "      <td>NaN</td>\n",
       "    </tr>\n",
       "    <tr>\n",
       "      <th>628</th>\n",
       "      <td>E14001060</td>\n",
       "      <td>E12000009</td>\n",
       "      <td>Yeovil</td>\n",
       "      <td>Somerset</td>\n",
       "      <td>South West</td>\n",
       "      <td>England</td>\n",
       "      <td>County</td>\n",
       "      <td>2019-12-13 05:28:00</td>\n",
       "      <td>Marcus</td>\n",
       "      <td>Fysh</td>\n",
       "      <td>...</td>\n",
       "      <td>0.720191</td>\n",
       "      <td>0.673108</td>\n",
       "      <td>0.716436</td>\n",
       "      <td>Yeovil</td>\n",
       "      <td>0.598655</td>\n",
       "      <td>NaN</td>\n",
       "      <td>NaN</td>\n",
       "      <td>0.598655</td>\n",
       "      <td>NaN</td>\n",
       "      <td>NaN</td>\n",
       "    </tr>\n",
       "    <tr>\n",
       "      <th>629</th>\n",
       "      <td>W07000041</td>\n",
       "      <td>W92000004</td>\n",
       "      <td>Ynys Mon</td>\n",
       "      <td>Gwynedd</td>\n",
       "      <td>Wales</td>\n",
       "      <td>Wales</td>\n",
       "      <td>County</td>\n",
       "      <td>2019-12-13 02:45:00</td>\n",
       "      <td>Virginia</td>\n",
       "      <td>Crosbie</td>\n",
       "      <td>...</td>\n",
       "      <td>0.665721</td>\n",
       "      <td>0.673108</td>\n",
       "      <td>0.706090</td>\n",
       "      <td>Ynys Môn</td>\n",
       "      <td>0.509420</td>\n",
       "      <td>NaN</td>\n",
       "      <td>NaN</td>\n",
       "      <td>0.509420</td>\n",
       "      <td>NaN</td>\n",
       "      <td>NaN</td>\n",
       "    </tr>\n",
       "    <tr>\n",
       "      <th>630</th>\n",
       "      <td>E14001061</td>\n",
       "      <td>E12000003</td>\n",
       "      <td>York Central</td>\n",
       "      <td>North Yorkshire</td>\n",
       "      <td>Yorkshire and The Humber</td>\n",
       "      <td>England</td>\n",
       "      <td>Borough</td>\n",
       "      <td>2019-12-13 04:18:00</td>\n",
       "      <td>Rachael</td>\n",
       "      <td>Maskell</td>\n",
       "      <td>...</td>\n",
       "      <td>0.643472</td>\n",
       "      <td>0.673108</td>\n",
       "      <td>0.686646</td>\n",
       "      <td>York Central</td>\n",
       "      <td>0.388207</td>\n",
       "      <td>NaN</td>\n",
       "      <td>NaN</td>\n",
       "      <td>0.388207</td>\n",
       "      <td>NaN</td>\n",
       "      <td>NaN</td>\n",
       "    </tr>\n",
       "    <tr>\n",
       "      <th>631</th>\n",
       "      <td>E14001062</td>\n",
       "      <td>E12000003</td>\n",
       "      <td>York Outer</td>\n",
       "      <td>North Yorkshire</td>\n",
       "      <td>Yorkshire and The Humber</td>\n",
       "      <td>England</td>\n",
       "      <td>County</td>\n",
       "      <td>2019-12-13 04:35:00</td>\n",
       "      <td>Julian</td>\n",
       "      <td>Sturdy</td>\n",
       "      <td>...</td>\n",
       "      <td>0.643472</td>\n",
       "      <td>0.673108</td>\n",
       "      <td>0.757262</td>\n",
       "      <td>York Outer</td>\n",
       "      <td>0.446677</td>\n",
       "      <td>NaN</td>\n",
       "      <td>NaN</td>\n",
       "      <td>0.446677</td>\n",
       "      <td>NaN</td>\n",
       "      <td>NaN</td>\n",
       "    </tr>\n",
       "  </tbody>\n",
       "</table>\n",
       "<p>632 rows × 46 columns</p>\n",
       "</div>"
      ],
      "text/plain": [
       "        ons_id ons_region_id          constituency_name         county_name  \\\n",
       "0    W07000049     W92000004                   Aberavon      West Glamorgan   \n",
       "1    W07000058     W92000004                  Aberconwy               Clwyd   \n",
       "2    S14000001     S92000003             Aberdeen North            Scotland   \n",
       "3    S14000002     S92000003             Aberdeen South            Scotland   \n",
       "4    S14000003     S92000003         Airdrie and Shotts            Scotland   \n",
       "..         ...           ...                        ...                 ...   \n",
       "627  E14001059     E12000002  Wythenshawe and Sale East  Greater Manchester   \n",
       "628  E14001060     E12000009                     Yeovil            Somerset   \n",
       "629  W07000041     W92000004                   Ynys Mon             Gwynedd   \n",
       "630  E14001061     E12000003               York Central     North Yorkshire   \n",
       "631  E14001062     E12000003                 York Outer     North Yorkshire   \n",
       "\n",
       "                  region_name country_name constituency_type  \\\n",
       "0                       Wales        Wales            County   \n",
       "1                       Wales        Wales            County   \n",
       "2                    Scotland     Scotland           Borough   \n",
       "3                    Scotland     Scotland           Borough   \n",
       "4                    Scotland     Scotland            County   \n",
       "..                        ...          ...               ...   \n",
       "627                North West      England           Borough   \n",
       "628                South West      England            County   \n",
       "629                     Wales        Wales            County   \n",
       "630  Yorkshire and The Humber      England           Borough   \n",
       "631  Yorkshire and The Humber      England            County   \n",
       "\n",
       "       declaration_time mp_firstname mp_surname  ... turnout_reg turnout_uk  \\\n",
       "0   2019-12-13 02:30:00      Stephen    Kinnock  ...    0.665721   0.673108   \n",
       "1   2019-12-13 03:09:00        Robin     Millar  ...    0.665721   0.673108   \n",
       "2   2019-12-13 03:13:00       Kirsty   Blackman  ...    0.680736   0.673108   \n",
       "3   2019-12-13 03:34:00      Stephen      Flynn  ...    0.680736   0.673108   \n",
       "4   2019-12-13 02:59:00         Neil       Gray  ...    0.680736   0.673108   \n",
       "..                  ...          ...        ...  ...         ...        ...   \n",
       "627 2019-12-13 05:04:00      Michael       Kane  ...    0.656236   0.673108   \n",
       "628 2019-12-13 05:28:00       Marcus       Fysh  ...    0.720191   0.673108   \n",
       "629 2019-12-13 02:45:00     Virginia    Crosbie  ...    0.665721   0.673108   \n",
       "630 2019-12-13 04:18:00      Rachael    Maskell  ...    0.643472   0.673108   \n",
       "631 2019-12-13 04:35:00       Julian     Sturdy  ...    0.643472   0.673108   \n",
       "\n",
       "    turnout_2017          Constituency name  Estimated Leave vote share  \\\n",
       "0       0.666800                   Aberavon                    0.601245   \n",
       "1       0.710482                  Aberconwy                    0.521971   \n",
       "2       0.591614             Aberdeen North                    0.430922   \n",
       "3       0.684887             Aberdeen South                    0.321431   \n",
       "4       0.592430         Airdrie and Shotts                    0.398381   \n",
       "..           ...                        ...                         ...   \n",
       "627     0.600385  Wythenshawe and Sale East                    0.496481   \n",
       "628     0.716436                     Yeovil                    0.598655   \n",
       "629     0.706090                   Ynys Môn                    0.509420   \n",
       "630     0.686646               York Central                    0.388207   \n",
       "631     0.757262                 York Outer                    0.446677   \n",
       "\n",
       "     Known Leave vote share  How do we know?  Figure to use  Unnamed: 6  \\\n",
       "0                       NaN              NaN       0.601245         NaN   \n",
       "1                       NaN              NaN       0.521971         NaN   \n",
       "2                       NaN              NaN       0.430922         NaN   \n",
       "3                       NaN              NaN       0.321431         NaN   \n",
       "4                       NaN              NaN       0.398381         NaN   \n",
       "..                      ...              ...            ...         ...   \n",
       "627                     NaN              NaN       0.496481         NaN   \n",
       "628                     NaN              NaN       0.598655         NaN   \n",
       "629                     NaN              NaN       0.509420         NaN   \n",
       "630                     NaN              NaN       0.388207         NaN   \n",
       "631                     NaN              NaN       0.446677         NaN   \n",
       "\n",
       "     Unnamed: 7  \n",
       "0           NaN  \n",
       "1           NaN  \n",
       "2           NaN  \n",
       "3           NaN  \n",
       "4           NaN  \n",
       "..          ...  \n",
       "627         NaN  \n",
       "628         NaN  \n",
       "629         NaN  \n",
       "630         NaN  \n",
       "631         NaN  \n",
       "\n",
       "[632 rows x 46 columns]"
      ]
     },
     "execution_count": 10,
     "metadata": {},
     "output_type": "execute_result"
    }
   ],
   "source": [
    "df_merge"
   ]
  },
  {
   "cell_type": "markdown",
   "metadata": {
    "id": "ApJDwYza3Qad"
   },
   "source": [
    "## Join\n",
    "\n",
    "You can use `join` instead, but for joining you need to set index."
   ]
  },
  {
   "cell_type": "code",
   "execution_count": null,
   "metadata": {
    "colab": {
     "base_uri": "https://localhost:8080/",
     "height": 675
    },
    "executionInfo": {
     "elapsed": 222,
     "status": "ok",
     "timestamp": 1659993226257,
     "user": {
      "displayName": "Akitaka Matsuo",
      "userId": "13583983347915062182"
     },
     "user_tz": -60
    },
    "id": "9LqIkcA33SLS",
    "outputId": "627bd207-99e6-4fb7-f075-187367aba916"
   },
   "outputs": [],
   "source": [
    "df_elec.set_index('ons_id').join(df_brexit.set_index('ons_id'), on = 'ons_id')"
   ]
  },
  {
   "cell_type": "markdown",
   "metadata": {
    "id": "o6GpfJiw4C8a"
   },
   "source": [
    "# Descriptive Statistics"
   ]
  },
  {
   "cell_type": "code",
   "execution_count": null,
   "metadata": {
    "colab": {
     "base_uri": "https://localhost:8080/"
    },
    "executionInfo": {
     "elapsed": 272,
     "status": "ok",
     "timestamp": 1659993233636,
     "user": {
      "displayName": "Akitaka Matsuo",
      "userId": "13583983347915062182"
     },
     "user_tz": -60
    },
    "id": "3jBmHEP94Cj-",
    "outputId": "5ffbede8-9dab-4cbc-9dec-6fe0eac0d5f0"
   },
   "outputs": [],
   "source": [
    "df_merged.mean()"
   ]
  },
  {
   "cell_type": "markdown",
   "metadata": {
    "id": "VQ_Yd-KV_9JN"
   },
   "source": [
    "Calculate the percentage of vote the Conservatives got"
   ]
  },
  {
   "cell_type": "code",
   "execution_count": null,
   "metadata": {
    "id": "IDrEKWuJx4xM"
   },
   "outputs": [],
   "source": [
    "df_merged[\"con_pct\"] = df_merged['con'] / df_merged['valid_votes']"
   ]
  },
  {
   "cell_type": "markdown",
   "metadata": {
    "id": "r5l1v3rCAC_K"
   },
   "source": []
  },
  {
   "cell_type": "markdown",
   "metadata": {
    "id": "TUJs6SLSAEMW"
   },
   "source": [
    "Count the number of observations in each county"
   ]
  },
  {
   "cell_type": "markdown",
   "metadata": {
    "id": "1pFS-KEFAEKY"
   },
   "source": []
  },
  {
   "cell_type": "code",
   "execution_count": null,
   "metadata": {
    "colab": {
     "base_uri": "https://localhost:8080/"
    },
    "executionInfo": {
     "elapsed": 326,
     "status": "ok",
     "timestamp": 1659993244337,
     "user": {
      "displayName": "Akitaka Matsuo",
      "userId": "13583983347915062182"
     },
     "user_tz": -60
    },
    "id": "W1W7yZ9gAaop",
    "outputId": "e4f663dd-7952-4342-a32e-cbae31d35124"
   },
   "outputs": [],
   "source": [
    "df_merged.value_counts(['county_name', 'region_name']).sort_index(level = 1)"
   ]
  },
  {
   "cell_type": "markdown",
   "metadata": {
    "id": "0hFEK5384T2-"
   },
   "source": [
    "## Correlations"
   ]
  },
  {
   "cell_type": "code",
   "execution_count": null,
   "metadata": {
    "colab": {
     "base_uri": "https://localhost:8080/",
     "height": 112
    },
    "executionInfo": {
     "elapsed": 236,
     "status": "ok",
     "timestamp": 1659993251698,
     "user": {
      "displayName": "Akitaka Matsuo",
      "userId": "13583983347915062182"
     },
     "user_tz": -60
    },
    "id": "PRgNzQ9HyVTy",
    "outputId": "190e4a6d-fb9b-415c-be4c-07048c0a8bae"
   },
   "outputs": [],
   "source": [
    "df_merged[['con_pct', 'Figure to use']].corr()"
   ]
  },
  {
   "cell_type": "markdown",
   "metadata": {
    "id": "dKvOcgX54XUf"
   },
   "source": [
    "## Groupby"
   ]
  },
  {
   "cell_type": "code",
   "execution_count": null,
   "metadata": {
    "colab": {
     "base_uri": "https://localhost:8080/",
     "height": 557
    },
    "executionInfo": {
     "elapsed": 498,
     "status": "ok",
     "timestamp": 1659993280308,
     "user": {
      "displayName": "Akitaka Matsuo",
      "userId": "13583983347915062182"
     },
     "user_tz": -60
    },
    "id": "gOKbNYERydHA",
    "outputId": "cc7a898a-1cdf-493c-e356-09c60b621cbc"
   },
   "outputs": [],
   "source": [
    "df_merged.groupby('region_name').sum().reset_index()"
   ]
  },
  {
   "cell_type": "markdown",
   "metadata": {
    "id": "pghqxD5tzVuK"
   },
   "source": [
    "# Pivoting "
   ]
  },
  {
   "cell_type": "code",
   "execution_count": null,
   "metadata": {
    "id": "ziiY--LKy7l0"
   },
   "outputs": [],
   "source": [
    "df_elec_sub = df_elec[:5]"
   ]
  },
  {
   "cell_type": "code",
   "execution_count": null,
   "metadata": {
    "colab": {
     "base_uri": "https://localhost:8080/",
     "height": 334
    },
    "executionInfo": {
     "elapsed": 4,
     "status": "ok",
     "timestamp": 1659993288655,
     "user": {
      "displayName": "Akitaka Matsuo",
      "userId": "13583983347915062182"
     },
     "user_tz": -60
    },
    "id": "quf4p_azI-Oo",
    "outputId": "b7c6b756-2abf-4e26-8eda-6bda6ae747eb"
   },
   "outputs": [],
   "source": [
    "df_elec_sub"
   ]
  },
  {
   "cell_type": "code",
   "execution_count": null,
   "metadata": {
    "id": "ZkGh3cTnJEK7"
   },
   "outputs": [],
   "source": [
    "df_elec_sub = df_elec[['ons_id', 'constituency_name', 'con', 'lab', 'ld']]"
   ]
  },
  {
   "cell_type": "code",
   "execution_count": null,
   "metadata": {
    "colab": {
     "base_uri": "https://localhost:8080/",
     "height": 206
    },
    "executionInfo": {
     "elapsed": 231,
     "status": "ok",
     "timestamp": 1659993295163,
     "user": {
      "displayName": "Akitaka Matsuo",
      "userId": "13583983347915062182"
     },
     "user_tz": -60
    },
    "id": "AYoG8zlvX5ce",
    "outputId": "e59ead6d-e925-4ead-e525-e639bd3d17f4"
   },
   "outputs": [],
   "source": [
    "df_elec_sub"
   ]
  },
  {
   "cell_type": "code",
   "execution_count": null,
   "metadata": {
    "colab": {
     "base_uri": "https://localhost:8080/",
     "height": 520
    },
    "executionInfo": {
     "elapsed": 329,
     "status": "ok",
     "timestamp": 1659993299830,
     "user": {
      "displayName": "Akitaka Matsuo",
      "userId": "13583983347915062182"
     },
     "user_tz": -60
    },
    "id": "QDdrOAqyJTTo",
    "outputId": "817433a4-5cc2-4594-bec0-28da6d05a80c"
   },
   "outputs": [],
   "source": [
    "melted = df_elec_sub.melt(['ons_id', \"constituency_name\"],  var_name = \"party\", \n",
    "                          value_name = 'vote').sort_values('constituency_name')\n",
    "melted"
   ]
  },
  {
   "cell_type": "code",
   "execution_count": null,
   "metadata": {
    "colab": {
     "base_uri": "https://localhost:8080/",
     "height": 238
    },
    "executionInfo": {
     "elapsed": 235,
     "status": "ok",
     "timestamp": 1659993371512,
     "user": {
      "displayName": "Akitaka Matsuo",
      "userId": "13583983347915062182"
     },
     "user_tz": -60
    },
    "id": "UkC8x673JUyj",
    "outputId": "1298f067-5d4d-45b4-f8d1-cb784cbfaba7"
   },
   "outputs": [],
   "source": [
    "unmelted = melted.pivot(['ons_id', 'constituency_name'], 'party').reset_index()\n",
    "unmelted"
   ]
  },
  {
   "cell_type": "code",
   "execution_count": null,
   "metadata": {
    "id": "9FavnS3WKIdi"
   },
   "outputs": [],
   "source": [
    "unmelted.columns = ['ons_id', 'constituency_name', 'con', 'lab', 'ld']"
   ]
  },
  {
   "cell_type": "code",
   "execution_count": null,
   "metadata": {
    "colab": {
     "base_uri": "https://localhost:8080/",
     "height": 206
    },
    "executionInfo": {
     "elapsed": 392,
     "status": "ok",
     "timestamp": 1659993398462,
     "user": {
      "displayName": "Akitaka Matsuo",
      "userId": "13583983347915062182"
     },
     "user_tz": -60
    },
    "id": "PxAtP4BjKYqd",
    "outputId": "1985d2c8-b282-4159-f270-319faca2cbb6"
   },
   "outputs": [],
   "source": [
    "unmelted"
   ]
  },
  {
   "cell_type": "code",
   "execution_count": null,
   "metadata": {
    "colab": {
     "base_uri": "https://localhost:8080/",
     "height": 143
    },
    "executionInfo": {
     "elapsed": 233,
     "status": "ok",
     "timestamp": 1659993407356,
     "user": {
      "displayName": "Akitaka Matsuo",
      "userId": "13583983347915062182"
     },
     "user_tz": -60
    },
    "id": "K7Eehu4dLruJ",
    "outputId": "ec7d70f0-2a38-40b2-c458-576acafe38e2"
   },
   "outputs": [],
   "source": [
    "unmelted.iloc[:, 2:].corr()"
   ]
  },
  {
   "cell_type": "code",
   "execution_count": null,
   "metadata": {
    "id": "RunSHQGncR6h"
   },
   "outputs": [],
   "source": []
  }
 ],
 "metadata": {
  "colab": {
   "authorship_tag": "ABX9TyOXrljBY9eQunr7MWxYryCF",
   "collapsed_sections": [],
   "mount_file_id": "1HQxkGOI4UbIlBMiST9ruOK8cW4RzoiqF",
   "provenance": []
  },
  "kernelspec": {
   "display_name": "Python 3 (ipykernel)",
   "language": "python",
   "name": "python3"
  },
  "language_info": {
   "codemirror_mode": {
    "name": "ipython",
    "version": 3
   },
   "file_extension": ".py",
   "mimetype": "text/x-python",
   "name": "python",
   "nbconvert_exporter": "python",
   "pygments_lexer": "ipython3",
   "version": "3.11.6"
  }
 },
 "nbformat": 4,
 "nbformat_minor": 4
}
