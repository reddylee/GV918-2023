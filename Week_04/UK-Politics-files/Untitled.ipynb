{
 "cells": [
  {
   "cell_type": "code",
   "execution_count": null,
   "id": "b2cb78ed-84ae-4a3d-930f-5a4482871c14",
   "metadata": {},
   "outputs": [],
   "source": [
    "%env PYDEVD_USE_CYTHON=NO"
   ]
  }
 ],
 "metadata": {
  "kernelspec": {
   "display_name": "",
   "name": ""
  },
  "language_info": {
   "name": ""
  }
 },
 "nbformat": 4,
 "nbformat_minor": 5
}
