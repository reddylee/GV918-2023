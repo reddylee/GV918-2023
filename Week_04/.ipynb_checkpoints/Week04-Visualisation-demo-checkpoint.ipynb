{
 "cells": [
  {
   "cell_type": "code",
   "execution_count": null,
   "metadata": {
    "executionInfo": {
     "elapsed": 1011,
     "status": "ok",
     "timestamp": 1604159801682,
     "user": {
      "displayName": "Akitaka Matsuo",
      "photoUrl": "https://lh3.googleusercontent.com/a-/AOh14GjufrSJCzMPgfdmlZz3GFX5n09CyEWx1rg5lY90=s64",
      "userId": "13583983347915062182"
     },
     "user_tz": 0
    },
    "id": "m2RTeZhTRPdz"
   },
   "outputs": [],
   "source": [
    "import pandas as pd\n",
    "import numpy as np\n",
    "import matplotlib.pyplot as plt\n",
    "import seaborn as sns"
   ]
  },
  {
   "cell_type": "code",
   "execution_count": null,
   "metadata": {
    "executionInfo": {
     "elapsed": 1394,
     "status": "ok",
     "timestamp": 1604159802077,
     "user": {
      "displayName": "Akitaka Matsuo",
      "photoUrl": "https://lh3.googleusercontent.com/a-/AOh14GjufrSJCzMPgfdmlZz3GFX5n09CyEWx1rg5lY90=s64",
      "userId": "13583983347915062182"
     },
     "user_tz": 0
    },
    "id": "EJ4RoO_9RQiT"
   },
   "outputs": [],
   "source": [
    "sns.set_style(style = 'whitegrid')"
   ]
  },
  {
   "cell_type": "markdown",
   "metadata": {
    "id": "kRjCUTggRT8r"
   },
   "source": [
    "# Read Data\n",
    "\n",
    "Today, we will use CPS1985 data on the determinant of hourly wages\n",
    "\n",
    "https://vincentarelbundock.github.io/Rdatasets/csv/AER/CPS1985.csv\n",
    "\n",
    "The data description is available here:\n",
    "https://rdrr.io/cran/AER/man/CPS1985.html"
   ]
  },
  {
   "cell_type": "code",
   "execution_count": null,
   "metadata": {
    "executionInfo": {
     "elapsed": 1390,
     "status": "ok",
     "timestamp": 1604159802078,
     "user": {
      "displayName": "Akitaka Matsuo",
      "photoUrl": "https://lh3.googleusercontent.com/a-/AOh14GjufrSJCzMPgfdmlZz3GFX5n09CyEWx1rg5lY90=s64",
      "userId": "13583983347915062182"
     },
     "user_tz": 0
    },
    "id": "H39vQ0JrSGgx"
   },
   "outputs": [],
   "source": [
    "df_wage = pd.read_csv(\"https://vincentarelbundock.github.io/Rdatasets/csv/AER/CPS1985.csv\")"
   ]
  },
  {
   "cell_type": "code",
   "execution_count": null,
   "metadata": {
    "colab": {
     "base_uri": "https://localhost:8080/",
     "height": 240
    },
    "executionInfo": {
     "elapsed": 1777,
     "status": "ok",
     "timestamp": 1604159802488,
     "user": {
      "displayName": "Akitaka Matsuo",
      "photoUrl": "https://lh3.googleusercontent.com/a-/AOh14GjufrSJCzMPgfdmlZz3GFX5n09CyEWx1rg5lY90=s64",
      "userId": "13583983347915062182"
     },
     "user_tz": 0
    },
    "id": "U3uLNaMGSNMo",
    "outputId": "f5a9165c-293c-4b65-d451-2eb06ae99563"
   },
   "outputs": [],
   "source": [
    "df_wage.head()"
   ]
  },
  {
   "cell_type": "code",
   "execution_count": null,
   "metadata": {
    "executionInfo": {
     "elapsed": 1774,
     "status": "ok",
     "timestamp": 1604159802490,
     "user": {
      "displayName": "Akitaka Matsuo",
      "photoUrl": "https://lh3.googleusercontent.com/a-/AOh14GjufrSJCzMPgfdmlZz3GFX5n09CyEWx1rg5lY90=s64",
      "userId": "13583983347915062182"
     },
     "user_tz": 0
    },
    "id": "bxIGpZReSjzj"
   },
   "outputs": [],
   "source": [
    "df_wage.drop(['Unnamed: 0'], axis = 1, inplace = True)"
   ]
  },
  {
   "cell_type": "code",
   "execution_count": null,
   "metadata": {
    "colab": {
     "base_uri": "https://localhost:8080/",
     "height": 295
    },
    "executionInfo": {
     "elapsed": 1757,
     "status": "ok",
     "timestamp": 1604159802491,
     "user": {
      "displayName": "Akitaka Matsuo",
      "photoUrl": "https://lh3.googleusercontent.com/a-/AOh14GjufrSJCzMPgfdmlZz3GFX5n09CyEWx1rg5lY90=s64",
      "userId": "13583983347915062182"
     },
     "user_tz": 0
    },
    "id": "S8_h_39qSPhd",
    "outputId": "2a7648a2-717b-4c63-b8e4-914e575d876b"
   },
   "outputs": [],
   "source": [
    "df_wage.describe()"
   ]
  },
  {
   "cell_type": "code",
   "execution_count": null,
   "metadata": {
    "colab": {
     "base_uri": "https://localhost:8080/",
     "height": 172
    },
    "executionInfo": {
     "elapsed": 1745,
     "status": "ok",
     "timestamp": 1604159802494,
     "user": {
      "displayName": "Akitaka Matsuo",
      "photoUrl": "https://lh3.googleusercontent.com/a-/AOh14GjufrSJCzMPgfdmlZz3GFX5n09CyEWx1rg5lY90=s64",
      "userId": "13583983347915062182"
     },
     "user_tz": 0
    },
    "id": "bQkcHmNaSUdb",
    "outputId": "26a055e7-c6e2-417d-b12e-33e1bba1dc53"
   },
   "outputs": [],
   "source": [
    "df_wage.corr()"
   ]
  },
  {
   "cell_type": "markdown",
   "metadata": {
    "id": "O6B7wMhcceg5"
   },
   "source": [
    "# Visualise one variable"
   ]
  },
  {
   "cell_type": "markdown",
   "metadata": {
    "id": "Vv6En_yjXxnl"
   },
   "source": [
    "## Distribution plot"
   ]
  },
  {
   "cell_type": "code",
   "execution_count": null,
   "metadata": {
    "colab": {
     "base_uri": "https://localhost:8080/",
     "height": 296
    },
    "executionInfo": {
     "elapsed": 1255,
     "status": "ok",
     "timestamp": 1604159819910,
     "user": {
      "displayName": "Akitaka Matsuo",
      "photoUrl": "https://lh3.googleusercontent.com/a-/AOh14GjufrSJCzMPgfdmlZz3GFX5n09CyEWx1rg5lY90=s64",
      "userId": "13583983347915062182"
     },
     "user_tz": 0
    },
    "id": "1mIW0_MYX9WV",
    "outputId": "c3713caf-e6e9-495f-c98c-fbabd595ec1e"
   },
   "outputs": [],
   "source": [
    "sns.histplot(x = 'wage', data = df_wage)"
   ]
  },
  {
   "cell_type": "code",
   "execution_count": null,
   "metadata": {
    "colab": {
     "base_uri": "https://localhost:8080/",
     "height": 296
    },
    "executionInfo": {
     "elapsed": 1193,
     "status": "ok",
     "timestamp": 1604159914736,
     "user": {
      "displayName": "Akitaka Matsuo",
      "photoUrl": "https://lh3.googleusercontent.com/a-/AOh14GjufrSJCzMPgfdmlZz3GFX5n09CyEWx1rg5lY90=s64",
      "userId": "13583983347915062182"
     },
     "user_tz": 0
    },
    "id": "AW2EyRqVYPb8",
    "outputId": "4f50b682-16fa-4b1c-8e21-edc5deac541e"
   },
   "outputs": [],
   "source": [
    "sns.histplot(x = 'wage', data = df_wage, bins = 100)"
   ]
  },
  {
   "cell_type": "code",
   "execution_count": null,
   "metadata": {
    "colab": {
     "base_uri": "https://localhost:8080/",
     "height": 296
    },
    "executionInfo": {
     "elapsed": 881,
     "status": "ok",
     "timestamp": 1604159952642,
     "user": {
      "displayName": "Akitaka Matsuo",
      "photoUrl": "https://lh3.googleusercontent.com/a-/AOh14GjufrSJCzMPgfdmlZz3GFX5n09CyEWx1rg5lY90=s64",
      "userId": "13583983347915062182"
     },
     "user_tz": 0
    },
    "id": "DlgUuYixYh2x",
    "outputId": "5c42f094-8fa6-4c31-d2bb-2b47a550b765"
   },
   "outputs": [],
   "source": [
    "sns.kdeplot(x = 'wage', data = df_wage)"
   ]
  },
  {
   "cell_type": "code",
   "execution_count": null,
   "metadata": {
    "colab": {
     "base_uri": "https://localhost:8080/",
     "height": 296
    },
    "executionInfo": {
     "elapsed": 920,
     "status": "ok",
     "timestamp": 1604160125384,
     "user": {
      "displayName": "Akitaka Matsuo",
      "photoUrl": "https://lh3.googleusercontent.com/a-/AOh14GjufrSJCzMPgfdmlZz3GFX5n09CyEWx1rg5lY90=s64",
      "userId": "13583983347915062182"
     },
     "user_tz": 0
    },
    "id": "rkjAT0O7Yzgg",
    "outputId": "db3e1eb4-e5b7-4d38-fe23-905d81eecd47"
   },
   "outputs": [],
   "source": [
    "sns.kdeplot(x = 'wage', data = df_wage, bw_adjust=.1)"
   ]
  },
  {
   "cell_type": "code",
   "execution_count": null,
   "metadata": {
    "colab": {
     "base_uri": "https://localhost:8080/",
     "height": 296
    },
    "executionInfo": {
     "elapsed": 841,
     "status": "ok",
     "timestamp": 1604160170479,
     "user": {
      "displayName": "Akitaka Matsuo",
      "photoUrl": "https://lh3.googleusercontent.com/a-/AOh14GjufrSJCzMPgfdmlZz3GFX5n09CyEWx1rg5lY90=s64",
      "userId": "13583983347915062182"
     },
     "user_tz": 0
    },
    "id": "DAtZ41LHZSRp",
    "outputId": "b572de9f-78a2-449b-ec64-4b5825a346a4"
   },
   "outputs": [],
   "source": [
    "sns.histplot(x = 'wage', data = df_wage, kde = True)"
   ]
  },
  {
   "cell_type": "markdown",
   "metadata": {
    "id": "mtF5ZXgIZiat"
   },
   "source": [
    "### Distribution plot, multiple"
   ]
  },
  {
   "cell_type": "code",
   "execution_count": null,
   "metadata": {
    "colab": {
     "base_uri": "https://localhost:8080/",
     "height": 297
    },
    "executionInfo": {
     "elapsed": 2410,
     "status": "ok",
     "timestamp": 1604159833362,
     "user": {
      "displayName": "Akitaka Matsuo",
      "photoUrl": "https://lh3.googleusercontent.com/a-/AOh14GjufrSJCzMPgfdmlZz3GFX5n09CyEWx1rg5lY90=s64",
      "userId": "13583983347915062182"
     },
     "user_tz": 0
    },
    "id": "TRfTA5ANXZjl",
    "outputId": "82b9dc66-c7fa-4b32-e89d-f5e2d847ed88"
   },
   "outputs": [],
   "source": [
    "vars = ['wage', 'age', 'education', 'experience']\n",
    "\n",
    "fig, axes = plt.subplots(2, 2, figsize = (8, 4))\n",
    "axes = axes.flatten()\n",
    "\n",
    "for i in range(len(vars)):\n",
    "  sns.histplot(x = vars[i], data = df_wage, ax = axes[i], kde = True)#i // 2, i % 2], kde = True)\n",
    "\n",
    "plt.tight_layout()"
   ]
  },
  {
   "cell_type": "markdown",
   "metadata": {
    "id": "_-GeSPR3af52"
   },
   "source": [
    "## Count plot"
   ]
  },
  {
   "cell_type": "code",
   "execution_count": null,
   "metadata": {
    "colab": {
     "base_uri": "https://localhost:8080/",
     "height": 296
    },
    "executionInfo": {
     "elapsed": 799,
     "status": "ok",
     "timestamp": 1604160473371,
     "user": {
      "displayName": "Akitaka Matsuo",
      "photoUrl": "https://lh3.googleusercontent.com/a-/AOh14GjufrSJCzMPgfdmlZz3GFX5n09CyEWx1rg5lY90=s64",
      "userId": "13583983347915062182"
     },
     "user_tz": 0
    },
    "id": "YWBC7J1CUgwH",
    "outputId": "de00900f-2515-4c25-cd74-ac032bcb455a"
   },
   "outputs": [],
   "source": [
    "sns.countplot(x = 'sector', data = df_wage)"
   ]
  },
  {
   "cell_type": "code",
   "execution_count": null,
   "metadata": {
    "colab": {
     "base_uri": "https://localhost:8080/",
     "height": 296
    },
    "executionInfo": {
     "elapsed": 811,
     "status": "ok",
     "timestamp": 1604160389109,
     "user": {
      "displayName": "Akitaka Matsuo",
      "photoUrl": "https://lh3.googleusercontent.com/a-/AOh14GjufrSJCzMPgfdmlZz3GFX5n09CyEWx1rg5lY90=s64",
      "userId": "13583983347915062182"
     },
     "user_tz": 0
    },
    "id": "N2AXRX9maVtE",
    "outputId": "28f57a08-e572-44db-b24c-e69db9a7536c"
   },
   "outputs": [],
   "source": [
    "sns.countplot(y = 'sector', data = df_wage)"
   ]
  },
  {
   "cell_type": "code",
   "execution_count": null,
   "metadata": {
    "colab": {
     "base_uri": "https://localhost:8080/",
     "height": 297
    },
    "executionInfo": {
     "elapsed": 1375,
     "status": "ok",
     "timestamp": 1604160514609,
     "user": {
      "displayName": "Akitaka Matsuo",
      "photoUrl": "https://lh3.googleusercontent.com/a-/AOh14GjufrSJCzMPgfdmlZz3GFX5n09CyEWx1rg5lY90=s64",
      "userId": "13583983347915062182"
     },
     "user_tz": 0
    },
    "id": "oxGN2sA7WnCJ",
    "outputId": "dc8580ed-3c73-47c4-dadc-5f20508ebe25"
   },
   "outputs": [],
   "source": [
    "vars = ['gender', 'region', 'ethnicity']\n",
    "\n",
    "fig, axes = plt.subplots(1, 3, figsize = (8, 4))\n",
    "\n",
    "for i in range(3):\n",
    "  sns.countplot(x = vars[i], data =df_wage, ax = axes[i])\n",
    "\n",
    "plt.tight_layout()\n"
   ]
  },
  {
   "cell_type": "markdown",
   "metadata": {
    "id": "d2n67Fyucq2s"
   },
   "source": [
    "# Visualise two variables"
   ]
  },
  {
   "cell_type": "markdown",
   "metadata": {
    "id": "Nuh-UWaba6uk"
   },
   "source": [
    "## Scatter plot"
   ]
  },
  {
   "cell_type": "code",
   "execution_count": null,
   "metadata": {
    "colab": {
     "base_uri": "https://localhost:8080/",
     "height": 296
    },
    "executionInfo": {
     "elapsed": 953,
     "status": "ok",
     "timestamp": 1604160639843,
     "user": {
      "displayName": "Akitaka Matsuo",
      "photoUrl": "https://lh3.googleusercontent.com/a-/AOh14GjufrSJCzMPgfdmlZz3GFX5n09CyEWx1rg5lY90=s64",
      "userId": "13583983347915062182"
     },
     "user_tz": 0
    },
    "id": "QHA3sQiDbGAc",
    "outputId": "15af6982-bbd8-416f-a702-5f28161bf1ac"
   },
   "outputs": [],
   "source": [
    "sns.scatterplot(x = 'education', y = 'wage', data = df_wage)"
   ]
  },
  {
   "cell_type": "code",
   "execution_count": null,
   "metadata": {
    "colab": {
     "base_uri": "https://localhost:8080/",
     "height": 296
    },
    "executionInfo": {
     "elapsed": 1153,
     "status": "ok",
     "timestamp": 1604160657883,
     "user": {
      "displayName": "Akitaka Matsuo",
      "photoUrl": "https://lh3.googleusercontent.com/a-/AOh14GjufrSJCzMPgfdmlZz3GFX5n09CyEWx1rg5lY90=s64",
      "userId": "13583983347915062182"
     },
     "user_tz": 0
    },
    "id": "_m1pCGx-bPjC",
    "outputId": "1aef914b-9c5a-4517-98ee-f493abd5b5d9"
   },
   "outputs": [],
   "source": [
    "sns.scatterplot(x = 'education', y = 'wage', data = df_wage, alpha = .5)"
   ]
  },
  {
   "cell_type": "markdown",
   "metadata": {
    "id": "uzYE_l_ob8tX"
   },
   "source": [
    "## 2d-density Plot"
   ]
  },
  {
   "cell_type": "code",
   "execution_count": null,
   "metadata": {
    "colab": {
     "base_uri": "https://localhost:8080/",
     "height": 296
    },
    "executionInfo": {
     "elapsed": 1681,
     "status": "ok",
     "timestamp": 1604160778821,
     "user": {
      "displayName": "Akitaka Matsuo",
      "photoUrl": "https://lh3.googleusercontent.com/a-/AOh14GjufrSJCzMPgfdmlZz3GFX5n09CyEWx1rg5lY90=s64",
      "userId": "13583983347915062182"
     },
     "user_tz": 0
    },
    "id": "vZQ8GQpDbsdW",
    "outputId": "d68c003e-308b-4421-f94f-e75d1b36cba0"
   },
   "outputs": [],
   "source": [
    "sns.kdeplot(x = \"education\", y = \"wage\", \n",
    "                data = df_wage, fill = True)"
   ]
  },
  {
   "cell_type": "markdown",
   "metadata": {
    "id": "cKHafQdbcyFP"
   },
   "source": [
    "## Boxplot, violinplot"
   ]
  },
  {
   "cell_type": "code",
   "execution_count": null,
   "metadata": {
    "colab": {
     "base_uri": "https://localhost:8080/",
     "height": 296
    },
    "executionInfo": {
     "elapsed": 1409,
     "status": "ok",
     "timestamp": 1604161149811,
     "user": {
      "displayName": "Akitaka Matsuo",
      "photoUrl": "https://lh3.googleusercontent.com/a-/AOh14GjufrSJCzMPgfdmlZz3GFX5n09CyEWx1rg5lY90=s64",
      "userId": "13583983347915062182"
     },
     "user_tz": 0
    },
    "id": "Qq5tI9r8cxmd",
    "outputId": "a1584644-80ca-4b70-e955-327ec8f62e8d"
   },
   "outputs": [],
   "source": [
    "sns.boxplot(x = 'ethnicity', y = 'wage', data = df_wage)"
   ]
  },
  {
   "cell_type": "code",
   "execution_count": null,
   "metadata": {
    "colab": {
     "base_uri": "https://localhost:8080/",
     "height": 300
    },
    "executionInfo": {
     "elapsed": 876,
     "status": "ok",
     "timestamp": 1604161172386,
     "user": {
      "displayName": "Akitaka Matsuo",
      "photoUrl": "https://lh3.googleusercontent.com/a-/AOh14GjufrSJCzMPgfdmlZz3GFX5n09CyEWx1rg5lY90=s64",
      "userId": "13583983347915062182"
     },
     "user_tz": 0
    },
    "id": "GVULWJupdNRb",
    "outputId": "5a60c16c-2205-4ea6-d709-97b7f6eea811"
   },
   "outputs": [],
   "source": [
    "sns.violinplot(x = 'ethnicity', y = 'wage', data = df_wage)"
   ]
  },
  {
   "cell_type": "markdown",
   "metadata": {
    "id": "nCo9899HdRz3"
   },
   "source": [
    "## Barplot"
   ]
  },
  {
   "cell_type": "code",
   "execution_count": null,
   "metadata": {
    "colab": {
     "base_uri": "https://localhost:8080/",
     "height": 296
    },
    "executionInfo": {
     "elapsed": 770,
     "status": "ok",
     "timestamp": 1604161353455,
     "user": {
      "displayName": "Akitaka Matsuo",
      "photoUrl": "https://lh3.googleusercontent.com/a-/AOh14GjufrSJCzMPgfdmlZz3GFX5n09CyEWx1rg5lY90=s64",
      "userId": "13583983347915062182"
     },
     "user_tz": 0
    },
    "id": "WSWqiY_GdRBX",
    "outputId": "a7ad4674-a360-45b3-cf7b-703a0af79b58"
   },
   "outputs": [],
   "source": [
    "sns.barplot(x = 'ethnicity', y = 'wage', data = df_wage, estimator = np.mean)"
   ]
  },
  {
   "cell_type": "code",
   "execution_count": null,
   "metadata": {
    "colab": {
     "base_uri": "https://localhost:8080/",
     "height": 299
    },
    "executionInfo": {
     "elapsed": 882,
     "status": "ok",
     "timestamp": 1604161355201,
     "user": {
      "displayName": "Akitaka Matsuo",
      "photoUrl": "https://lh3.googleusercontent.com/a-/AOh14GjufrSJCzMPgfdmlZz3GFX5n09CyEWx1rg5lY90=s64",
      "userId": "13583983347915062182"
     },
     "user_tz": 0
    },
    "id": "y86Bszsnd4_s",
    "outputId": "1108e01c-fbbd-40d6-e65f-8fb27bc6c614"
   },
   "outputs": [],
   "source": [
    "sns.barplot(x = 'ethnicity', y = 'wage', data = df_wage, estimator = np.std)"
   ]
  },
  {
   "cell_type": "markdown",
   "metadata": {
    "id": "_qiKpIjoirLv"
   },
   "source": [
    "# Adding more layers"
   ]
  },
  {
   "cell_type": "markdown",
   "metadata": {
    "id": "-MXCKsWEivCd"
   },
   "source": [
    "## Add a variable to scatter plots"
   ]
  },
  {
   "cell_type": "code",
   "execution_count": null,
   "metadata": {
    "colab": {
     "base_uri": "https://localhost:8080/",
     "height": 405
    },
    "executionInfo": {
     "elapsed": 1635,
     "status": "ok",
     "timestamp": 1604162738163,
     "user": {
      "displayName": "Akitaka Matsuo",
      "photoUrl": "https://lh3.googleusercontent.com/a-/AOh14GjufrSJCzMPgfdmlZz3GFX5n09CyEWx1rg5lY90=s64",
      "userId": "13583983347915062182"
     },
     "user_tz": 0
    },
    "id": "g3sVJAbNq6p7",
    "outputId": "b50a2fa7-bd0b-4268-94f8-2dd799db00b1"
   },
   "outputs": [],
   "source": [
    "plt.figure(figsize=(8, 6))\n",
    "sns.scatterplot(x = \"education\", y = \"wage\", hue = 'gender',\n",
    "                data = df_wage, alpha=.4)"
   ]
  },
  {
   "cell_type": "code",
   "execution_count": null,
   "metadata": {
    "colab": {
     "base_uri": "https://localhost:8080/",
     "height": 405
    },
    "executionInfo": {
     "elapsed": 1428,
     "status": "ok",
     "timestamp": 1604162772766,
     "user": {
      "displayName": "Akitaka Matsuo",
      "photoUrl": "https://lh3.googleusercontent.com/a-/AOh14GjufrSJCzMPgfdmlZz3GFX5n09CyEWx1rg5lY90=s64",
      "userId": "13583983347915062182"
     },
     "user_tz": 0
    },
    "id": "8Z1FtE4cwM-Q",
    "outputId": "254b51c8-fa28-4b98-f204-f2f130a59dc6"
   },
   "outputs": [],
   "source": [
    "plt.figure(figsize=(8, 6))\n",
    "sns.scatterplot(x = \"education\", y = \"age\", hue = 'wage',\n",
    "                data = df_wage, palette = \"Greens\")"
   ]
  },
  {
   "cell_type": "code",
   "execution_count": null,
   "metadata": {
    "colab": {
     "base_uri": "https://localhost:8080/",
     "height": 405
    },
    "executionInfo": {
     "elapsed": 2056,
     "status": "ok",
     "timestamp": 1604162812803,
     "user": {
      "displayName": "Akitaka Matsuo",
      "photoUrl": "https://lh3.googleusercontent.com/a-/AOh14GjufrSJCzMPgfdmlZz3GFX5n09CyEWx1rg5lY90=s64",
      "userId": "13583983347915062182"
     },
     "user_tz": 0
    },
    "id": "4FkWcLC2xJT0",
    "outputId": "ae1cb593-b4df-41f6-d231-972643beb837"
   },
   "outputs": [],
   "source": [
    "plt.figure(figsize=(8, 6))\n",
    "sns.scatterplot(x = \"education\", y = \"age\", size = 'wage', \n",
    "                sizes = (40, 400),\n",
    "                data = df_wage, alpha = .3)"
   ]
  },
  {
   "cell_type": "code",
   "execution_count": null,
   "metadata": {
    "id": "a0YxTzd8vKuD"
   },
   "outputs": [],
   "source": []
  },
  {
   "cell_type": "markdown",
   "metadata": {
    "id": "CcskN8nDijun"
   },
   "source": [
    "## Colours in categorical plots"
   ]
  },
  {
   "cell_type": "code",
   "execution_count": null,
   "metadata": {
    "colab": {
     "base_uri": "https://localhost:8080/",
     "height": 405
    },
    "executionInfo": {
     "elapsed": 1315,
     "status": "ok",
     "timestamp": 1604162867594,
     "user": {
      "displayName": "Akitaka Matsuo",
      "photoUrl": "https://lh3.googleusercontent.com/a-/AOh14GjufrSJCzMPgfdmlZz3GFX5n09CyEWx1rg5lY90=s64",
      "userId": "13583983347915062182"
     },
     "user_tz": 0
    },
    "id": "WPhJc87zy5kZ",
    "outputId": "a0b5a800-86f7-4f39-c78a-6b17674fa234"
   },
   "outputs": [],
   "source": [
    "plt.figure(figsize=(8, 6))\n",
    "sns.histplot(x = \"wage\", hue = 'gender',  multiple=\"stack\",\n",
    "                data = df_wage)"
   ]
  },
  {
   "cell_type": "code",
   "execution_count": null,
   "metadata": {
    "colab": {
     "base_uri": "https://localhost:8080/",
     "height": 405
    },
    "executionInfo": {
     "elapsed": 809,
     "status": "ok",
     "timestamp": 1604162848929,
     "user": {
      "displayName": "Akitaka Matsuo",
      "photoUrl": "https://lh3.googleusercontent.com/a-/AOh14GjufrSJCzMPgfdmlZz3GFX5n09CyEWx1rg5lY90=s64",
      "userId": "13583983347915062182"
     },
     "user_tz": 0
    },
    "id": "U5v9N6YwyzbA",
    "outputId": "9e3cc61f-286c-4aed-9328-1d197f56a6ee"
   },
   "outputs": [],
   "source": [
    "plt.figure(figsize=(8, 6))\n",
    "sns.boxplot(x = \"ethnicity\", y = \"wage\", hue = 'gender',\n",
    "                data = df_wage)"
   ]
  },
  {
   "cell_type": "markdown",
   "metadata": {
    "id": "lML8JNTulYLL"
   },
   "source": [
    "# Misc"
   ]
  },
  {
   "cell_type": "markdown",
   "metadata": {
    "id": "x19MMp6glaqW"
   },
   "source": [
    "## Joint plot"
   ]
  },
  {
   "cell_type": "code",
   "execution_count": null,
   "metadata": {
    "colab": {
     "base_uri": "https://localhost:8080/",
     "height": 475
    },
    "executionInfo": {
     "elapsed": 1626,
     "status": "ok",
     "timestamp": 1604163060271,
     "user": {
      "displayName": "Akitaka Matsuo",
      "photoUrl": "https://lh3.googleusercontent.com/a-/AOh14GjufrSJCzMPgfdmlZz3GFX5n09CyEWx1rg5lY90=s64",
      "userId": "13583983347915062182"
     },
     "user_tz": 0
    },
    "id": "eBb0FHM50N8k",
    "outputId": "bcf7484a-ef2c-4175-f71a-a6c21f489af1"
   },
   "outputs": [],
   "source": [
    "plt.figure(figsize = (5, 5))\n",
    "sns.jointplot(x ='education', y = \"wage\",\n",
    "                data = df_wage)"
   ]
  },
  {
   "cell_type": "code",
   "execution_count": null,
   "metadata": {
    "colab": {
     "base_uri": "https://localhost:8080/",
     "height": 475
    },
    "executionInfo": {
     "elapsed": 1956,
     "status": "ok",
     "timestamp": 1604163149361,
     "user": {
      "displayName": "Akitaka Matsuo",
      "photoUrl": "https://lh3.googleusercontent.com/a-/AOh14GjufrSJCzMPgfdmlZz3GFX5n09CyEWx1rg5lY90=s64",
      "userId": "13583983347915062182"
     },
     "user_tz": 0
    },
    "id": "C67GFE5CkbsG",
    "outputId": "e82d448b-925b-4588-e647-19c010b05e7a"
   },
   "outputs": [],
   "source": [
    "plt.figure(figsize = (5, 5))\n",
    "sns.jointplot(x ='education', y = \"wage\", hue = 'gender', alpha = .5,\n",
    "                data = df_wage)"
   ]
  },
  {
   "cell_type": "code",
   "execution_count": null,
   "metadata": {
    "colab": {
     "base_uri": "https://localhost:8080/",
     "height": 475
    },
    "executionInfo": {
     "elapsed": 1779,
     "status": "ok",
     "timestamp": 1604163230954,
     "user": {
      "displayName": "Akitaka Matsuo",
      "photoUrl": "https://lh3.googleusercontent.com/a-/AOh14GjufrSJCzMPgfdmlZz3GFX5n09CyEWx1rg5lY90=s64",
      "userId": "13583983347915062182"
     },
     "user_tz": 0
    },
    "id": "6w-ECjP7kxWb",
    "outputId": "9f9b560b-18e4-429a-e2f4-afedcdec1225"
   },
   "outputs": [],
   "source": [
    "plt.figure(figsize = (5, 5))\n",
    "sns.jointplot(x ='education', y = \"wage\",\n",
    "                data = df_wage, kind = 'reg')"
   ]
  },
  {
   "cell_type": "code",
   "execution_count": null,
   "metadata": {
    "colab": {
     "base_uri": "https://localhost:8080/",
     "height": 475
    },
    "executionInfo": {
     "elapsed": 1525,
     "status": "ok",
     "timestamp": 1604163269337,
     "user": {
      "displayName": "Akitaka Matsuo",
      "photoUrl": "https://lh3.googleusercontent.com/a-/AOh14GjufrSJCzMPgfdmlZz3GFX5n09CyEWx1rg5lY90=s64",
      "userId": "13583983347915062182"
     },
     "user_tz": 0
    },
    "id": "JejgG13LlFVs",
    "outputId": "9d13c9d1-9a48-4644-fbcf-38b9e959bf63"
   },
   "outputs": [],
   "source": [
    "plt.figure(figsize = (5, 5))\n",
    "sns.jointplot(x ='education', y = \"wage\", \n",
    "                data = df_wage, kind = 'hex')"
   ]
  },
  {
   "cell_type": "code",
   "execution_count": null,
   "metadata": {
    "colab": {
     "base_uri": "https://localhost:8080/",
     "height": 636
    },
    "executionInfo": {
     "elapsed": 12796,
     "status": "ok",
     "timestamp": 1604101373723,
     "user": {
      "displayName": "Akitaka Matsuo",
      "photoUrl": "https://lh3.googleusercontent.com/a-/AOh14GjufrSJCzMPgfdmlZz3GFX5n09CyEWx1rg5lY90=s64",
      "userId": "13583983347915062182"
     },
     "user_tz": 0
    },
    "id": "rmAUkAzg2ZfI",
    "outputId": "a8f369bc-1880-407e-fcd4-1b7a25a238c5"
   },
   "outputs": [],
   "source": [
    "sns.pairplot(df_wage).savefig(\"pair.png\")"
   ]
  },
  {
   "cell_type": "code",
   "execution_count": null,
   "metadata": {
    "id": "3obvSrS64-rT"
   },
   "outputs": [],
   "source": []
  },
  {
   "cell_type": "code",
   "execution_count": null,
   "metadata": {
    "colab": {
     "base_uri": "https://localhost:8080/",
     "height": 636
    },
    "executionInfo": {
     "elapsed": 10676,
     "status": "ok",
     "timestamp": 1604162948769,
     "user": {
      "displayName": "Akitaka Matsuo",
      "photoUrl": "https://lh3.googleusercontent.com/a-/AOh14GjufrSJCzMPgfdmlZz3GFX5n09CyEWx1rg5lY90=s64",
      "userId": "13583983347915062182"
     },
     "user_tz": 0
    },
    "id": "xNoU7JfVS-3H",
    "outputId": "99f68839-5751-4a6d-bc8b-f9e2fc294b47"
   },
   "outputs": [],
   "source": [
    "sns.pairplot(df_wage, hue = 'gender', palette=\"Set1\")"
   ]
  }
 ],
 "metadata": {
  "colab": {
   "authorship_tag": "ABX9TyO3/JcMsa4W4eAmK0t6ih2u",
   "collapsed_sections": [],
   "name": "Visualisation-demo.ipynb",
   "provenance": [
    {
     "file_id": "1KBbeSOYUrQJ899-idmo6vxLGBtDcu3S4",
     "timestamp": 1604159647025
    }
   ],
   "toc_visible": true
  },
  "kernelspec": {
   "display_name": "Python 3 (ipykernel)",
   "language": "python",
   "name": "python3"
  },
  "language_info": {
   "codemirror_mode": {
    "name": "ipython",
    "version": 3
   },
   "file_extension": ".py",
   "mimetype": "text/x-python",
   "name": "python",
   "nbconvert_exporter": "python",
   "pygments_lexer": "ipython3",
   "version": "3.8.10"
  }
 },
 "nbformat": 4,
 "nbformat_minor": 4
}
