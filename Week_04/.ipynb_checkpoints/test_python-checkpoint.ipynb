{
  "cells": [
    {
      "cell_type": "raw",
      "metadata": {},
      "source": [
        "---\n",
        "title: week4\n",
        "format: pdf\n",
        "format-links: true\n",
        "link-citations: true\n",
        "linkcolor: purple\n",
        "engine: jupyter\n",
        "bibliography: references.bib\n",
        "---"
      ],
      "id": "d8f7c438"
    },
    {
      "cell_type": "markdown",
      "metadata": {},
      "source": [
        "cite [@debruin2020a].\n"
      ],
      "id": "1595dac2"
    },
    {
      "cell_type": "code",
      "metadata": {},
      "source": [
        "import pandas as pd\n",
        "import numpy as np"
      ],
      "id": "342f708c",
      "execution_count": null,
      "outputs": []
    },
    {
      "cell_type": "code",
      "metadata": {},
      "source": [
        "df_brexit = pd.read_csv('../UK-Politics-files/brexit-vote.csv')"
      ],
      "id": "5c5145ff",
      "execution_count": null,
      "outputs": []
    },
    {
      "cell_type": "code",
      "metadata": {},
      "source": [
        "df_elec = pd.read_excel('../UK-Politics-files/general-election-results-2019.xlsx', sheet_name = 'voting-summary')"
      ],
      "id": "18d1c000",
      "execution_count": null,
      "outputs": []
    },
    {
      "cell_type": "code",
      "metadata": {},
      "source": [
        "df_brexit.rename({'PCON11CD': 'ons_id'}, axis = 1, inplace=True)\n",
        "df_merged = df_elec.merge(df_brexit, on = 'ons_id')"
      ],
      "id": "e747b872",
      "execution_count": null,
      "outputs": []
    },
    {
      "cell_type": "markdown",
      "metadata": {},
      "source": [
        "```{r}\n",
        "\n",
        "rmarkdown::convert_ipynb('Week04-Demo-Pandas-DataFrame-merging-etc.ipynb')\n",
        "rmarkdown::convert_ipynb('Week02-Demo.ipynb')\n",
        "```"
      ],
      "id": "36729a27"
    }
  ],
  "metadata": {
    "kernelspec": {
      "display_name": "Python 3",
      "language": "python",
      "name": "python3"
    }
  },
  "nbformat": 4,
  "nbformat_minor": 5
}