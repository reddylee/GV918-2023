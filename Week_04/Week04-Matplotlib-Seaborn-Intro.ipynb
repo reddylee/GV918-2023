{
 "cells": [
  {
   "cell_type": "markdown",
   "metadata": {
    "id": "QqykLnHF6a6O"
   },
   "source": [
    "# Import packages"
   ]
  },
  {
   "cell_type": "code",
   "execution_count": null,
   "metadata": {
    "executionInfo": {
     "elapsed": 960,
     "status": "ok",
     "timestamp": 1604135911142,
     "user": {
      "displayName": "Akitaka Matsuo",
      "photoUrl": "https://lh3.googleusercontent.com/a-/AOh14GjufrSJCzMPgfdmlZz3GFX5n09CyEWx1rg5lY90=s64",
      "userId": "13583983347915062182"
     },
     "user_tz": 0
    },
    "id": "K4_WmqeK6acP"
   },
   "outputs": [],
   "source": [
    "import pandas as pd\n",
    "import numpy as np\n",
    "import matplotlib.pyplot as plt\n",
    "import seaborn as sns"
   ]
  },
  {
   "cell_type": "code",
   "execution_count": null,
   "metadata": {
    "executionInfo": {
     "elapsed": 441,
     "status": "ok",
     "timestamp": 1604135912251,
     "user": {
      "displayName": "Akitaka Matsuo",
      "photoUrl": "https://lh3.googleusercontent.com/a-/AOh14GjufrSJCzMPgfdmlZz3GFX5n09CyEWx1rg5lY90=s64",
      "userId": "13583983347915062182"
     },
     "user_tz": 0
    },
    "id": "d0PhHrIoAWzx"
   },
   "outputs": [],
   "source": [
    "sns.set_style(\"whitegrid\")\n",
    "%matplotlib inline"
   ]
  },
  {
   "cell_type": "markdown",
   "metadata": {
    "id": "-Z5EzO_j6uy1"
   },
   "source": [
    "# Matplotlib basics"
   ]
  },
  {
   "cell_type": "code",
   "execution_count": null,
   "metadata": {
    "executionInfo": {
     "elapsed": 903,
     "status": "ok",
     "timestamp": 1604135917845,
     "user": {
      "displayName": "Akitaka Matsuo",
      "photoUrl": "https://lh3.googleusercontent.com/a-/AOh14GjufrSJCzMPgfdmlZz3GFX5n09CyEWx1rg5lY90=s64",
      "userId": "13583983347915062182"
     },
     "user_tz": 0
    },
    "id": "HDBnOkiI6uMG"
   },
   "outputs": [],
   "source": [
    "np.random.seed(42)\n",
    "df_ex = pd.DataFrame(np.random.randn(100), columns = ['x'])\n",
    "df_ex['y'] = 2 + 3 * df_ex['x'] + np.random.randn(100) * 2"
   ]
  },
  {
   "cell_type": "code",
   "execution_count": null,
   "metadata": {
    "colab": {
     "base_uri": "https://localhost:8080/",
     "height": 282
    },
    "executionInfo": {
     "elapsed": 1283,
     "status": "ok",
     "timestamp": 1604135919836,
     "user": {
      "displayName": "Akitaka Matsuo",
      "photoUrl": "https://lh3.googleusercontent.com/a-/AOh14GjufrSJCzMPgfdmlZz3GFX5n09CyEWx1rg5lY90=s64",
      "userId": "13583983347915062182"
     },
     "user_tz": 0
    },
    "id": "oyJaWIEr7fBn",
    "outputId": "a73c48f9-2284-4e9c-ef7e-aa9f1b480c95"
   },
   "outputs": [],
   "source": [
    "#sns.set_style(rc={'axis.facecolor':'blue'})\n",
    "plt.scatter('x', 'y', data = df_ex)\n"
   ]
  },
  {
   "cell_type": "code",
   "execution_count": null,
   "metadata": {
    "colab": {
     "base_uri": "https://localhost:8080/",
     "height": 296
    },
    "executionInfo": {
     "elapsed": 1047,
     "status": "ok",
     "timestamp": 1604138260944,
     "user": {
      "displayName": "Akitaka Matsuo",
      "photoUrl": "https://lh3.googleusercontent.com/a-/AOh14GjufrSJCzMPgfdmlZz3GFX5n09CyEWx1rg5lY90=s64",
      "userId": "13583983347915062182"
     },
     "user_tz": 0
    },
    "id": "-nG7hThT6Vcl",
    "outputId": "39c1f868-1fc1-4599-e381-30fc8941fe16"
   },
   "outputs": [],
   "source": [
    "sns.scatterplot(x = 'x', y = 'y', data=df_ex, color = 'r', sizes = 20, size_norm = True)"
   ]
  },
  {
   "cell_type": "markdown",
   "metadata": {
    "id": "T93EJMen91jO"
   },
   "source": [
    "## Plotting on canvas"
   ]
  },
  {
   "cell_type": "code",
   "execution_count": null,
   "metadata": {
    "colab": {
     "base_uri": "https://localhost:8080/",
     "height": 535
    },
    "executionInfo": {
     "elapsed": 1170,
     "status": "ok",
     "timestamp": 1604074085652,
     "user": {
      "displayName": "Akitaka Matsuo",
      "photoUrl": "https://lh3.googleusercontent.com/a-/AOh14GjufrSJCzMPgfdmlZz3GFX5n09CyEWx1rg5lY90=s64",
      "userId": "13583983347915062182"
     },
     "user_tz": 0
    },
    "id": "aK7lnMf690uz",
    "outputId": "005fbe39-85ea-4bcb-bc9e-e0d501297469"
   },
   "outputs": [],
   "source": [
    "fig, ax = plt.subplots(1,2, figsize = (14, 8))\n",
    "# Plot the first panel\n",
    "ax[0].scatter(df_ex.x, df_ex.y, color = 'r', alpha = .7)\n",
    "ax[0].set_title('plt plot')\n",
    "ax[0].set_xlabel('x')\n",
    "ax[0].set_ylabel('y')\n",
    "# Plot the second panel\n",
    "sns.scatterplot(x = 'x', y = 'y', data=df_ex, color = 'b', sizes = 2, ax = ax[1])\n",
    "ax[1].set_title('sns plot')\n",
    "ax[1].set_xlabel('my label')\n",
    "\n",
    "fig.savefig('test-plot.png', dpi=200)"
   ]
  },
  {
   "cell_type": "code",
   "execution_count": null,
   "metadata": {},
   "outputs": [],
   "source": []
  }
 ],
 "metadata": {
  "colab": {
   "authorship_tag": "ABX9TyN/Ufxjl6jpT46Zggj4iWRa",
   "collapsed_sections": [],
   "name": "Matplotlib-Seaborn-Intro.ipynb",
   "provenance": []
  },
  "kernelspec": {
   "display_name": "Python 3 (ipykernel)",
   "language": "python",
   "name": "python3"
  },
  "language_info": {
   "codemirror_mode": {
    "name": "ipython",
    "version": 3
   },
   "file_extension": ".py",
   "mimetype": "text/x-python",
   "name": "python",
   "nbconvert_exporter": "python",
   "pygments_lexer": "ipython3",
   "version": "3.8.10"
  }
 },
 "nbformat": 4,
 "nbformat_minor": 4
}
