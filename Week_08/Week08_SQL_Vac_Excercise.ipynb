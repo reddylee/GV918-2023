{
  "nbformat": 4,
  "nbformat_minor": 0,
  "metadata": {
    "colab": {
      "provenance": [],
      "toc_visible": true
    },
    "kernelspec": {
      "name": "python3",
      "display_name": "Python 3"
    },
    "language_info": {
      "name": "python"
    }
  },
  "cells": [
    {
      "cell_type": "markdown",
      "source": [
        "## Description\n",
        "\n",
        "In this exercise, you will practice reading CSV data, converting it to an SQL database, and then running queries using that database.\n",
        "\n",
        "The data we will use are tweets about COVID-19 vaccines. The data was obtained from here.\n",
        "\n",
        "https://www.kaggle.com/datasets/gpreda/all-covid19-vaccines-tweets"
      ],
      "metadata": {
        "id": "1FD9L8xayk8N"
      }
    },
    {
      "cell_type": "markdown",
      "source": [
        "## Load packages"
      ],
      "metadata": {
        "id": "bQiUnq9WpC3m"
      }
    },
    {
      "cell_type": "code",
      "source": [
        "import pandas as pd\n",
        "import sqlite3"
      ],
      "metadata": {
        "id": "DfCSzA7OpCoL"
      },
      "execution_count": null,
      "outputs": []
    },
    {
      "cell_type": "markdown",
      "source": [
        "## Create a database\n",
        "\n",
        "1. Download a zip file\n",
        "2. Decompress\n",
        "3. Read\n",
        "4. Put in a SQLite database\n"
      ],
      "metadata": {
        "id": "FMsLZig6pUGs"
      }
    },
    {
      "cell_type": "code",
      "execution_count": null,
      "metadata": {
        "id": "V089F9oho9zZ"
      },
      "outputs": [],
      "source": [
        "!wget https://www.dropbox.com/scl/fi/5h8i13oaxgod1l61s13y5/vaccination_all_tweets.zip?rlkey=jzgucf7esxl3of3ugnojb9n25&dl=1\n",
        "!mv /content/vaccination_all_tweets.zip?rlkey=jzgucf7esxl3of3ugnojb9n25 /content/vaccination_all_tweets.zip\n",
        "!unzip vaccination_all_tweets.zip"
      ]
    },
    {
      "cell_type": "markdown",
      "source": [
        "### Read file and check\n",
        "\n",
        "- Read the csv file and check the contents"
      ],
      "metadata": {
        "id": "e4ClEeNCrCxZ"
      }
    },
    {
      "cell_type": "code",
      "source": [],
      "metadata": {
        "id": "DL6IESWgrN4H"
      },
      "execution_count": null,
      "outputs": []
    },
    {
      "cell_type": "markdown",
      "source": [
        "## Craete a SQLite database called `vaccine.sqlite` and create a table"
      ],
      "metadata": {
        "id": "bDSFZkHNrhfI"
      }
    },
    {
      "cell_type": "markdown",
      "source": [
        "#### Create connection"
      ],
      "metadata": {
        "id": "EfVsPk7Mr3tI"
      }
    },
    {
      "cell_type": "code",
      "source": [],
      "metadata": {
        "id": "s-9817tDrhP6"
      },
      "execution_count": null,
      "outputs": []
    },
    {
      "cell_type": "markdown",
      "source": [
        "#### Copy the df as a table called `vaccine_tweets`"
      ],
      "metadata": {
        "id": "5UIz3SXXr7ab"
      }
    },
    {
      "cell_type": "code",
      "source": [],
      "metadata": {
        "id": "_io72mubrZol"
      },
      "execution_count": null,
      "outputs": []
    },
    {
      "cell_type": "markdown",
      "source": [
        "## Run the following queries\n",
        "\n",
        "- Check the number of records\n",
        "- Get the five tweets from the table\n",
        "- Find the max and min date\n",
        "- Find the number of unique users in the table\n",
        "- Find the 10 most frequent posters of the tweets\n",
        "  - For top ten users, can we still check who they are?\n"
      ],
      "metadata": {
        "id": "7H1JZeFnsDak"
      }
    },
    {
      "cell_type": "code",
      "source": [],
      "metadata": {
        "id": "JTuPE9KCrzk6"
      },
      "execution_count": null,
      "outputs": []
    },
    {
      "cell_type": "code",
      "source": [],
      "metadata": {
        "id": "0jbCsmdts7I-"
      },
      "execution_count": null,
      "outputs": []
    },
    {
      "cell_type": "markdown",
      "source": [
        "### A bit of more advanced queries\n",
        "\n",
        "- Check the number of users with more than one tweet? (google: SQL HAVING)\n",
        "- What is the average number of followers?\n",
        "- Who has the highest number of followers?\n",
        "- Check the number of tweets by months\n",
        "- How many tweets have the following texts?\n",
        "  - A word, Moderna, included\n",
        "  - A word, AstraZeneca, included\n",
        "  - A word, SinoVac, included\n",
        "  - Some vaccine conspiracy words included (e.g. 5G, Autism etc)\n",
        "- Conspiracy tweets are associated with specific vaccines?\n",
        "  \n"
      ],
      "metadata": {
        "id": "ZF5WiVWOuxDp"
      }
    },
    {
      "cell_type": "code",
      "source": [],
      "metadata": {
        "id": "PSS_nsm_w46L"
      },
      "execution_count": null,
      "outputs": []
    }
  ]
}