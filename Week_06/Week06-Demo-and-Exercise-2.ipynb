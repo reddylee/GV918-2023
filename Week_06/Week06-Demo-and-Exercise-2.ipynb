{
 "cells": [
  {
   "cell_type": "markdown",
   "metadata": {
    "id": "h4t5FqMBwlCy"
   },
   "source": [
    "# Tasks\n",
    "\n",
    "In this part of demo, we will extract information from two websites:\n",
    "\n",
    "- https://en.wikipedia.org/wiki/International_court\n",
    "- https://members.parliament.uk/members/commons\n"
   ]
  },
  {
   "cell_type": "markdown",
   "metadata": {
    "id": "vGWGL24Uw2fC"
   },
   "source": [
    "# Load packages"
   ]
  },
  {
   "cell_type": "code",
   "execution_count": 1,
   "metadata": {
    "id": "tToK3GNtCkXg"
   },
   "outputs": [],
   "source": [
    "from urllib.request import urlopen, Request\n",
    "from bs4 import BeautifulSoup\n",
    "import pandas as pd"
   ]
  },
  {
   "cell_type": "code",
   "execution_count": 4,
   "metadata": {},
   "outputs": [
    {
     "name": "stdout",
     "output_type": "stream",
     "text": [
      "\u001b[33mWarning:\u001b[0m No available formula with the name \"lxml\". Did you mean libxmlb?\n",
      "\u001b[34m==>\u001b[0m \u001b[1mSearching for similarly named formulae and casks...\u001b[0m\n",
      "\u001b[34m==>\u001b[0m \u001b[1mFormulae\u001b[0m\n",
      "html-xml-utils      perl-xml-parser     python-lxml         libxmlb\n",
      "\n",
      "To install html-xml-utils, run:\n",
      "  brew install html-xml-utils\n"
     ]
    }
   ],
   "source": [
    "! brew install lxml"
   ]
  },
  {
   "cell_type": "code",
   "execution_count": 7,
   "metadata": {},
   "outputs": [
    {
     "name": "stdout",
     "output_type": "stream",
     "text": [
      "\u001b[34m==>\u001b[0m \u001b[1mDownloading https://ghcr.io/v2/homebrew/core/python-lxml/manifests/4.9.3-2\u001b[0m\n",
      "######################################################################### 100.0%\n",
      "\u001b[32m==>\u001b[0m \u001b[1mFetching \u001b[32mpython-lxml\u001b[39m\u001b[0m\n",
      "\u001b[34m==>\u001b[0m \u001b[1mDownloading https://ghcr.io/v2/homebrew/core/python-lxml/blobs/sha256:331bb6\u001b[0m\n",
      "######################################################################### 100.0%\n",
      "\u001b[34m==>\u001b[0m \u001b[1mPouring python-lxml--4.9.3.sonoma.bottle.2.tar.gz\u001b[0m\n",
      "🍺  /usr/local/Cellar/python-lxml/4.9.3: 303 files, 15.3MB\n",
      "\u001b[34m==>\u001b[0m \u001b[1mRunning `brew cleanup python-lxml`...\u001b[0m\n",
      "Disable this behaviour by setting HOMEBREW_NO_INSTALL_CLEANUP.\n",
      "Hide these hints with HOMEBREW_NO_ENV_HINTS (see `man brew`).\n"
     ]
    }
   ],
   "source": [
    "!brew install python-lxml"
   ]
  },
  {
   "cell_type": "code",
   "execution_count": null,
   "metadata": {},
   "outputs": [],
   "source": []
  },
  {
   "cell_type": "markdown",
   "metadata": {
    "id": "Y_z5aTZxw5X-"
   },
   "source": [
    "# International court\n",
    "\n",
    "- Scenario 1"
   ]
  },
  {
   "cell_type": "markdown",
   "metadata": {
    "id": "CyVrdZBkxBfM"
   },
   "source": [
    "## Extract the first tables using `pandas`"
   ]
  },
  {
   "cell_type": "code",
   "execution_count": 8,
   "metadata": {
    "id": "V7aje6vgwgf8"
   },
   "outputs": [],
   "source": [
    "df_tables = pd.read_html(\"https://en.wikipedia.org/wiki/International_court\")"
   ]
  },
  {
   "cell_type": "code",
   "execution_count": 9,
   "metadata": {
    "id": "fyyiPu0w7EBg"
   },
   "outputs": [
    {
     "data": {
      "text/plain": [
       "4"
      ]
     },
     "execution_count": 9,
     "metadata": {},
     "output_type": "execute_result"
    }
   ],
   "source": [
    "len(df_tables)"
   ]
  },
  {
   "cell_type": "code",
   "execution_count": 11,
   "metadata": {
    "id": "ki42AGjE7GIu"
   },
   "outputs": [],
   "source": [
    "df_ic = df_tables[0]"
   ]
  },
  {
   "cell_type": "code",
   "execution_count": 12,
   "metadata": {
    "id": "4yRnJezY7IOw",
    "scrolled": true
   },
   "outputs": [
    {
     "data": {
      "text/html": [
       "<div>\n",
       "<style scoped>\n",
       "    .dataframe tbody tr th:only-of-type {\n",
       "        vertical-align: middle;\n",
       "    }\n",
       "\n",
       "    .dataframe tbody tr th {\n",
       "        vertical-align: top;\n",
       "    }\n",
       "\n",
       "    .dataframe thead th {\n",
       "        text-align: right;\n",
       "    }\n",
       "</style>\n",
       "<table border=\"1\" class=\"dataframe\">\n",
       "  <thead>\n",
       "    <tr style=\"text-align: right;\">\n",
       "      <th></th>\n",
       "      <th>Name</th>\n",
       "      <th>Subject matter and scope</th>\n",
       "      <th>Headquarters</th>\n",
       "      <th>Years active</th>\n",
       "    </tr>\n",
       "  </thead>\n",
       "  <tbody>\n",
       "    <tr>\n",
       "      <th>0</th>\n",
       "      <td>African Court on Human and Peoples' Rights</td>\n",
       "      <td>Human rights within the African Union</td>\n",
       "      <td>Addis Ababa, Ethiopia (2006–7) Arusha, Tanzani...</td>\n",
       "      <td>2006–present</td>\n",
       "    </tr>\n",
       "    <tr>\n",
       "      <th>1</th>\n",
       "      <td>Appellate Body of the World Trade Organization</td>\n",
       "      <td>Trade disputes within the World Trade Organiza...</td>\n",
       "      <td>Geneva, Switzerland</td>\n",
       "      <td>1995–present</td>\n",
       "    </tr>\n",
       "    <tr>\n",
       "      <th>2</th>\n",
       "      <td>Benelux Court of Justice</td>\n",
       "      <td>Trade disputes within the Benelux</td>\n",
       "      <td>Brussels, Belgium</td>\n",
       "      <td>1975–present</td>\n",
       "    </tr>\n",
       "    <tr>\n",
       "      <th>3</th>\n",
       "      <td>Caribbean Court of Justice</td>\n",
       "      <td>General disputes within the Caribbean Community</td>\n",
       "      <td>Port of Spain, Trinidad and Tobago</td>\n",
       "      <td>2005–present</td>\n",
       "    </tr>\n",
       "    <tr>\n",
       "      <th>4</th>\n",
       "      <td>CIS Economic Court</td>\n",
       "      <td>Trade disputes and interpretation of treaties ...</td>\n",
       "      <td>Minsk, Belarus</td>\n",
       "      <td>1994–present</td>\n",
       "    </tr>\n",
       "    <tr>\n",
       "      <th>5</th>\n",
       "      <td>COMESA Court of Justice</td>\n",
       "      <td>Trade disputes within the Common Market for Ea...</td>\n",
       "      <td>Khartoum, Sudan</td>\n",
       "      <td>1998–present</td>\n",
       "    </tr>\n",
       "    <tr>\n",
       "      <th>6</th>\n",
       "      <td>Common Court of Justice and Arbitration of the...</td>\n",
       "      <td>Interpretation of OHADA treaties and uniform laws</td>\n",
       "      <td>Abidjan, Ivory Coast</td>\n",
       "      <td>1998–present</td>\n",
       "    </tr>\n",
       "    <tr>\n",
       "      <th>7</th>\n",
       "      <td>Court of Justice of the Andean Community</td>\n",
       "      <td>Trade disputes within the Andean Community</td>\n",
       "      <td>Quito, Ecuador</td>\n",
       "      <td>1983–present</td>\n",
       "    </tr>\n",
       "    <tr>\n",
       "      <th>8</th>\n",
       "      <td>Court of the Eurasian Economic Union</td>\n",
       "      <td>Trade disputes and interpretation of treaties ...</td>\n",
       "      <td>Minsk, Belarus</td>\n",
       "      <td>2015–present</td>\n",
       "    </tr>\n",
       "    <tr>\n",
       "      <th>9</th>\n",
       "      <td>East African Court of Justice</td>\n",
       "      <td>Interpretation of East African Community treaties</td>\n",
       "      <td>Arusha, Tanzania</td>\n",
       "      <td>2001–present</td>\n",
       "    </tr>\n",
       "    <tr>\n",
       "      <th>10</th>\n",
       "      <td>Eastern Caribbean Supreme Court</td>\n",
       "      <td>General disputes within the Organisation of Ea...</td>\n",
       "      <td>Castries, Saint Lucia</td>\n",
       "      <td>1967–present</td>\n",
       "    </tr>\n",
       "    <tr>\n",
       "      <th>11</th>\n",
       "      <td>ECOWAS Court of Justice</td>\n",
       "      <td>Interpretation of Economic Community of West A...</td>\n",
       "      <td>Abuja, Nigeria</td>\n",
       "      <td>1996–present</td>\n",
       "    </tr>\n",
       "    <tr>\n",
       "      <th>12</th>\n",
       "      <td>European Court of Human Rights</td>\n",
       "      <td>Human rights within the Council of Europe</td>\n",
       "      <td>Strasbourg, France</td>\n",
       "      <td>1959–present</td>\n",
       "    </tr>\n",
       "    <tr>\n",
       "      <th>13</th>\n",
       "      <td>European Court of Justice</td>\n",
       "      <td>Interpretation of European Union law</td>\n",
       "      <td>Luxembourg City, Luxembourg</td>\n",
       "      <td>1952–present</td>\n",
       "    </tr>\n",
       "    <tr>\n",
       "      <th>14</th>\n",
       "      <td>European Free Trade Association Court</td>\n",
       "      <td>Interpretation of European Free Trade Associat...</td>\n",
       "      <td>Luxembourg City, Luxembourg</td>\n",
       "      <td>1994–present</td>\n",
       "    </tr>\n",
       "    <tr>\n",
       "      <th>15</th>\n",
       "      <td>European Nuclear Energy Tribunal</td>\n",
       "      <td>Nuclear energy disputes within the OECD</td>\n",
       "      <td>Paris, France</td>\n",
       "      <td>1960–present</td>\n",
       "    </tr>\n",
       "    <tr>\n",
       "      <th>16</th>\n",
       "      <td>Inter-American Court of Human Rights</td>\n",
       "      <td>Human rights within the Organization of Americ...</td>\n",
       "      <td>San José, Costa Rica</td>\n",
       "      <td>1979–present</td>\n",
       "    </tr>\n",
       "    <tr>\n",
       "      <th>17</th>\n",
       "      <td>International Court of Justice</td>\n",
       "      <td>General disputes globally (UN)</td>\n",
       "      <td>The Hague, Netherlands</td>\n",
       "      <td>1945–present</td>\n",
       "    </tr>\n",
       "    <tr>\n",
       "      <th>18</th>\n",
       "      <td>International Criminal Court</td>\n",
       "      <td>Criminal prosecutions globally (Rome Statute)</td>\n",
       "      <td>The Hague, Netherlands</td>\n",
       "      <td>2002–present</td>\n",
       "    </tr>\n",
       "    <tr>\n",
       "      <th>19</th>\n",
       "      <td>International Criminal Tribunal for Rwanda</td>\n",
       "      <td>Criminal prosecutions for the Rwandan genocide...</td>\n",
       "      <td>Arusha, Tanzania</td>\n",
       "      <td>1994−2015</td>\n",
       "    </tr>\n",
       "    <tr>\n",
       "      <th>20</th>\n",
       "      <td>International Criminal Tribunal for the former...</td>\n",
       "      <td>Criminal prosecutions for the Yugoslav Wars (UN)</td>\n",
       "      <td>The Hague, Netherlands</td>\n",
       "      <td>1993−2017</td>\n",
       "    </tr>\n",
       "    <tr>\n",
       "      <th>21</th>\n",
       "      <td>International Military Tribunal</td>\n",
       "      <td>Criminal prosecutions of Nazi German officials...</td>\n",
       "      <td>Nuremberg, post-war Germany</td>\n",
       "      <td>1945–1946</td>\n",
       "    </tr>\n",
       "    <tr>\n",
       "      <th>22</th>\n",
       "      <td>International Military Tribunal for the Far East</td>\n",
       "      <td>Criminal prosecutions of Imperial Japanese off...</td>\n",
       "      <td>Tokyo, Japan</td>\n",
       "      <td>1946−1948</td>\n",
       "    </tr>\n",
       "    <tr>\n",
       "      <th>23</th>\n",
       "      <td>International Residual Mechanism for Criminal ...</td>\n",
       "      <td>Completing the Rwanda and Yugoslav Tribunals' ...</td>\n",
       "      <td>The Hague, Netherlands</td>\n",
       "      <td>2012−present</td>\n",
       "    </tr>\n",
       "    <tr>\n",
       "      <th>24</th>\n",
       "      <td>International Tribunal for the Law of the Sea</td>\n",
       "      <td>Maritime disputes globally (UNCLOS)</td>\n",
       "      <td>Hamburg, Germany</td>\n",
       "      <td>1994–present</td>\n",
       "    </tr>\n",
       "    <tr>\n",
       "      <th>25</th>\n",
       "      <td>Permanent Court of International Justice</td>\n",
       "      <td>General disputes globally (League of Nations)</td>\n",
       "      <td>The Hague, Netherlands</td>\n",
       "      <td>1922–1946</td>\n",
       "    </tr>\n",
       "    <tr>\n",
       "      <th>26</th>\n",
       "      <td>Residual Special Court for Sierra Leone</td>\n",
       "      <td>Completing the Special Court for Sierra Leone'...</td>\n",
       "      <td>Freetown, Sierra Leone</td>\n",
       "      <td>2013−present</td>\n",
       "    </tr>\n",
       "    <tr>\n",
       "      <th>27</th>\n",
       "      <td>SADC Tribunal</td>\n",
       "      <td>Interpretation of Southern African Development...</td>\n",
       "      <td>Windhoek, Namibia</td>\n",
       "      <td>2005–2012</td>\n",
       "    </tr>\n",
       "    <tr>\n",
       "      <th>28</th>\n",
       "      <td>Special Court for Sierra Leone</td>\n",
       "      <td>Criminal prosecutions for the Sierra Leone Civ...</td>\n",
       "      <td>Freetown, Sierra Leone</td>\n",
       "      <td>2002−2013</td>\n",
       "    </tr>\n",
       "    <tr>\n",
       "      <th>29</th>\n",
       "      <td>Special Tribunal for Lebanon</td>\n",
       "      <td>Criminal prosecutions for the assassination of...</td>\n",
       "      <td>Leidschendam, Netherlands</td>\n",
       "      <td>2009−present</td>\n",
       "    </tr>\n",
       "  </tbody>\n",
       "</table>\n",
       "</div>"
      ],
      "text/plain": [
       "                                                 Name  \\\n",
       "0          African Court on Human and Peoples' Rights   \n",
       "1      Appellate Body of the World Trade Organization   \n",
       "2                            Benelux Court of Justice   \n",
       "3                          Caribbean Court of Justice   \n",
       "4                                  CIS Economic Court   \n",
       "5                             COMESA Court of Justice   \n",
       "6   Common Court of Justice and Arbitration of the...   \n",
       "7            Court of Justice of the Andean Community   \n",
       "8                Court of the Eurasian Economic Union   \n",
       "9                       East African Court of Justice   \n",
       "10                    Eastern Caribbean Supreme Court   \n",
       "11                            ECOWAS Court of Justice   \n",
       "12                     European Court of Human Rights   \n",
       "13                          European Court of Justice   \n",
       "14              European Free Trade Association Court   \n",
       "15                   European Nuclear Energy Tribunal   \n",
       "16               Inter-American Court of Human Rights   \n",
       "17                     International Court of Justice   \n",
       "18                       International Criminal Court   \n",
       "19         International Criminal Tribunal for Rwanda   \n",
       "20  International Criminal Tribunal for the former...   \n",
       "21                    International Military Tribunal   \n",
       "22   International Military Tribunal for the Far East   \n",
       "23  International Residual Mechanism for Criminal ...   \n",
       "24      International Tribunal for the Law of the Sea   \n",
       "25           Permanent Court of International Justice   \n",
       "26            Residual Special Court for Sierra Leone   \n",
       "27                                      SADC Tribunal   \n",
       "28                     Special Court for Sierra Leone   \n",
       "29                       Special Tribunal for Lebanon   \n",
       "\n",
       "                             Subject matter and scope  \\\n",
       "0               Human rights within the African Union   \n",
       "1   Trade disputes within the World Trade Organiza...   \n",
       "2                   Trade disputes within the Benelux   \n",
       "3     General disputes within the Caribbean Community   \n",
       "4   Trade disputes and interpretation of treaties ...   \n",
       "5   Trade disputes within the Common Market for Ea...   \n",
       "6   Interpretation of OHADA treaties and uniform laws   \n",
       "7          Trade disputes within the Andean Community   \n",
       "8   Trade disputes and interpretation of treaties ...   \n",
       "9   Interpretation of East African Community treaties   \n",
       "10  General disputes within the Organisation of Ea...   \n",
       "11  Interpretation of Economic Community of West A...   \n",
       "12          Human rights within the Council of Europe   \n",
       "13               Interpretation of European Union law   \n",
       "14  Interpretation of European Free Trade Associat...   \n",
       "15            Nuclear energy disputes within the OECD   \n",
       "16  Human rights within the Organization of Americ...   \n",
       "17                     General disputes globally (UN)   \n",
       "18      Criminal prosecutions globally (Rome Statute)   \n",
       "19  Criminal prosecutions for the Rwandan genocide...   \n",
       "20   Criminal prosecutions for the Yugoslav Wars (UN)   \n",
       "21  Criminal prosecutions of Nazi German officials...   \n",
       "22  Criminal prosecutions of Imperial Japanese off...   \n",
       "23  Completing the Rwanda and Yugoslav Tribunals' ...   \n",
       "24                Maritime disputes globally (UNCLOS)   \n",
       "25      General disputes globally (League of Nations)   \n",
       "26  Completing the Special Court for Sierra Leone'...   \n",
       "27  Interpretation of Southern African Development...   \n",
       "28  Criminal prosecutions for the Sierra Leone Civ...   \n",
       "29  Criminal prosecutions for the assassination of...   \n",
       "\n",
       "                                         Headquarters  Years active  \n",
       "0   Addis Ababa, Ethiopia (2006–7) Arusha, Tanzani...  2006–present  \n",
       "1                                 Geneva, Switzerland  1995–present  \n",
       "2                                   Brussels, Belgium  1975–present  \n",
       "3                  Port of Spain, Trinidad and Tobago  2005–present  \n",
       "4                                      Minsk, Belarus  1994–present  \n",
       "5                                     Khartoum, Sudan  1998–present  \n",
       "6                                Abidjan, Ivory Coast  1998–present  \n",
       "7                                      Quito, Ecuador  1983–present  \n",
       "8                                      Minsk, Belarus  2015–present  \n",
       "9                                    Arusha, Tanzania  2001–present  \n",
       "10                              Castries, Saint Lucia  1967–present  \n",
       "11                                     Abuja, Nigeria  1996–present  \n",
       "12                                 Strasbourg, France  1959–present  \n",
       "13                        Luxembourg City, Luxembourg  1952–present  \n",
       "14                        Luxembourg City, Luxembourg  1994–present  \n",
       "15                                      Paris, France  1960–present  \n",
       "16                               San José, Costa Rica  1979–present  \n",
       "17                             The Hague, Netherlands  1945–present  \n",
       "18                             The Hague, Netherlands  2002–present  \n",
       "19                                   Arusha, Tanzania     1994−2015  \n",
       "20                             The Hague, Netherlands     1993−2017  \n",
       "21                        Nuremberg, post-war Germany     1945–1946  \n",
       "22                                       Tokyo, Japan     1946−1948  \n",
       "23                             The Hague, Netherlands  2012−present  \n",
       "24                                   Hamburg, Germany  1994–present  \n",
       "25                             The Hague, Netherlands     1922–1946  \n",
       "26                             Freetown, Sierra Leone  2013−present  \n",
       "27                                  Windhoek, Namibia     2005–2012  \n",
       "28                             Freetown, Sierra Leone     2002−2013  \n",
       "29                          Leidschendam, Netherlands  2009−present  "
      ]
     },
     "execution_count": 12,
     "metadata": {},
     "output_type": "execute_result"
    }
   ],
   "source": [
    "df_ic"
   ]
  },
  {
   "cell_type": "markdown",
   "metadata": {
    "id": "095hsXG8xGKL"
   },
   "source": [
    "## Text modifying\n",
    "\n",
    "We will try to extract the year of foundation."
   ]
  },
  {
   "cell_type": "markdown",
   "metadata": {
    "id": "7XFpt13exbhK"
   },
   "source": [
    "### Simple method\n",
    "\n",
    "- use `*.str.slice()`"
   ]
  },
  {
   "cell_type": "code",
   "execution_count": null,
   "metadata": {
    "id": "Uu96tJUvxaht"
   },
   "outputs": [],
   "source": []
  },
  {
   "cell_type": "markdown",
   "metadata": {
    "id": "nzHUSgIbxedx"
   },
   "source": [
    "### Using regular expression\n",
    "\n",
    "Regular expression is really a powerful tool for extracting/modifying text in programming. There are several great introductions:\n",
    "\n",
    "1. LinkedIn Learning (NLP with Python for Machine Learning Essential Training)\n",
    "  - https://www.linkedin.com/learning/nlp-with-python-for-machine-learning-essential-training/what-are-regular-expressions\n",
    "  - https://www.linkedin.com/learning/nlp-with-python-for-machine-learning-essential-training/learning-how-to-use-regular-expressions\n",
    "  - https://www.linkedin.com/learning/nlp-with-python-for-machine-learning-essential-training/regular-expression-replacements\n",
    "\n",
    "2. YouTube\n",
    "  - https://www.youtube.com/watch?v=K8L6KVGG-7o"
   ]
  },
  {
   "cell_type": "code",
   "execution_count": 13,
   "metadata": {
    "id": "rzPu0B4XxhOp"
   },
   "outputs": [],
   "source": [
    "years = df_ic['Years active']"
   ]
  },
  {
   "cell_type": "code",
   "execution_count": 14,
   "metadata": {
    "id": "dwPHb2HNM-TY"
   },
   "outputs": [],
   "source": [
    "df_years = years.str.extract(r'(\\d{4}).(.+)')"
   ]
  },
  {
   "cell_type": "code",
   "execution_count": 15,
   "metadata": {
    "id": "Fpo9BMo9NPaM"
   },
   "outputs": [],
   "source": [
    "df_years.rename({0: \"start\", 1: \"end\"}, axis = 1, inplace = True)"
   ]
  },
  {
   "cell_type": "code",
   "execution_count": 16,
   "metadata": {
    "id": "W8d3A7Ke-J6k"
   },
   "outputs": [],
   "source": [
    "df_ic['Founded'] = df_ic['Years active'].str.extract(r'^(\\d{4})').astype(int)"
   ]
  },
  {
   "cell_type": "code",
   "execution_count": 17,
   "metadata": {
    "id": "dwevAD_0-Vf0",
    "scrolled": true
   },
   "outputs": [
    {
     "data": {
      "text/html": [
       "<div>\n",
       "<style scoped>\n",
       "    .dataframe tbody tr th:only-of-type {\n",
       "        vertical-align: middle;\n",
       "    }\n",
       "\n",
       "    .dataframe tbody tr th {\n",
       "        vertical-align: top;\n",
       "    }\n",
       "\n",
       "    .dataframe thead th {\n",
       "        text-align: right;\n",
       "    }\n",
       "</style>\n",
       "<table border=\"1\" class=\"dataframe\">\n",
       "  <thead>\n",
       "    <tr style=\"text-align: right;\">\n",
       "      <th></th>\n",
       "      <th>Name</th>\n",
       "      <th>Subject matter and scope</th>\n",
       "      <th>Headquarters</th>\n",
       "      <th>Years active</th>\n",
       "      <th>Founded</th>\n",
       "    </tr>\n",
       "  </thead>\n",
       "  <tbody>\n",
       "    <tr>\n",
       "      <th>0</th>\n",
       "      <td>African Court on Human and Peoples' Rights</td>\n",
       "      <td>Human rights within the African Union</td>\n",
       "      <td>Addis Ababa, Ethiopia (2006–7) Arusha, Tanzani...</td>\n",
       "      <td>2006–present</td>\n",
       "      <td>2006</td>\n",
       "    </tr>\n",
       "    <tr>\n",
       "      <th>1</th>\n",
       "      <td>Appellate Body of the World Trade Organization</td>\n",
       "      <td>Trade disputes within the World Trade Organiza...</td>\n",
       "      <td>Geneva, Switzerland</td>\n",
       "      <td>1995–present</td>\n",
       "      <td>1995</td>\n",
       "    </tr>\n",
       "    <tr>\n",
       "      <th>2</th>\n",
       "      <td>Benelux Court of Justice</td>\n",
       "      <td>Trade disputes within the Benelux</td>\n",
       "      <td>Brussels, Belgium</td>\n",
       "      <td>1975–present</td>\n",
       "      <td>1975</td>\n",
       "    </tr>\n",
       "    <tr>\n",
       "      <th>3</th>\n",
       "      <td>Caribbean Court of Justice</td>\n",
       "      <td>General disputes within the Caribbean Community</td>\n",
       "      <td>Port of Spain, Trinidad and Tobago</td>\n",
       "      <td>2005–present</td>\n",
       "      <td>2005</td>\n",
       "    </tr>\n",
       "    <tr>\n",
       "      <th>4</th>\n",
       "      <td>CIS Economic Court</td>\n",
       "      <td>Trade disputes and interpretation of treaties ...</td>\n",
       "      <td>Minsk, Belarus</td>\n",
       "      <td>1994–present</td>\n",
       "      <td>1994</td>\n",
       "    </tr>\n",
       "    <tr>\n",
       "      <th>5</th>\n",
       "      <td>COMESA Court of Justice</td>\n",
       "      <td>Trade disputes within the Common Market for Ea...</td>\n",
       "      <td>Khartoum, Sudan</td>\n",
       "      <td>1998–present</td>\n",
       "      <td>1998</td>\n",
       "    </tr>\n",
       "    <tr>\n",
       "      <th>6</th>\n",
       "      <td>Common Court of Justice and Arbitration of the...</td>\n",
       "      <td>Interpretation of OHADA treaties and uniform laws</td>\n",
       "      <td>Abidjan, Ivory Coast</td>\n",
       "      <td>1998–present</td>\n",
       "      <td>1998</td>\n",
       "    </tr>\n",
       "    <tr>\n",
       "      <th>7</th>\n",
       "      <td>Court of Justice of the Andean Community</td>\n",
       "      <td>Trade disputes within the Andean Community</td>\n",
       "      <td>Quito, Ecuador</td>\n",
       "      <td>1983–present</td>\n",
       "      <td>1983</td>\n",
       "    </tr>\n",
       "    <tr>\n",
       "      <th>8</th>\n",
       "      <td>Court of the Eurasian Economic Union</td>\n",
       "      <td>Trade disputes and interpretation of treaties ...</td>\n",
       "      <td>Minsk, Belarus</td>\n",
       "      <td>2015–present</td>\n",
       "      <td>2015</td>\n",
       "    </tr>\n",
       "    <tr>\n",
       "      <th>9</th>\n",
       "      <td>East African Court of Justice</td>\n",
       "      <td>Interpretation of East African Community treaties</td>\n",
       "      <td>Arusha, Tanzania</td>\n",
       "      <td>2001–present</td>\n",
       "      <td>2001</td>\n",
       "    </tr>\n",
       "    <tr>\n",
       "      <th>10</th>\n",
       "      <td>Eastern Caribbean Supreme Court</td>\n",
       "      <td>General disputes within the Organisation of Ea...</td>\n",
       "      <td>Castries, Saint Lucia</td>\n",
       "      <td>1967–present</td>\n",
       "      <td>1967</td>\n",
       "    </tr>\n",
       "    <tr>\n",
       "      <th>11</th>\n",
       "      <td>ECOWAS Court of Justice</td>\n",
       "      <td>Interpretation of Economic Community of West A...</td>\n",
       "      <td>Abuja, Nigeria</td>\n",
       "      <td>1996–present</td>\n",
       "      <td>1996</td>\n",
       "    </tr>\n",
       "    <tr>\n",
       "      <th>12</th>\n",
       "      <td>European Court of Human Rights</td>\n",
       "      <td>Human rights within the Council of Europe</td>\n",
       "      <td>Strasbourg, France</td>\n",
       "      <td>1959–present</td>\n",
       "      <td>1959</td>\n",
       "    </tr>\n",
       "    <tr>\n",
       "      <th>13</th>\n",
       "      <td>European Court of Justice</td>\n",
       "      <td>Interpretation of European Union law</td>\n",
       "      <td>Luxembourg City, Luxembourg</td>\n",
       "      <td>1952–present</td>\n",
       "      <td>1952</td>\n",
       "    </tr>\n",
       "    <tr>\n",
       "      <th>14</th>\n",
       "      <td>European Free Trade Association Court</td>\n",
       "      <td>Interpretation of European Free Trade Associat...</td>\n",
       "      <td>Luxembourg City, Luxembourg</td>\n",
       "      <td>1994–present</td>\n",
       "      <td>1994</td>\n",
       "    </tr>\n",
       "    <tr>\n",
       "      <th>15</th>\n",
       "      <td>European Nuclear Energy Tribunal</td>\n",
       "      <td>Nuclear energy disputes within the OECD</td>\n",
       "      <td>Paris, France</td>\n",
       "      <td>1960–present</td>\n",
       "      <td>1960</td>\n",
       "    </tr>\n",
       "    <tr>\n",
       "      <th>16</th>\n",
       "      <td>Inter-American Court of Human Rights</td>\n",
       "      <td>Human rights within the Organization of Americ...</td>\n",
       "      <td>San José, Costa Rica</td>\n",
       "      <td>1979–present</td>\n",
       "      <td>1979</td>\n",
       "    </tr>\n",
       "    <tr>\n",
       "      <th>17</th>\n",
       "      <td>International Court of Justice</td>\n",
       "      <td>General disputes globally (UN)</td>\n",
       "      <td>The Hague, Netherlands</td>\n",
       "      <td>1945–present</td>\n",
       "      <td>1945</td>\n",
       "    </tr>\n",
       "    <tr>\n",
       "      <th>18</th>\n",
       "      <td>International Criminal Court</td>\n",
       "      <td>Criminal prosecutions globally (Rome Statute)</td>\n",
       "      <td>The Hague, Netherlands</td>\n",
       "      <td>2002–present</td>\n",
       "      <td>2002</td>\n",
       "    </tr>\n",
       "    <tr>\n",
       "      <th>19</th>\n",
       "      <td>International Criminal Tribunal for Rwanda</td>\n",
       "      <td>Criminal prosecutions for the Rwandan genocide...</td>\n",
       "      <td>Arusha, Tanzania</td>\n",
       "      <td>1994−2015</td>\n",
       "      <td>1994</td>\n",
       "    </tr>\n",
       "    <tr>\n",
       "      <th>20</th>\n",
       "      <td>International Criminal Tribunal for the former...</td>\n",
       "      <td>Criminal prosecutions for the Yugoslav Wars (UN)</td>\n",
       "      <td>The Hague, Netherlands</td>\n",
       "      <td>1993−2017</td>\n",
       "      <td>1993</td>\n",
       "    </tr>\n",
       "    <tr>\n",
       "      <th>21</th>\n",
       "      <td>International Military Tribunal</td>\n",
       "      <td>Criminal prosecutions of Nazi German officials...</td>\n",
       "      <td>Nuremberg, post-war Germany</td>\n",
       "      <td>1945–1946</td>\n",
       "      <td>1945</td>\n",
       "    </tr>\n",
       "    <tr>\n",
       "      <th>22</th>\n",
       "      <td>International Military Tribunal for the Far East</td>\n",
       "      <td>Criminal prosecutions of Imperial Japanese off...</td>\n",
       "      <td>Tokyo, Japan</td>\n",
       "      <td>1946−1948</td>\n",
       "      <td>1946</td>\n",
       "    </tr>\n",
       "    <tr>\n",
       "      <th>23</th>\n",
       "      <td>International Residual Mechanism for Criminal ...</td>\n",
       "      <td>Completing the Rwanda and Yugoslav Tribunals' ...</td>\n",
       "      <td>The Hague, Netherlands</td>\n",
       "      <td>2012−present</td>\n",
       "      <td>2012</td>\n",
       "    </tr>\n",
       "    <tr>\n",
       "      <th>24</th>\n",
       "      <td>International Tribunal for the Law of the Sea</td>\n",
       "      <td>Maritime disputes globally (UNCLOS)</td>\n",
       "      <td>Hamburg, Germany</td>\n",
       "      <td>1994–present</td>\n",
       "      <td>1994</td>\n",
       "    </tr>\n",
       "    <tr>\n",
       "      <th>25</th>\n",
       "      <td>Permanent Court of International Justice</td>\n",
       "      <td>General disputes globally (League of Nations)</td>\n",
       "      <td>The Hague, Netherlands</td>\n",
       "      <td>1922–1946</td>\n",
       "      <td>1922</td>\n",
       "    </tr>\n",
       "    <tr>\n",
       "      <th>26</th>\n",
       "      <td>Residual Special Court for Sierra Leone</td>\n",
       "      <td>Completing the Special Court for Sierra Leone'...</td>\n",
       "      <td>Freetown, Sierra Leone</td>\n",
       "      <td>2013−present</td>\n",
       "      <td>2013</td>\n",
       "    </tr>\n",
       "    <tr>\n",
       "      <th>27</th>\n",
       "      <td>SADC Tribunal</td>\n",
       "      <td>Interpretation of Southern African Development...</td>\n",
       "      <td>Windhoek, Namibia</td>\n",
       "      <td>2005–2012</td>\n",
       "      <td>2005</td>\n",
       "    </tr>\n",
       "    <tr>\n",
       "      <th>28</th>\n",
       "      <td>Special Court for Sierra Leone</td>\n",
       "      <td>Criminal prosecutions for the Sierra Leone Civ...</td>\n",
       "      <td>Freetown, Sierra Leone</td>\n",
       "      <td>2002−2013</td>\n",
       "      <td>2002</td>\n",
       "    </tr>\n",
       "    <tr>\n",
       "      <th>29</th>\n",
       "      <td>Special Tribunal for Lebanon</td>\n",
       "      <td>Criminal prosecutions for the assassination of...</td>\n",
       "      <td>Leidschendam, Netherlands</td>\n",
       "      <td>2009−present</td>\n",
       "      <td>2009</td>\n",
       "    </tr>\n",
       "  </tbody>\n",
       "</table>\n",
       "</div>"
      ],
      "text/plain": [
       "                                                 Name  \\\n",
       "0          African Court on Human and Peoples' Rights   \n",
       "1      Appellate Body of the World Trade Organization   \n",
       "2                            Benelux Court of Justice   \n",
       "3                          Caribbean Court of Justice   \n",
       "4                                  CIS Economic Court   \n",
       "5                             COMESA Court of Justice   \n",
       "6   Common Court of Justice and Arbitration of the...   \n",
       "7            Court of Justice of the Andean Community   \n",
       "8                Court of the Eurasian Economic Union   \n",
       "9                       East African Court of Justice   \n",
       "10                    Eastern Caribbean Supreme Court   \n",
       "11                            ECOWAS Court of Justice   \n",
       "12                     European Court of Human Rights   \n",
       "13                          European Court of Justice   \n",
       "14              European Free Trade Association Court   \n",
       "15                   European Nuclear Energy Tribunal   \n",
       "16               Inter-American Court of Human Rights   \n",
       "17                     International Court of Justice   \n",
       "18                       International Criminal Court   \n",
       "19         International Criminal Tribunal for Rwanda   \n",
       "20  International Criminal Tribunal for the former...   \n",
       "21                    International Military Tribunal   \n",
       "22   International Military Tribunal for the Far East   \n",
       "23  International Residual Mechanism for Criminal ...   \n",
       "24      International Tribunal for the Law of the Sea   \n",
       "25           Permanent Court of International Justice   \n",
       "26            Residual Special Court for Sierra Leone   \n",
       "27                                      SADC Tribunal   \n",
       "28                     Special Court for Sierra Leone   \n",
       "29                       Special Tribunal for Lebanon   \n",
       "\n",
       "                             Subject matter and scope  \\\n",
       "0               Human rights within the African Union   \n",
       "1   Trade disputes within the World Trade Organiza...   \n",
       "2                   Trade disputes within the Benelux   \n",
       "3     General disputes within the Caribbean Community   \n",
       "4   Trade disputes and interpretation of treaties ...   \n",
       "5   Trade disputes within the Common Market for Ea...   \n",
       "6   Interpretation of OHADA treaties and uniform laws   \n",
       "7          Trade disputes within the Andean Community   \n",
       "8   Trade disputes and interpretation of treaties ...   \n",
       "9   Interpretation of East African Community treaties   \n",
       "10  General disputes within the Organisation of Ea...   \n",
       "11  Interpretation of Economic Community of West A...   \n",
       "12          Human rights within the Council of Europe   \n",
       "13               Interpretation of European Union law   \n",
       "14  Interpretation of European Free Trade Associat...   \n",
       "15            Nuclear energy disputes within the OECD   \n",
       "16  Human rights within the Organization of Americ...   \n",
       "17                     General disputes globally (UN)   \n",
       "18      Criminal prosecutions globally (Rome Statute)   \n",
       "19  Criminal prosecutions for the Rwandan genocide...   \n",
       "20   Criminal prosecutions for the Yugoslav Wars (UN)   \n",
       "21  Criminal prosecutions of Nazi German officials...   \n",
       "22  Criminal prosecutions of Imperial Japanese off...   \n",
       "23  Completing the Rwanda and Yugoslav Tribunals' ...   \n",
       "24                Maritime disputes globally (UNCLOS)   \n",
       "25      General disputes globally (League of Nations)   \n",
       "26  Completing the Special Court for Sierra Leone'...   \n",
       "27  Interpretation of Southern African Development...   \n",
       "28  Criminal prosecutions for the Sierra Leone Civ...   \n",
       "29  Criminal prosecutions for the assassination of...   \n",
       "\n",
       "                                         Headquarters  Years active  Founded  \n",
       "0   Addis Ababa, Ethiopia (2006–7) Arusha, Tanzani...  2006–present     2006  \n",
       "1                                 Geneva, Switzerland  1995–present     1995  \n",
       "2                                   Brussels, Belgium  1975–present     1975  \n",
       "3                  Port of Spain, Trinidad and Tobago  2005–present     2005  \n",
       "4                                      Minsk, Belarus  1994–present     1994  \n",
       "5                                     Khartoum, Sudan  1998–present     1998  \n",
       "6                                Abidjan, Ivory Coast  1998–present     1998  \n",
       "7                                      Quito, Ecuador  1983–present     1983  \n",
       "8                                      Minsk, Belarus  2015–present     2015  \n",
       "9                                    Arusha, Tanzania  2001–present     2001  \n",
       "10                              Castries, Saint Lucia  1967–present     1967  \n",
       "11                                     Abuja, Nigeria  1996–present     1996  \n",
       "12                                 Strasbourg, France  1959–present     1959  \n",
       "13                        Luxembourg City, Luxembourg  1952–present     1952  \n",
       "14                        Luxembourg City, Luxembourg  1994–present     1994  \n",
       "15                                      Paris, France  1960–present     1960  \n",
       "16                               San José, Costa Rica  1979–present     1979  \n",
       "17                             The Hague, Netherlands  1945–present     1945  \n",
       "18                             The Hague, Netherlands  2002–present     2002  \n",
       "19                                   Arusha, Tanzania     1994−2015     1994  \n",
       "20                             The Hague, Netherlands     1993−2017     1993  \n",
       "21                        Nuremberg, post-war Germany     1945–1946     1945  \n",
       "22                                       Tokyo, Japan     1946−1948     1946  \n",
       "23                             The Hague, Netherlands  2012−present     2012  \n",
       "24                                   Hamburg, Germany  1994–present     1994  \n",
       "25                             The Hague, Netherlands     1922–1946     1922  \n",
       "26                             Freetown, Sierra Leone  2013−present     2013  \n",
       "27                                  Windhoek, Namibia     2005–2012     2005  \n",
       "28                             Freetown, Sierra Leone     2002−2013     2002  \n",
       "29                          Leidschendam, Netherlands  2009−present     2009  "
      ]
     },
     "execution_count": 17,
     "metadata": {},
     "output_type": "execute_result"
    }
   ],
   "source": [
    "df_ic"
   ]
  },
  {
   "cell_type": "markdown",
   "metadata": {
    "id": "9aGfL1UW-Uq2"
   },
   "source": []
  },
  {
   "cell_type": "markdown",
   "metadata": {
    "id": "KX70K45rzvM7"
   },
   "source": [
    "## Save the data"
   ]
  },
  {
   "cell_type": "code",
   "execution_count": 18,
   "metadata": {
    "id": "Q-vuZccvzu9C"
   },
   "outputs": [],
   "source": [
    "df_ic.to_csv(\"data_iternational_court.csv\")"
   ]
  },
  {
   "cell_type": "markdown",
   "metadata": {
    "id": "c4gvELbYy2J3"
   },
   "source": [
    "# List of MEPs\n",
    "\n",
    "In this part of demo, we will create a list of the Members of European Parliament (MEPs).\n",
    "\n",
    "The base url (list of MEPs with family name starting with letter 'a') is here:\n",
    "https://www.europarl.europa.eu/meps/en/full-list/a"
   ]
  },
  {
   "cell_type": "markdown",
   "metadata": {
    "id": "bbs0ztWLy6ko"
   },
   "source": [
    "## Extract names\n",
    "\n",
    "- Scenario 2\n",
    "  - `bs.select()` then `item.get_text()`"
   ]
  },
  {
   "cell_type": "code",
   "execution_count": 19,
   "metadata": {
    "id": "5d_DIDE6y6Ap"
   },
   "outputs": [],
   "source": [
    "url = \"https://www.europarl.europa.eu/meps/en/full-list/a\"\n",
    "html = urlopen(url)\n",
    "bs = BeautifulSoup(html, \"html.parser\")"
   ]
  },
  {
   "cell_type": "code",
   "execution_count": 20,
   "metadata": {
    "id": "78OLcVsL_TCo"
   },
   "outputs": [
    {
     "ename": "SelectorSyntaxError",
     "evalue": "Expected a selector at position 0\n  line 1:\n\n^",
     "output_type": "error",
     "traceback": [
      "\u001b[0;31m---------------------------------------------------------------------------\u001b[0m",
      "\u001b[0;31mSelectorSyntaxError\u001b[0m                       Traceback (most recent call last)",
      "Cell \u001b[0;32mIn[20], line 1\u001b[0m\n\u001b[0;32m----> 1\u001b[0m names \u001b[38;5;241m=\u001b[39m \u001b[43mbs\u001b[49m\u001b[38;5;241;43m.\u001b[39;49m\u001b[43mselect\u001b[49m\u001b[43m(\u001b[49m\u001b[38;5;124;43m'\u001b[39;49m\u001b[38;5;124;43m'\u001b[39;49m\u001b[43m)\u001b[49m\n",
      "File \u001b[0;32m/usr/local/Cellar/jupyterlab/4.0.7_1/libexec/lib/python3.11/site-packages/bs4/element.py:2111\u001b[0m, in \u001b[0;36mTag.select\u001b[0;34m(self, selector, namespaces, limit, **kwargs)\u001b[0m\n\u001b[1;32m   2091\u001b[0m \u001b[38;5;28;01mdef\u001b[39;00m \u001b[38;5;21mselect\u001b[39m(\u001b[38;5;28mself\u001b[39m, selector, namespaces\u001b[38;5;241m=\u001b[39m\u001b[38;5;28;01mNone\u001b[39;00m, limit\u001b[38;5;241m=\u001b[39m\u001b[38;5;28;01mNone\u001b[39;00m, \u001b[38;5;241m*\u001b[39m\u001b[38;5;241m*\u001b[39mkwargs):\n\u001b[1;32m   2092\u001b[0m \u001b[38;5;250m    \u001b[39m\u001b[38;5;124;03m\"\"\"Perform a CSS selection operation on the current element.\u001b[39;00m\n\u001b[1;32m   2093\u001b[0m \n\u001b[1;32m   2094\u001b[0m \u001b[38;5;124;03m    This uses the SoupSieve library.\u001b[39;00m\n\u001b[0;32m   (...)\u001b[0m\n\u001b[1;32m   2109\u001b[0m \u001b[38;5;124;03m    :rtype: bs4.element.ResultSet\u001b[39;00m\n\u001b[1;32m   2110\u001b[0m \u001b[38;5;124;03m    \"\"\"\u001b[39;00m\n\u001b[0;32m-> 2111\u001b[0m     \u001b[38;5;28;01mreturn\u001b[39;00m \u001b[38;5;28;43mself\u001b[39;49m\u001b[38;5;241;43m.\u001b[39;49m\u001b[43mcss\u001b[49m\u001b[38;5;241;43m.\u001b[39;49m\u001b[43mselect\u001b[49m\u001b[43m(\u001b[49m\u001b[43mselector\u001b[49m\u001b[43m,\u001b[49m\u001b[43m \u001b[49m\u001b[43mnamespaces\u001b[49m\u001b[43m,\u001b[49m\u001b[43m \u001b[49m\u001b[43mlimit\u001b[49m\u001b[43m,\u001b[49m\u001b[43m \u001b[49m\u001b[38;5;241;43m*\u001b[39;49m\u001b[38;5;241;43m*\u001b[39;49m\u001b[43mkwargs\u001b[49m\u001b[43m)\u001b[49m\n",
      "File \u001b[0;32m/usr/local/Cellar/jupyterlab/4.0.7_1/libexec/lib/python3.11/site-packages/bs4/css.py:162\u001b[0m, in \u001b[0;36mCSS.select\u001b[0;34m(self, select, namespaces, limit, flags, **kwargs)\u001b[0m\n\u001b[1;32m    158\u001b[0m \u001b[38;5;28;01mif\u001b[39;00m limit \u001b[38;5;129;01mis\u001b[39;00m \u001b[38;5;28;01mNone\u001b[39;00m:\n\u001b[1;32m    159\u001b[0m     limit \u001b[38;5;241m=\u001b[39m \u001b[38;5;241m0\u001b[39m\n\u001b[1;32m    161\u001b[0m \u001b[38;5;28;01mreturn\u001b[39;00m \u001b[38;5;28mself\u001b[39m\u001b[38;5;241m.\u001b[39m_rs(\n\u001b[0;32m--> 162\u001b[0m     \u001b[38;5;28;43mself\u001b[39;49m\u001b[38;5;241;43m.\u001b[39;49m\u001b[43mapi\u001b[49m\u001b[38;5;241;43m.\u001b[39;49m\u001b[43mselect\u001b[49m\u001b[43m(\u001b[49m\n\u001b[1;32m    163\u001b[0m \u001b[43m        \u001b[49m\u001b[43mselect\u001b[49m\u001b[43m,\u001b[49m\u001b[43m \u001b[49m\u001b[38;5;28;43mself\u001b[39;49m\u001b[38;5;241;43m.\u001b[39;49m\u001b[43mtag\u001b[49m\u001b[43m,\u001b[49m\u001b[43m \u001b[49m\u001b[38;5;28;43mself\u001b[39;49m\u001b[38;5;241;43m.\u001b[39;49m\u001b[43m_ns\u001b[49m\u001b[43m(\u001b[49m\u001b[43mnamespaces\u001b[49m\u001b[43m,\u001b[49m\u001b[43m \u001b[49m\u001b[43mselect\u001b[49m\u001b[43m)\u001b[49m\u001b[43m,\u001b[49m\u001b[43m \u001b[49m\u001b[43mlimit\u001b[49m\u001b[43m,\u001b[49m\u001b[43m \u001b[49m\u001b[43mflags\u001b[49m\u001b[43m,\u001b[49m\n\u001b[1;32m    164\u001b[0m \u001b[43m        \u001b[49m\u001b[38;5;241;43m*\u001b[39;49m\u001b[38;5;241;43m*\u001b[39;49m\u001b[43mkwargs\u001b[49m\n\u001b[1;32m    165\u001b[0m \u001b[43m    \u001b[49m\u001b[43m)\u001b[49m\n\u001b[1;32m    166\u001b[0m )\n",
      "File \u001b[0;32m/usr/local/Cellar/jupyterlab/4.0.7_1/libexec/lib/python3.11/site-packages/soupsieve/__init__.py:147\u001b[0m, in \u001b[0;36mselect\u001b[0;34m(select, tag, namespaces, limit, flags, custom, **kwargs)\u001b[0m\n\u001b[1;32m    135\u001b[0m \u001b[38;5;28;01mdef\u001b[39;00m \u001b[38;5;21mselect\u001b[39m(\n\u001b[1;32m    136\u001b[0m     select: \u001b[38;5;28mstr\u001b[39m,\n\u001b[1;32m    137\u001b[0m     tag: bs4\u001b[38;5;241m.\u001b[39mTag,\n\u001b[0;32m   (...)\u001b[0m\n\u001b[1;32m    143\u001b[0m     \u001b[38;5;241m*\u001b[39m\u001b[38;5;241m*\u001b[39mkwargs: Any\n\u001b[1;32m    144\u001b[0m ) \u001b[38;5;241m-\u001b[39m\u001b[38;5;241m>\u001b[39m \u001b[38;5;28mlist\u001b[39m[bs4\u001b[38;5;241m.\u001b[39mTag]:\n\u001b[1;32m    145\u001b[0m \u001b[38;5;250m    \u001b[39m\u001b[38;5;124;03m\"\"\"Select the specified tags.\"\"\"\u001b[39;00m\n\u001b[0;32m--> 147\u001b[0m     \u001b[38;5;28;01mreturn\u001b[39;00m \u001b[38;5;28;43mcompile\u001b[39;49m\u001b[43m(\u001b[49m\u001b[43mselect\u001b[49m\u001b[43m,\u001b[49m\u001b[43m \u001b[49m\u001b[43mnamespaces\u001b[49m\u001b[43m,\u001b[49m\u001b[43m \u001b[49m\u001b[43mflags\u001b[49m\u001b[43m,\u001b[49m\u001b[43m \u001b[49m\u001b[38;5;241;43m*\u001b[39;49m\u001b[38;5;241;43m*\u001b[39;49m\u001b[43mkwargs\u001b[49m\u001b[43m)\u001b[49m\u001b[38;5;241m.\u001b[39mselect(tag, limit)\n",
      "File \u001b[0;32m/usr/local/Cellar/jupyterlab/4.0.7_1/libexec/lib/python3.11/site-packages/soupsieve/__init__.py:65\u001b[0m, in \u001b[0;36mcompile\u001b[0;34m(pattern, namespaces, flags, custom, **kwargs)\u001b[0m\n\u001b[1;32m     62\u001b[0m         \u001b[38;5;28;01mraise\u001b[39;00m \u001b[38;5;167;01mValueError\u001b[39;00m(\u001b[38;5;124m\"\u001b[39m\u001b[38;5;124mCannot process \u001b[39m\u001b[38;5;124m'\u001b[39m\u001b[38;5;124mcustom\u001b[39m\u001b[38;5;124m'\u001b[39m\u001b[38;5;124m argument on a compiled selector list\u001b[39m\u001b[38;5;124m\"\u001b[39m)\n\u001b[1;32m     63\u001b[0m     \u001b[38;5;28;01mreturn\u001b[39;00m pattern\n\u001b[0;32m---> 65\u001b[0m \u001b[38;5;28;01mreturn\u001b[39;00m \u001b[43mcp\u001b[49m\u001b[38;5;241;43m.\u001b[39;49m\u001b[43m_cached_css_compile\u001b[49m\u001b[43m(\u001b[49m\n\u001b[1;32m     66\u001b[0m \u001b[43m    \u001b[49m\u001b[43mpattern\u001b[49m\u001b[43m,\u001b[49m\n\u001b[1;32m     67\u001b[0m \u001b[43m    \u001b[49m\u001b[43mct\u001b[49m\u001b[38;5;241;43m.\u001b[39;49m\u001b[43mNamespaces\u001b[49m\u001b[43m(\u001b[49m\u001b[43mnamespaces\u001b[49m\u001b[43m)\u001b[49m\u001b[43m \u001b[49m\u001b[38;5;28;43;01mif\u001b[39;49;00m\u001b[43m \u001b[49m\u001b[43mnamespaces\u001b[49m\u001b[43m \u001b[49m\u001b[38;5;129;43;01mis\u001b[39;49;00m\u001b[43m \u001b[49m\u001b[38;5;129;43;01mnot\u001b[39;49;00m\u001b[43m \u001b[49m\u001b[38;5;28;43;01mNone\u001b[39;49;00m\u001b[43m \u001b[49m\u001b[38;5;28;43;01melse\u001b[39;49;00m\u001b[43m \u001b[49m\u001b[43mnamespaces\u001b[49m\u001b[43m,\u001b[49m\n\u001b[1;32m     68\u001b[0m \u001b[43m    \u001b[49m\u001b[43mct\u001b[49m\u001b[38;5;241;43m.\u001b[39;49m\u001b[43mCustomSelectors\u001b[49m\u001b[43m(\u001b[49m\u001b[43mcustom\u001b[49m\u001b[43m)\u001b[49m\u001b[43m \u001b[49m\u001b[38;5;28;43;01mif\u001b[39;49;00m\u001b[43m \u001b[49m\u001b[43mcustom\u001b[49m\u001b[43m \u001b[49m\u001b[38;5;129;43;01mis\u001b[39;49;00m\u001b[43m \u001b[49m\u001b[38;5;129;43;01mnot\u001b[39;49;00m\u001b[43m \u001b[49m\u001b[38;5;28;43;01mNone\u001b[39;49;00m\u001b[43m \u001b[49m\u001b[38;5;28;43;01melse\u001b[39;49;00m\u001b[43m \u001b[49m\u001b[43mcustom\u001b[49m\u001b[43m,\u001b[49m\n\u001b[1;32m     69\u001b[0m \u001b[43m    \u001b[49m\u001b[43mflags\u001b[49m\n\u001b[1;32m     70\u001b[0m \u001b[43m\u001b[49m\u001b[43m)\u001b[49m\n",
      "File \u001b[0;32m/usr/local/Cellar/jupyterlab/4.0.7_1/libexec/lib/python3.11/site-packages/soupsieve/css_parser.py:208\u001b[0m, in \u001b[0;36m_cached_css_compile\u001b[0;34m(pattern, namespaces, custom, flags)\u001b[0m\n\u001b[1;32m    199\u001b[0m \u001b[38;5;250m\u001b[39m\u001b[38;5;124;03m\"\"\"Cached CSS compile.\"\"\"\u001b[39;00m\n\u001b[1;32m    201\u001b[0m custom_selectors \u001b[38;5;241m=\u001b[39m process_custom(custom)\n\u001b[1;32m    202\u001b[0m \u001b[38;5;28;01mreturn\u001b[39;00m cm\u001b[38;5;241m.\u001b[39mSoupSieve(\n\u001b[1;32m    203\u001b[0m     pattern,\n\u001b[1;32m    204\u001b[0m     \u001b[43mCSSParser\u001b[49m\u001b[43m(\u001b[49m\n\u001b[1;32m    205\u001b[0m \u001b[43m        \u001b[49m\u001b[43mpattern\u001b[49m\u001b[43m,\u001b[49m\n\u001b[1;32m    206\u001b[0m \u001b[43m        \u001b[49m\u001b[43mcustom\u001b[49m\u001b[38;5;241;43m=\u001b[39;49m\u001b[43mcustom_selectors\u001b[49m\u001b[43m,\u001b[49m\n\u001b[1;32m    207\u001b[0m \u001b[43m        \u001b[49m\u001b[43mflags\u001b[49m\u001b[38;5;241;43m=\u001b[39;49m\u001b[43mflags\u001b[49m\n\u001b[0;32m--> 208\u001b[0m \u001b[43m    \u001b[49m\u001b[43m)\u001b[49m\u001b[38;5;241;43m.\u001b[39;49m\u001b[43mprocess_selectors\u001b[49m\u001b[43m(\u001b[49m\u001b[43m)\u001b[49m,\n\u001b[1;32m    209\u001b[0m     namespaces,\n\u001b[1;32m    210\u001b[0m     custom,\n\u001b[1;32m    211\u001b[0m     flags\n\u001b[1;32m    212\u001b[0m )\n",
      "File \u001b[0;32m/usr/local/Cellar/jupyterlab/4.0.7_1/libexec/lib/python3.11/site-packages/soupsieve/css_parser.py:1129\u001b[0m, in \u001b[0;36mCSSParser.process_selectors\u001b[0;34m(self, index, flags)\u001b[0m\n\u001b[1;32m   1126\u001b[0m \u001b[38;5;28;01mdef\u001b[39;00m \u001b[38;5;21mprocess_selectors\u001b[39m(\u001b[38;5;28mself\u001b[39m, index: \u001b[38;5;28mint\u001b[39m \u001b[38;5;241m=\u001b[39m \u001b[38;5;241m0\u001b[39m, flags: \u001b[38;5;28mint\u001b[39m \u001b[38;5;241m=\u001b[39m \u001b[38;5;241m0\u001b[39m) \u001b[38;5;241m-\u001b[39m\u001b[38;5;241m>\u001b[39m ct\u001b[38;5;241m.\u001b[39mSelectorList:\n\u001b[1;32m   1127\u001b[0m \u001b[38;5;250m    \u001b[39m\u001b[38;5;124;03m\"\"\"Process selectors.\"\"\"\u001b[39;00m\n\u001b[0;32m-> 1129\u001b[0m     \u001b[38;5;28;01mreturn\u001b[39;00m \u001b[38;5;28;43mself\u001b[39;49m\u001b[38;5;241;43m.\u001b[39;49m\u001b[43mparse_selectors\u001b[49m\u001b[43m(\u001b[49m\u001b[38;5;28;43mself\u001b[39;49m\u001b[38;5;241;43m.\u001b[39;49m\u001b[43mselector_iter\u001b[49m\u001b[43m(\u001b[49m\u001b[38;5;28;43mself\u001b[39;49m\u001b[38;5;241;43m.\u001b[39;49m\u001b[43mpattern\u001b[49m\u001b[43m)\u001b[49m\u001b[43m,\u001b[49m\u001b[43m \u001b[49m\u001b[43mindex\u001b[49m\u001b[43m,\u001b[49m\u001b[43m \u001b[49m\u001b[43mflags\u001b[49m\u001b[43m)\u001b[49m\n",
      "File \u001b[0;32m/usr/local/Cellar/jupyterlab/4.0.7_1/libexec/lib/python3.11/site-packages/soupsieve/css_parser.py:1062\u001b[0m, in \u001b[0;36mCSSParser.parse_selectors\u001b[0;34m(self, iselector, index, flags)\u001b[0m\n\u001b[1;32m   1057\u001b[0m     has_selector \u001b[38;5;241m=\u001b[39m \u001b[38;5;28;01mTrue\u001b[39;00m\n\u001b[1;32m   1059\u001b[0m \u001b[38;5;28;01mif\u001b[39;00m \u001b[38;5;129;01mnot\u001b[39;00m has_selector:\n\u001b[1;32m   1060\u001b[0m     \u001b[38;5;66;03m# We will always need to finish a selector when `:has()` is used as it leads with combining.\u001b[39;00m\n\u001b[1;32m   1061\u001b[0m     \u001b[38;5;66;03m# May apply to others as well.\u001b[39;00m\n\u001b[0;32m-> 1062\u001b[0m     \u001b[38;5;28;01mraise\u001b[39;00m SelectorSyntaxError(\n\u001b[1;32m   1063\u001b[0m         \u001b[38;5;124mf\u001b[39m\u001b[38;5;124m'\u001b[39m\u001b[38;5;124mExpected a selector at position \u001b[39m\u001b[38;5;132;01m{\u001b[39;00mindex\u001b[38;5;132;01m}\u001b[39;00m\u001b[38;5;124m'\u001b[39m,\n\u001b[1;32m   1064\u001b[0m         \u001b[38;5;28mself\u001b[39m\u001b[38;5;241m.\u001b[39mpattern,\n\u001b[1;32m   1065\u001b[0m         index\n\u001b[1;32m   1066\u001b[0m     )\n\u001b[1;32m   1068\u001b[0m \u001b[38;5;66;03m# Some patterns require additional logic, such as default. We try to make these the\u001b[39;00m\n\u001b[1;32m   1069\u001b[0m \u001b[38;5;66;03m# last pattern, and append the appropriate flag to that selector which communicates\u001b[39;00m\n\u001b[1;32m   1070\u001b[0m \u001b[38;5;66;03m# to the matcher what additional logic is required.\u001b[39;00m\n\u001b[1;32m   1071\u001b[0m \u001b[38;5;28;01mif\u001b[39;00m is_default:\n",
      "\u001b[0;31mSelectorSyntaxError\u001b[0m: Expected a selector at position 0\n  line 1:\n\n^"
     ]
    }
   ],
   "source": [
    "names = bs.select('')"
   ]
  },
  {
   "cell_type": "code",
   "execution_count": null,
   "metadata": {
    "id": "hyA0zgkBN4lt"
   },
   "outputs": [],
   "source": []
  },
  {
   "cell_type": "markdown",
   "metadata": {
    "id": "ffwgVYMLy8a4"
   },
   "source": [
    "## Extract political groups and country names"
   ]
  },
  {
   "cell_type": "markdown",
   "metadata": {
    "id": "-Eu2uGsC1tIQ"
   },
   "source": [
    "- Same as above"
   ]
  },
  {
   "cell_type": "code",
   "execution_count": null,
   "metadata": {
    "id": "-cAi1mnO3x0Z"
   },
   "outputs": [],
   "source": []
  },
  {
   "cell_type": "markdown",
   "metadata": {
    "id": "SBu9Hr78zHbi"
   },
   "source": [
    "## Extract party name\n",
    "\n",
    "- Same"
   ]
  },
  {
   "cell_type": "code",
   "execution_count": null,
   "metadata": {
    "id": "eSMLFHytPAEn"
   },
   "outputs": [],
   "source": []
  },
  {
   "cell_type": "markdown",
   "metadata": {
    "id": "CCS0Mp7lzPRf"
   },
   "source": [
    "## Extract link to the individual pages\n",
    "\n",
    "- `bs.select()` then `item['tagname']`"
   ]
  },
  {
   "cell_type": "code",
   "execution_count": null,
   "metadata": {
    "id": "jU0AW4FozVyD"
   },
   "outputs": [],
   "source": []
  },
  {
   "cell_type": "markdown",
   "metadata": {
    "id": "dyquBPsNzX3v"
   },
   "source": [
    "## Combine"
   ]
  },
  {
   "cell_type": "code",
   "execution_count": null,
   "metadata": {
    "id": "q5FzDaGHzXif"
   },
   "outputs": [],
   "source": [
    "df_meps = pd.DataFrame(mep_name, columns = ['names'])\n",
    "\n",
    "## add more variables"
   ]
  },
  {
   "cell_type": "markdown",
   "metadata": {
    "id": "j28wbd97zqVZ"
   },
   "source": [
    "## Save the data"
   ]
  },
  {
   "cell_type": "code",
   "execution_count": null,
   "metadata": {
    "id": "03geCIe3zsES"
   },
   "outputs": [],
   "source": []
  }
 ],
 "metadata": {
  "colab": {
   "provenance": [],
   "toc_visible": true
  },
  "kernelspec": {
   "display_name": "Python 3 (ipykernel)",
   "language": "python",
   "name": "python3"
  },
  "language_info": {
   "codemirror_mode": {
    "name": "ipython",
    "version": 3
   },
   "file_extension": ".py",
   "mimetype": "text/x-python",
   "name": "python",
   "nbconvert_exporter": "python",
   "pygments_lexer": "ipython3",
   "version": "3.11.6"
  }
 },
 "nbformat": 4,
 "nbformat_minor": 4
}
