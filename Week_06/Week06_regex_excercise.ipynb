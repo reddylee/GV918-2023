{
  "nbformat": 4,
  "nbformat_minor": 0,
  "metadata": {
    "colab": {
      "provenance": []
    },
    "kernelspec": {
      "name": "python3",
      "display_name": "Python 3"
    },
    "language_info": {
      "name": "python"
    }
  },
  "cells": [
    {
      "cell_type": "markdown",
      "source": [
        "# Regex exercise\n",
        "\n",
        "We use the following dataset from:\n",
        "https://www.kaggle.com/datasets/gpreda/reddit-vaccine-myths"
      ],
      "metadata": {
        "id": "Lmt7jChwij5S"
      }
    },
    {
      "cell_type": "code",
      "execution_count": null,
      "metadata": {
        "id": "qSNtg4ecifPm"
      },
      "outputs": [],
      "source": [
        "import pandas as pd\n",
        "import re"
      ]
    },
    {
      "cell_type": "code",
      "source": [
        "df_myth = pd.read_csv(\"https://www.dropbox.com/scl/fi/oooz8vktzyimlr0b0mkcn/reddit_vm_sub.csv?rlkey=for1fq6uxuw6h5qttrrvxu8gm&dl=1\")"
      ],
      "metadata": {
        "id": "xhwXgZLojVLf"
      },
      "execution_count": null,
      "outputs": []
    },
    {
      "cell_type": "markdown",
      "source": [
        "Answer following questions using regex:\n",
        "\n",
        "1. How many comments include a word autisum?\n",
        "2. How many comments include a word mercury?\n",
        "3. How many comments use both autism and mercury? Using single regex to answer\n",
        "4. How many comments include URL?\n",
        "5. What are common domains for the link?\n",
        "6. Extract links to NIH. find what are they.\n",
        "\n"
      ],
      "metadata": {
        "id": "Cr4rf__6jmHe"
      }
    },
    {
      "cell_type": "code",
      "source": [],
      "metadata": {
        "id": "a6YBHM7YqlnH"
      },
      "execution_count": null,
      "outputs": []
    }
  ]
}