{
 "cells": [
  {
   "cell_type": "markdown",
   "metadata": {
    "id": "ET9a6mNpuY85"
   },
   "source": [
    "# Task\n",
    "\n",
    "We will parse the example webpage provided in *Web Scraping with Python*, Chapter 2.\n",
    "\n",
    "The url is:\n",
    "\n",
    "http://www.pythonscraping.com/pages/warandpeace.html"
   ]
  },
  {
   "cell_type": "markdown",
   "metadata": {
    "id": "WsePPXubvN03"
   },
   "source": [
    "# Open the webpage in the browser\n",
    "\n",
    "- Check source\n",
    "- Inspect element\n",
    "- Selector Gadget"
   ]
  },
  {
   "cell_type": "markdown",
   "metadata": {
    "id": "oDqoDjAuu01X"
   },
   "source": [
    "# Load packages"
   ]
  },
  {
   "cell_type": "code",
   "execution_count": 1,
   "metadata": {
    "id": "5Mwm3F0Vu0c7"
   },
   "outputs": [],
   "source": [
    "from urllib.request import urlopen\n",
    "from bs4 import BeautifulSoup"
   ]
  },
  {
   "cell_type": "markdown",
   "metadata": {
    "id": "-Ysx_8ASu4p-"
   },
   "source": [
    "# Get the page, put in BeautifulSoup"
   ]
  },
  {
   "cell_type": "code",
   "execution_count": 2,
   "metadata": {
    "id": "RNnAS-IXu4IQ"
   },
   "outputs": [],
   "source": [
    "url = 'http://www.pythonscraping.com/pages/warandpeace.html'\n",
    "html = urlopen(url)"
   ]
  },
  {
   "cell_type": "code",
   "execution_count": 3,
   "metadata": {
    "id": "TOj0N7CI87V_"
   },
   "outputs": [],
   "source": [
    "bs = BeautifulSoup(html, 'html.parser')"
   ]
  },
  {
   "cell_type": "code",
   "execution_count": 5,
   "metadata": {
    "id": "_y_GFYcP9WMF"
   },
   "outputs": [
    {
     "data": {
      "text/plain": [
       "'War and Peace'"
      ]
     },
     "execution_count": 5,
     "metadata": {},
     "output_type": "execute_result"
    }
   ],
   "source": [
    "bs.h1.get_text()"
   ]
  },
  {
   "cell_type": "code",
   "execution_count": 6,
   "metadata": {
    "id": "sQsqfNZo9d_N"
   },
   "outputs": [
    {
     "data": {
      "text/plain": [
       "[<h1>War and Peace</h1>]"
      ]
     },
     "execution_count": 6,
     "metadata": {},
     "output_type": "execute_result"
    }
   ],
   "source": [
    "bs.find_all('h1')"
   ]
  },
  {
   "cell_type": "markdown",
   "metadata": {
    "id": "vcRDuM-BvZAf"
   },
   "source": [
    "# Extract green text"
   ]
  },
  {
   "cell_type": "markdown",
   "metadata": {
    "id": "biNpAJxgveZo"
   },
   "source": [
    "## With `find_all()`\n"
   ]
  },
  {
   "cell_type": "code",
   "execution_count": 7,
   "metadata": {
    "id": "w4m-icNUvYo3"
   },
   "outputs": [],
   "source": [
    "green_tags = bs.findAll('span', {'class': 'green'})"
   ]
  },
  {
   "cell_type": "code",
   "execution_count": null,
   "metadata": {
    "id": "73Qz8BZM-MQe"
   },
   "outputs": [],
   "source": [
    "texts = []\n",
    "for gr in green_tags:\n",
    "  # print(gr.get_text())\n",
    "  texts.append(gr.get_text())\n",
    "texts"
   ]
  },
  {
   "cell_type": "code",
   "execution_count": 8,
   "metadata": {
    "id": "W2YH9pDa_GbQ"
   },
   "outputs": [
    {
     "data": {
      "text/plain": [
       "['Anna\\nPavlovna Scherer',\n",
       " 'Empress Marya\\nFedorovna',\n",
       " 'Prince Vasili Kuragin',\n",
       " 'Anna Pavlovna',\n",
       " 'St. Petersburg',\n",
       " 'the prince',\n",
       " 'Anna Pavlovna',\n",
       " 'Anna Pavlovna',\n",
       " 'the prince',\n",
       " 'the prince',\n",
       " 'the prince',\n",
       " 'Prince Vasili',\n",
       " 'Anna Pavlovna',\n",
       " 'Anna Pavlovna',\n",
       " 'the prince',\n",
       " 'Wintzingerode',\n",
       " 'King of Prussia',\n",
       " 'le Vicomte de Mortemart',\n",
       " 'Montmorencys',\n",
       " 'Rohans',\n",
       " 'Abbe Morio',\n",
       " 'the Emperor',\n",
       " 'the prince',\n",
       " 'Prince Vasili',\n",
       " 'Dowager Empress Marya Fedorovna',\n",
       " 'the baron',\n",
       " 'Anna Pavlovna',\n",
       " 'the Empress',\n",
       " 'the Empress',\n",
       " \"Anna Pavlovna's\",\n",
       " 'Her Majesty',\n",
       " 'Baron\\nFunke',\n",
       " 'The prince',\n",
       " 'Anna\\nPavlovna',\n",
       " 'the Empress',\n",
       " 'The prince',\n",
       " 'Anatole',\n",
       " 'the prince',\n",
       " 'The prince',\n",
       " 'Anna\\nPavlovna',\n",
       " 'Anna Pavlovna']"
      ]
     },
     "execution_count": 8,
     "metadata": {},
     "output_type": "execute_result"
    }
   ],
   "source": [
    "[gr.get_text() for gr in green_tags]"
   ]
  },
  {
   "cell_type": "markdown",
   "metadata": {
    "id": "PU19oJT-viJs"
   },
   "source": [
    "## With CSS selector"
   ]
  },
  {
   "cell_type": "code",
   "execution_count": 9,
   "metadata": {
    "id": "5dmgM1PAuYlY"
   },
   "outputs": [
    {
     "data": {
      "text/plain": [
       "['Anna\\nPavlovna Scherer',\n",
       " 'Empress Marya\\nFedorovna',\n",
       " 'Prince Vasili Kuragin',\n",
       " 'Anna Pavlovna',\n",
       " 'St. Petersburg',\n",
       " 'the prince',\n",
       " 'Anna Pavlovna',\n",
       " 'Anna Pavlovna',\n",
       " 'the prince',\n",
       " 'the prince',\n",
       " 'the prince',\n",
       " 'Prince Vasili',\n",
       " 'Anna Pavlovna',\n",
       " 'Anna Pavlovna',\n",
       " 'the prince',\n",
       " 'Wintzingerode',\n",
       " 'King of Prussia',\n",
       " 'le Vicomte de Mortemart',\n",
       " 'Montmorencys',\n",
       " 'Rohans',\n",
       " 'Abbe Morio',\n",
       " 'the Emperor',\n",
       " 'the prince',\n",
       " 'Prince Vasili',\n",
       " 'Dowager Empress Marya Fedorovna',\n",
       " 'the baron',\n",
       " 'Anna Pavlovna',\n",
       " 'the Empress',\n",
       " 'the Empress',\n",
       " \"Anna Pavlovna's\",\n",
       " 'Her Majesty',\n",
       " 'Baron\\nFunke',\n",
       " 'The prince',\n",
       " 'Anna\\nPavlovna',\n",
       " 'the Empress',\n",
       " 'The prince',\n",
       " 'Anatole',\n",
       " 'the prince',\n",
       " 'The prince',\n",
       " 'Anna\\nPavlovna',\n",
       " 'Anna Pavlovna']"
      ]
     },
     "execution_count": 9,
     "metadata": {},
     "output_type": "execute_result"
    }
   ],
   "source": [
    "[gr.get_text() for gr in bs.select(\"span.green\")]"
   ]
  },
  {
   "cell_type": "markdown",
   "metadata": {
    "id": "pbE9fZ9Ev3FV"
   },
   "source": [
    "# Extract heading text"
   ]
  },
  {
   "cell_type": "markdown",
   "metadata": {
    "id": "j9vbubsRv3FW"
   },
   "source": [
    "## With `findAll()`\n"
   ]
  },
  {
   "cell_type": "code",
   "execution_count": 10,
   "metadata": {
    "id": "QPAfVujYv3FW"
   },
   "outputs": [
    {
     "data": {
      "text/plain": [
       "['War and Peace', 'Chapter 1']"
      ]
     },
     "execution_count": 10,
     "metadata": {},
     "output_type": "execute_result"
    }
   ],
   "source": [
    "h_tags = bs.findAll(['h1', 'h2', 'h3', 'h4'])\n",
    "h_tags\n",
    "[h.getText() for h in h_tags]"
   ]
  },
  {
   "cell_type": "markdown",
   "metadata": {
    "id": "RYQyD2JAv3Fa"
   },
   "source": [
    "## With CSS selector"
   ]
  },
  {
   "cell_type": "code",
   "execution_count": 11,
   "metadata": {
    "id": "6WT-I_sqv3Fb"
   },
   "outputs": [
    {
     "data": {
      "text/plain": [
       "['War and Peace', 'Chapter 1']"
      ]
     },
     "execution_count": 11,
     "metadata": {},
     "output_type": "execute_result"
    }
   ],
   "source": [
    "h_tags = bs.select('h1, h2, h3, h4')\n",
    "h_tags\n",
    "[h.getText() for h in h_tags]"
   ]
  }
 ],
 "metadata": {
  "colab": {
   "provenance": []
  },
  "kernelspec": {
   "display_name": "Python 3 (ipykernel)",
   "language": "python",
   "name": "python3"
  },
  "language_info": {
   "codemirror_mode": {
    "name": "ipython",
    "version": 3
   },
   "file_extension": ".py",
   "mimetype": "text/x-python",
   "name": "python",
   "nbconvert_exporter": "python",
   "pygments_lexer": "ipython3",
   "version": "3.11.6"
  }
 },
 "nbformat": 4,
 "nbformat_minor": 4
}
